{
  "nbformat": 4,
  "nbformat_minor": 0,
  "metadata": {
    "colab": {
      "provenance": [],
      "authorship_tag": "ABX9TyPECaRW1A7wpyVdxnphQcAg",
      "include_colab_link": true
    },
    "kernelspec": {
      "name": "python3",
      "display_name": "Python 3"
    },
    "language_info": {
      "name": "python"
    }
  },
  "cells": [
    {
      "cell_type": "markdown",
      "metadata": {
        "id": "view-in-github",
        "colab_type": "text"
      },
      "source": [
        "<a href=\"https://colab.research.google.com/github/sankets139/AI_Engineering/blob/master/NumPy_Class_09_06_25_.ipynb\" target=\"_parent\"><img src=\"https://colab.research.google.com/assets/colab-badge.svg\" alt=\"Open In Colab\"/></a>"
      ]
    },
    {
      "cell_type": "markdown",
      "source": [
        "# **NumPy - Numerical Python**\n",
        "\n",
        "*   It used to deal with numbers.\n",
        "*   Mainly used to create the arrays and metrices.\n",
        "*   Deal with multi-dimensional data. Can be 2D or 3D   "
      ],
      "metadata": {
        "id": "YY5_noh1vXpa"
      }
    },
    {
      "cell_type": "code",
      "execution_count": null,
      "metadata": {
        "colab": {
          "base_uri": "https://localhost:8080/"
        },
        "id": "0Wk3mM3KufzS",
        "outputId": "3071eebe-ed5b-4688-8f98-e7e78fd7cff1"
      },
      "outputs": [
        {
          "output_type": "stream",
          "name": "stdout",
          "text": [
            "Requirement already satisfied: numpy in /usr/local/lib/python3.11/dist-packages (2.0.2)\n"
          ]
        }
      ],
      "source": [
        "# install packages\n",
        "\n",
        "%pip install numpy"
      ]
    },
    {
      "cell_type": "code",
      "source": [
        "# import packages\n",
        "\n",
        "import numpy as np # np is an alias"
      ],
      "metadata": {
        "id": "hE7YDMQXxFyi"
      },
      "execution_count": null,
      "outputs": []
    },
    {
      "cell_type": "code",
      "source": [
        "# print the version\n",
        "\n",
        "print(np.__version__)"
      ],
      "metadata": {
        "colab": {
          "base_uri": "https://localhost:8080/"
        },
        "id": "l5AO78x6xF2C",
        "outputId": "e6f4e65f-3690-4622-deda-0bff48b948c4"
      },
      "execution_count": null,
      "outputs": [
        {
          "output_type": "stream",
          "name": "stdout",
          "text": [
            "2.0.2\n"
          ]
        }
      ]
    },
    {
      "cell_type": "markdown",
      "source": [
        "# Single Dimensional Data\n",
        "\n",
        "*   array - common name - multiple data with the same data type\n",
        "*   [] same like the List - except the same type of"
      ],
      "metadata": {
        "id": "gfhhJH5yx53P"
      }
    },
    {
      "cell_type": "code",
      "source": [
        "array1D = np.array([23,33,34,45,56,67,44])\n",
        "array1D"
      ],
      "metadata": {
        "colab": {
          "base_uri": "https://localhost:8080/"
        },
        "id": "jsqWOLYBxF5g",
        "outputId": "0ad13239-8135-4fb3-c50f-3460ea029fdb"
      },
      "execution_count": null,
      "outputs": [
        {
          "output_type": "execute_result",
          "data": {
            "text/plain": [
              "array([23, 33, 34, 45, 56, 67, 44])"
            ]
          },
          "metadata": {},
          "execution_count": 12
        }
      ]
    },
    {
      "cell_type": "code",
      "source": [
        "print(array1D)"
      ],
      "metadata": {
        "colab": {
          "base_uri": "https://localhost:8080/"
        },
        "id": "ElcYcWP-xF_Z",
        "outputId": "23c0c30e-d2f2-44b1-cfc4-49b9ddf67d55"
      },
      "execution_count": null,
      "outputs": [
        {
          "output_type": "stream",
          "name": "stdout",
          "text": [
            "[23 33 34 45 56 67 44]\n"
          ]
        }
      ]
    },
    {
      "cell_type": "code",
      "source": [
        "# Find the data type\n",
        "type(array1D)"
      ],
      "metadata": {
        "colab": {
          "base_uri": "https://localhost:8080/"
        },
        "id": "AJMPXrNhxGCT",
        "outputId": "e2f9406f-a64d-4563-d179-7ce16876c362"
      },
      "execution_count": null,
      "outputs": [
        {
          "output_type": "execute_result",
          "data": {
            "text/plain": [
              "numpy.ndarray"
            ]
          },
          "metadata": {},
          "execution_count": 13
        }
      ]
    },
    {
      "cell_type": "code",
      "source": [
        "# Check the dimensions\n",
        "print(array1D.ndim)"
      ],
      "metadata": {
        "colab": {
          "base_uri": "https://localhost:8080/"
        },
        "id": "nlmLwpPhxGFK",
        "outputId": "f1132e8f-2b8c-4d86-d566-1e08131af279"
      },
      "execution_count": null,
      "outputs": [
        {
          "output_type": "stream",
          "name": "stdout",
          "text": [
            "1\n"
          ]
        }
      ]
    },
    {
      "cell_type": "markdown",
      "source": [
        "# 2 Dimension data\n",
        "Rows and Columns\n",
        "\n",
        "[[ ]]"
      ],
      "metadata": {
        "id": "ZS32vdlbzUnT"
      }
    },
    {
      "cell_type": "code",
      "source": [
        "# Create 2 D array\n",
        "\n",
        "array2D = np.array([[1,2,3,4],[33,44,55,66],[6,7,8,9]])\n",
        "array2D"
      ],
      "metadata": {
        "colab": {
          "base_uri": "https://localhost:8080/"
        },
        "id": "GXWH-wmoxGH5",
        "outputId": "d6512729-d0ea-4151-b162-277884b0d1d4"
      },
      "execution_count": null,
      "outputs": [
        {
          "output_type": "execute_result",
          "data": {
            "text/plain": [
              "array([[ 1,  2,  3,  4],\n",
              "       [33, 44, 55, 66],\n",
              "       [ 6,  7,  8,  9]])"
            ]
          },
          "metadata": {},
          "execution_count": 18
        }
      ]
    },
    {
      "cell_type": "code",
      "source": [
        "print(array2D) # 3 rows and 4 columns"
      ],
      "metadata": {
        "colab": {
          "base_uri": "https://localhost:8080/"
        },
        "id": "fidYk_wQxGLJ",
        "outputId": "3f1a94a0-0310-408d-83d1-ee320bac7ea5"
      },
      "execution_count": null,
      "outputs": [
        {
          "output_type": "stream",
          "name": "stdout",
          "text": [
            "[[ 1  2  3  4]\n",
            " [33 44 55 66]\n",
            " [ 6  7  8  9]]\n"
          ]
        }
      ]
    },
    {
      "cell_type": "code",
      "source": [
        "array2D.ndim"
      ],
      "metadata": {
        "colab": {
          "base_uri": "https://localhost:8080/"
        },
        "id": "sWG4tdo7xGNY",
        "outputId": "c32cea7f-34f8-480d-f1f9-298b3f611667"
      },
      "execution_count": null,
      "outputs": [
        {
          "output_type": "execute_result",
          "data": {
            "text/plain": [
              "2"
            ]
          },
          "metadata": {},
          "execution_count": 22
        }
      ]
    },
    {
      "cell_type": "markdown",
      "source": [
        "# 3 Dimensional data\n",
        "[[[ ]]]"
      ],
      "metadata": {
        "id": "1BXajSmX1HFy"
      }
    },
    {
      "cell_type": "code",
      "source": [
        "array3D = np.array([[[1,2,3],[4,5,6],[7,8,9]], [[21,31,41],[11,15,52],[66,14,23]]])\n",
        "array3D"
      ],
      "metadata": {
        "colab": {
          "base_uri": "https://localhost:8080/"
        },
        "id": "LbVQbgooxGQe",
        "outputId": "c09c0672-65f9-41be-c11f-e71b9fe0af30"
      },
      "execution_count": null,
      "outputs": [
        {
          "output_type": "execute_result",
          "data": {
            "text/plain": [
              "array([[[ 1,  2,  3],\n",
              "        [ 4,  5,  6],\n",
              "        [ 7,  8,  9]],\n",
              "\n",
              "       [[21, 31, 41],\n",
              "        [11, 15, 52],\n",
              "        [66, 14, 23]]])"
            ]
          },
          "metadata": {},
          "execution_count": 23
        }
      ]
    },
    {
      "cell_type": "code",
      "source": [
        "print(array3D)"
      ],
      "metadata": {
        "colab": {
          "base_uri": "https://localhost:8080/"
        },
        "id": "-gc3WCXO1Egl",
        "outputId": "3897456c-4ee1-4893-f856-502b54170a58"
      },
      "execution_count": null,
      "outputs": [
        {
          "output_type": "stream",
          "name": "stdout",
          "text": [
            "[[[ 1  2  3]\n",
            "  [ 4  5  6]\n",
            "  [ 7  8  9]]\n",
            "\n",
            " [[21 31 41]\n",
            "  [11 15 52]\n",
            "  [66 14 23]]]\n"
          ]
        }
      ]
    },
    {
      "cell_type": "markdown",
      "source": [
        "![image.png](data:image/png;base64,iVBORw0KGgoAAAANSUhEUgAAAYgAAACACAIAAACeBWmoAAAgAElEQVR4AeydB3gU19X3xy3u3XEvGDBgejNNbev0PlvVEWAwYIpQ7wID7i2JG9h0RO9dvWzvqoDtNCdxDKaqa7V7v+fOAiF5k/f77JAviWGe+0ij1ezszJ2Z355z7v+ci4Aby40euNED/6IeCAMQ+usWBiAMPywMQL/cggD0Xm49INgBujtAexfo7AGdvaCnD/T0h2ADINTf39fd3d0d7AuCUA8IdYHghb7OMOgDsPX095wBF78F7d+B7/4Ivj4R+GJV+EQTuHi25/xZeAx9AFwEoBv0ANAOwr1APqp+AILyQYRBZ7C3G4TOhrougK6LvRcA6AF9F0FPJ+gNwmMJhTu7u861d8BD75MPtw++MQh3CbpBKAhCIByEv+Wz++e7E/nnd3FjDzd64EYP/MMe+J9gurxphFFX8CRTIhQEfUHQEwQ9/aCvHwRDoE9u/WEQCob6evp6u4LdvSAYBKFeEIJkCPfJmOoAwQvgwp/7XQ3+t9/amJj0sdF4fPMm0H6u+/tT4d4QREgvREgQgA4QPN/R2dHRBV8PgVAItPf2ngt2d8B/hTpBsBfiqweEe0B/H/z8IDzioNxCYQA6g3BXN8B0+Tre+H2jB35aPRAh02UbCtoa0I4KXWrhUMSwiiClMxzsgpzoD0IehcIRUIR7QLALdF8If3Py60O7DxXkbDTo9okGS+rLVWmzT3zwS3CxHZw5HQ6HoWEUBu3tocinyK+EuyGGQhcBOAdA24U/nwXgggymINx5HwjJn9YL39LeH/xzV9dFmU3Q0uuRwSQj64bF9NO6KW+czfXRA1dctiv8uXTekb+vtqcijlXv5ce+H3IqLBs6sgEjcyLUAwHV0wW62kFnO7hwFrQ2ta3/YuvCeetTzIfSUhvSZtiNCXWCvnXhkrr0THDxHOg43w9C3fJegwCE+0FPV/eFPmgfnQGguef7Da6a/E2fHjjpOQUJBWkVBP0gDPkY7unr6OjqBeCsvPFZAM6Hw6F+0HHqImTX/wRTvwy+a3Flb7hy16IXb+zjRg/8vR6IUCniBF0O5kDWwOUKmK74crKZAo2RbtkegRSB1olsMUGvrT/YFTz/vYykLvDd6e/Lq33vfrg/PvWIZKw2JTjSZnhmzLAnmGx6nTXeuF/Hf2EUQPspEGrvBj1nQ31dcvynt6+/B4S+B8Ha779cUb3DtHo5+X4O937eB9ZDf5JNp6vDT70dfT0ylX4PwJ8AONHb9af+PujYheTI1GUw9URiTCHZ1rsRY/p7d8KN1270wH9QD4QvYQXGZCJ4ilAIPrwRMF0dHY9AKBLLliM4cgAoFAr3ypHuTtDXAa2k3/76D1u21eYWHpgxtypldj1vtFOCg+I8nOgVea/EenWc26yrMkllyXrw/dfh0OnvQccp6KaBU6HgH/s7Dp9w5e76TPisWPN5oWbTa+r1S9Wf5GcdXP+NvM0l7sgcvdjZfxqAbwBoA8De27nGYTklY/PihS7IJtmflG0x6F1e9kCvTf/fsJiuTT/e2MuNHvifPSBbTHDE6orRdDWerkDqCqMgyKBpBPqCoWAwGOzrAr3toOscaP8edJ4DXkfLLz+smP9qeWJanTGljjVXadnmxKRWs7GV51oo4jhDfiXQXwl0M0+1pCTsS9a1+6rPdP+mFXzfBHrr+0/v+H3jy2vf1H1WFPNxxoTPM8ftKJq4f8VLO5ZGry1K3Pju1yB8PhJFCsnuXBh809H/OwCOnD9XXHkEW17yOI37ujovytbSFTD1yM5mP5Bfla28/9kPP+KVG2D6EZ124y03euD/qQdk4kBrIsKgiEn0N5C6ohWIrHSE+jqD3T19naGei6DzDLh4Cpz9Ezj1232L5x2eM7MiObHWaLbrjH7J3MobmwWDxyAGTPxxgfmaJb81COdSjN/F69pYvNUs7U8QvrXv/y70uz0dvrzmPbqtb6t+lU+vW4pvWRa7d8WEwyuGHVn2wsGSEbtLppWVYL8q9IOub0D4bAic7Qff9oI/AuBs70357IvB8+c9PjN1RNbiBznSH+4/C0CnbC5FLKYImKANGDm9/xxXLiwvoWu09Pf3X9lTZM+Rn/9PN8J/4UZXTvafXPmhp/5DP+56uy4/tD//0fa9vb2hEBxfk703CKmuYPf5rou9cJC/X/4Z6obBaThOfzHU2RPu6O4+A/rOwXbmmzPle2pKsrbFC9VpCd5ZKRaRs7OUT+RPGI3fps1oMekqWbU/Vfdrs9hGqo9Tqi8F9ASPtunIpnjhwHRp/xfL1jasVX06f8KGTHLfO9PWFCq2LZ26q3T0vpIhh0sGHC0ZeLh45L6SaduW0muWV/ef+T2APGoFYPOJr+l3Pnhy1pwn5r46KDfv8SULBmanD5gzc/PJ49/JcXR4JiHQC4883APC/3FgusKOf3RhfujrV3YYlk/2h779xvZ/0wNX9+fV63+z2f/1z3/mvf/Xnf+UN7jaT4P+D2xhEAyDYG+4u73nQmfwQkS41BVuv9jxHQhfAL2nw79tOblrw6702atYzW6R9L6c5E0UbSxqp7Rfp8b/elaSU6IsPGEzMVXxlDNVbNHTxznspIlqNREBA9aYyPqm63amcTlzmbT3Xo5Zs2DkpvQxq5dodr0etaN04u6SUftLXjhUPPBw8QuHikfuKZ66tRRft3xf8FRVsH1ZbdVLhQV3paYgaakPFeTdvyTzyYLiBzLSn8zNfGrurPddjlMAdEK5538wmG7crP85T9TV1+Lq9X9kGf3nHPlP/EiuBlN/EAT7wn3dIBixM7pAuAMqsSMteBZ0nfr68A7bL17fPDt5nY4+mCB6ZiU2JukcLOqkVE1G5ss0o9VAHhU0lalCxUxD5dz4yllG+wxjo5Fv1XMtKYIjEa8yaupTmfIEquxlcdFcPOX9Gdz+YtWh5dNWZ5LblsduLZ68o3js7oKRewte3FcwYnfhuB1FU8tKFGtf03y+8rFXU++YEX/bgtn3LC+66fVSpDT/jvyih4teuyMr+6HcrMdfnbt4965vAWgPQzCF+0FfOCQLMeWhxoiP+m935a7c/ZFb/yd+e904vRs98L/2wJXH4W9WLrlxETyF5KhyXw/oaZeH2OThsp4zoOd78MeTLQe3HHqz+DXl1A0SfWx6Qm2yyWYSAib+ZILu63ixUcTq8Chvsuidm3AkTfqEUxQrxnygU61NosvnxAdS4/1GzmakKiX1ISGu3KA5Jmp3ThfeKkhZtGqRYt0C5f4Somxp7KdZMZsLJ23Ln7A9f+yOvNE788Zsz52wJX/S5qKYzStHfph3X+bMR5Zm3lqYgRRlI8sKkBWv3Vay8t6Slbfl5N+Xk/P44oXCBx98C8D50BUwRRTiML70HxFjutL7V76Q/9er9gP+GdnzD3jDjU3/v/TAjevyv3fzlSfi6pUQCHf193f19/f29Qd7+8I9PVAb2dkB2s+D9nOg/Qw4/x1wW1o+/WDv4jmbZ8TvmZGwnSbLRa7BqLPrxYBRbIvXNetZG6V06QnfdJ1llvHD2An6+28ZhyAvIMjoW5GkqYM+TqUbZqfUi3Q5qaql1TZW6+Vwt0ZTzpPvzhIWvD5LvWqe9uAyfs+b/K43p23Kn7gld8LW3PFbssZuzRpTlj1uc+64zQWj1xY98fZCZHHivaUZtxZm3b5s2Z1vvH3r8rduLXrjjtI3bysouTs378mMjCm5+b+/DCYQhAqBiMUEwRQRN/27LKa/6ncZS/3XdIGjpMHglV1ec/D977fX////XjnTf3Llhx75D/246+26/ND+vHKjXr3SFwbtofCFUKi9t7e7uzvc2QW6ukB3F2hvB3/6ffexw67XSg7MSDmcHF+bllyfmlBnNlSQpI0XfUZTo0nfaBT9Rs6lpywSXmsk7XMS35o8Mg5BRiCI4r7btY8//BSCDL4TWYxOOJRiquDoo7jGxpONeu5LndCqxDyi7n0TVbDylVl7lk9dveDpV+nxr8+atCF39JbsMVsyR5dljN2cMbosY9SmzJGbcoauKxixcflDb2TeU5KJvDr/gZzSJ0veuz/nrVtyV95W+tbPSl+/K6/gmZzcEfMXeM53tIdhxu7VYPqL6vLfDqbIBbhyf/deo6W7u7vn8nJll319fT/0Rvlv2f7KOf6TK5f77G9//5O7vfL26+26/ND752oeXVnvBeC73p7v5YwQ+MAG+8HZc+DXX4NA4+Hs7IOzXt6n0x3lOLtO32JOaNMbG3nRSjAWkrHzQmNifOuMZG+KocZAHOQ1dS+bV4wfGoUgs557ZuPLs8sWZPwidTY/aMgTCDJzwgt7JamOE2t41qoX3HqhRZJOoGyrOWnjywmvLZ2nLjQixCDkuTvu5yZO3JAzZHvWsK1LXtyyZETZ4uGb04eVZQwty35x27IXN694YHn6E0sLB+SWjsp5Z8z8t56a+drNC5fdXPL2XSvevSu/+NmCosFz5h058dtO8A/AFJER/NC++3vb/2AdU8Riutz1QRDsAd3doLMTnDkNzpwCZ+X2/Snw/Wn5ldPg7J8vt1OXXolseeYU3P5SOw3OnAFnzsGf8L3fwS3PngHnz4GOi31dnfDbRtbK/kUve1k6+/dO6r/ntXAIXLwAT/PsuUunf+YMPPGzl3sP9obcrvRtpIfPXHld3vLsafDdt7D9+Vvwrfzzu2/Babmd+jO41L6VV74Fp+QW2c+Vn+dOgUiDV+f0X30ofOXMpSt1NnLJToML5/u6Ojt64HW5rhb5Pryc4Ra+lBMLa4GEYYNZ92HQHw7Kcu2ecKinJ9gBE0x6e0BnV7i1ta1s097MzM90YvnsWZYZab6U5CazKSDpmjn+JMt9yUsuhreQjI1iPJLo1LMNerohVXAuSNltJj/Do+c++fAXPH1g7rx3CfaXxuQlccoBCDJz9ODdHO8wmB1mY72OqaI0FlLrU2hsBL1v9vT8uQZk2O3Is8hDwiTik9yRm3Ke3549ZGvm8M0ZIzalD9+cPmTzkkFlWYO3Fj3/RcG9hbOfyUu/15CEjFAgT09DJogPvJz9QP7yh15/++7ComeKlz43Z8Fmd8tFAHrDcFQOnqms+Ia3waVH9NrcDj8cTHJuYbAXmkq9wS7Q11H93jtr9LpNJLaNUG2iYzfRsdsJxXZcvYXANlHqTVzsamz8Z+rx64iYbTy+g8O3EOqNaOwWUrGFjC2jYssoxSZSu5EkNpDsJoLewxF7OHwrS2zQC58kJoA//h5cONvV1RFJNYJ+7OWko0jW9X/dg3E12UFvz7dVFW/Q1CpO+IKgt3DCJorawFLrGXybRG+mNZvVMWWKqK2a6K143Ho67gs6dj0dt5GM206q95Da7bhqgyZ2LaHayOEbKW0Zrtmp1exB0Z2kdj2hfFczeXnU6I2UegshN1IFV0jVFlJVRqo+U7y0WjNlDRG9jlWsFRRrRMVqIXYVo1iLazbj6E5KtYOM20REr0Vj1mOajTS5QaI3ilgZq9jBajZo1UcyMoPnvz/d3d4XvvQlFTmva3NX/qfuRU4xkYuNwHojQZjq3w9jK+Ew6JKH1s6FYaKbnJ3fBYKnQec3oPdP4JsWUFd1In1JlUF/RGStqQmWZKPFJLgMXEDHNus5n4n3m4XjRrHNqPPHm3ZNmdTIi22C2CIJXiNXbSYPJZOHptNH07iDeqwmQTpi5A8k6PfMTs5XThqAIK9OHLGFxI/gaAWDWvSEN5l3ipoWEvNx7C6JnYdNvvmF20eUmCeuyxmzd/lDaxc9un7xpL3LRq/JGLc2c/zm7KFlGYN25Dy/NXfUtqUDVs5FmFjkwYeQJ55HHngOefJF5LHn7mK5Qa+/dldhzp3pmffOnLfimO07OauuC0bAu0BYLpQSCvbLEvBr9Tz+YDBBNIRBf18Igqm/E/RecL755h6WsVGEh1RZ2RgrG+MlY72EykliVkZTx0xtEKc0cDHVRFQdoXCwqEcgPKzWRcW66BgnHWOnFTZaa6UpK8XbSNaOKR1EbC2mOiLQW8x68IffwGJXvR2RbKNLYJIzmyNp2DDq9l+1/BWYurv6qsvXUvhBmj+KUlaKrcOIKgqtJNUWHnPxeAuLH2fQNhZtFDGnmXAmUpVslJWN9TCqAK1u5vBGiXZIRA2raWC0DlLjRzVNGOqn0DpatQOfslExtp7V2GmNk1I5KZXrUlO4KIWX17gFlZNX23mFhY+r5WNrhNgaTllLa+swlRuLbeYUjTqtW9Q6GMrKMlUcXsWqGqhpDiK6VhnrWZwOOs5fCPVeb2DqhYWQ5HTbsFwVBFYpgWDqgcWMoMAHlnTr6wQ9Z8D534DvW89Vb7XlzwskGBtJ+qRBV48razltY5rBbaCbdFSbSLXpaHc850rgmkx8o1lwJhm2TpvQyPPHef6ECMlVYyaPJGJHUsn9Bk2tHq+iVY54ocrMbRDUpXFjhiBIUdykI2Z9JUNUcajFiNuTiAYhrpHRtBqFykRDEatQmGK1Hy8esTnnyW25A3aXDttZMr6scOznGZPW5ozfkP3CpvQXduUN2JL10u4V96frkSduRyaMmjhzzjBj0sPTlMid9yKjRz6VseDegqy7c/Pum5eesbvyGwBOw5MNhkAH6G8HfZ2gPxiUz/1aPY8/HkyhUAiCqe+i880393KsV+SbBcKj13j0mhZB28ITAYH1SvTxVM4Xj1oFRR2tsLGoi6ccNGrHlM0C1ixqYROwRoEOCLxP0Ad4nYfQuGllA6kt13HbE03gz9+Azgv9oZ6fKphAQ902jq4WdPUk5+UlJ83YeNrKET4DGxCpFgpvwdQBXOVhNFY91mAm6vUalxH385gLjXNqFS5aa+G0VUScS0f7eLKVJk8wdJvIOAV8PxO7DZ1kNxJeHeGTiIBINAtEC0+0csRxjnCrY3xobCOhbqE1LbQmQKk8eJwdU3oEzkpo3WhMExXnY+JsWLQdRd0sZxdZm4i72bhGVuVENa1ZOaAHFsTov54sJrkSUagHyiPlXFtYIASCCYRBVx+40ANgLDQEwJnTwVZv6/pf7c+Zs+ll3d5k3mfS1cXEOjnSn6q3pAjletRpYgJ65rjAtIqM18S6zKzfyHpMnDVZ2hA13iNwLQLXJrB+iakzEBUm/JgZP8gp63nCwpIWkavU8dt11Iyn7p+EIJ+yhDNtej3P1ElkvZmoideU89E2Kq4Gi9tJo2/o8YI3l6SsL534RdaQDbljt5VG7Xtz9OrMsZ9nTNiYO3x9xvMb04fuzBu5p3TijhX3LtYjT9397KyUKZlZY+ctnjR7AfLQz5FHHr4vNfHhvOz78wvve3WJ/lfrfi2XHOgGwXC4A4TaQX8nCEMw9cr+3DWxE/4pMPWFukDfRddbb+3lWCdL+xmtQ1A4BEWAUQZorYchnRzeGE/buLh6RukxsIF4g1cneUW+zST6GW2AVjfSykZa3UhhAYr2U7yXZgO01sdpbAxeZRR3pSSAU38EPR1h0PfTBVPtXo5uEHQOimvhpQDNuAXaKRA2WmNDFS5lbKNG1cyQTTrWZmKqjWS1XuswkS0GpoUnfKTWScDhYauA2XjcyWB+Am2hiEaWsDKavWRUmXJ8g6R18loXp/WwWrnPtc2UtoXUttHECYo4SZNfMtSXDHWCha2FYx0ca6OIJhr9SsRaOLULjfFhxHHJ4JF4l0gEOGUzq/ZotV9m5YGuLpgCdj2CKeLN9cneHCwCCUIw0AoruwUB+PP35e+9v33BvO2J+u06cncSV54knUhJbNHrAslGW5rhcCpXO8fgiOcaDexxgWkTGa+edhlot4G2GemaZGFt1BibSHkFppmnAyLdIGLVevyooKnVU3UU1paYfEilPsbz+xOMkxEk7eH79xoNvsQUO8vYDXSDAaswKKqkOL+BqtLGHOSoDTMT8nNmxczjnniVfro0ZUBpatyG4gmfZoz9PGPU+szB69MHbloydGvuyK3Fo9YVPf3aPIScMqo494nZsx9JmTk5K//ucRORe+65lWWeyM15ICf/nrnpE3OWBfphbbl+WEtXBlO4Uw7sw7P/97lykehfEHokEEzBdtdbb+3jOTtNeim1jYu1cbE+Ks5Hql0UbmfwajTGwmk9JsFtNlgEsZqiLQzrkwQvifoJdROulJu2Ecf9OO0jyEYG9fNaO0tUGcXdqYng9J9ALzztnyaYujpAbeU+CrWynBMnm2k2QBAeFnewqIVQukhNC0WcZJkWmfvHOGwfoz7Eq8oZ6BEf13FfGoQmjnRymEMiLJzWRqk9uNpPaP001kCpdqFTN8eNbeDVDkbpYJQuRuml1D5S7SO1fkL7pU5o45kAQbi0Goda49SibpJ083wFTlRjuI/Ufi0Rv9FTxzmijaJbWd7NUS5O66NimymlW6X6Mj0bXOzqh4VZr6MYU6R2Yw+Mrcij5eEgpFEk6BuhUlco1HxyTVLKepKo1YstM5PdsxJrzbyFwGwM6ZoRXzsv/ot49fZUwpLEN+q54wLbxjM+iXLqSLtE1BnIihT+0+hRdRLpEkm/QPkFysphdTxazaIuk2Sj2ab4lKMoVW1KKBo2dCqCfDo1qsFgdlO8GyMDOtYiaGpEpdWosaAx5bHTKhlqs0mHjhhw00MI8sRNyNM3IcphY/JToj/LGbN6yQtrFz+3YfHgLdlDNuUM+ixj+Or8YR/m3zTH+Ghe+rNFBY9l5Tz36uJBHI/cfQ8yNeq5jOwHsvLuX5Q96NUsZy8sIB6G1mIXCLeHQKdcE+GaUQkA8MMtpqvAFAx3g2C7++239/Gci2MCLOoUlU5R2ciqGhnUy1IunqrD1XaJtul1VbxQJeis5kS70dxAM16WamTwVkpznNIcJ9FWkmiimEaaur4spq4OUH10H6G20pRTi7ZQVADTuimtnda4BaJRott4ppEk7ShahaNHRPZIglSXpqvU47W4wqpVeHC1l9Q6GOjN2UXcyWE+Cm1miCaOtHPoATJmu3KCU0B9nOZyQ30c6mNxL0e4OcrNsy4d79JLdqNk0UvVEl8h8baUVKtB78DVLtU0nyammdC0YoRPgzlo3E6rPER0AI91KhTHF2aA8x3B4GUshULXSfA7UgMAlh+KsAmuyEsYgI4+cL4T/PFUfUa2e+aM4ya9l9Q69azDIDhZ2qUXqpLFdSbt/ElP50x7vj5ZbDTyETD5BdIu4g0iVqFHj6UwH0eNrNJhVgF3c4SXI2y0toHBrBzl1IkeQ3wVxdeZk3cKupcQZNZjjx3Rm2w6c4Mad2OkhyfraEWdTm0zYW4etVOYRRIPTU9egMcRTOzz1EvI4zchDyH3E+M0n+aMXpU+YMPipzenD9mWO2xT7ui1BWM/LxmzeuUDxQuRhS8/tKz458tXQOFSQhJy7wPIoOHPL8p+KDP/0dzi5xZk1nWE2qH6IQKmzh7QLbu3185e+tFgCsOAX/hqMLl5tpHDXJLKJamaOHUTi/k42iWwDpGt4ahjLHuIE3fT3C6KPSYZPCmpLoH1c2Qrg7XR2jYaa6WJJoZuYkgfqfQwKguFVuj5HUlmGGPquviTjTFBi+noPkplYUkXpm2lCT+hdjMaO6v26AgHizowrYeifDqDPd58KMG0w8hvYpSVCbzXLNowjU0R00gTrUbeZ2AcEuYS0ACDN3NkM087OfwQGbtbOdEnaOXLoW3ktD4e8wiYSySsOtKVom9I0h0z87t01Hpe+ykV9wEW/YEmeqdeakhKbo7XewmVXTW1EVOdpJhWinUymI1TOqlpPirWrlAcX5wJLnT2X3HkrhswRQqYyJGkCJsulTSBLkx/CHT1gHMXoBRAL52UuK84vM0g2BncJ/J/WDx/l47QP4I8gyBzo56rng71k20C38rRfo5w8FitoD4qaY4kUR9FvVguofUC5uRwF4vbSNRKoRaGrmUYV1LqQVbYZ05IHzJsFIK8RREHUhKrTIYalnGIbDWjLqdirAlEjaisoxVVmPIgrt1ilD7PXlC6PCvt/axBCSrkbgR5+i7tLzNHfbbohe05T2xJf2FrzugtxdPKVo75rGTkqtcffSsfyVuEZC9CCvKfW75yVOoM5OHHkMcGDF2U+0hmwc/zSx55ZUHZr//YGZkuJdgFQGcX6O6Ew5Ryr1wjX+5HWkxhOfh+BUz7Bd7BUD5aY+fj7Hycn1b4KY2bJmCJBrOxgqMPS9I2lkt/+rk4BEm55datWm2dwDhYzE9pmkhVE6kJkBofhXlo1E3EuShFPaE5JrEw+P3t70HnhWB/90/WlWso389qrALppLStHBWg1W5eYxPU/kSmnlHXokqPJDamph4UhOzBA1AE0SLIh5NG+JLj/TznUCpbOfqkWfJIuJXX2Fi1m4J+nI+FX7OH0Khd0ePg+B2lCFAqH62CyOM0Fh6rlrDqeH6ddkrGgJ+TCDIOQUYhyHAEGY8g3B23fjhtii/V3JYguXCFVxvXQpCNJAx7WUW1nYv2cAqrRtWWkQs6ekOymCViNV0PFlNErAMNJPj4QTCFL01YAs0nqOnr6QIXztQumu+fkfhrE9eojgqQ6G+SEtqMhnJSk/H0A1MR5FEESZnyVFWaMWDUNYtiC8f6WPglVMOrjkjK8kTykynDjonaOhHGDSNgshBYDYkfo6napKRjadM/IPFxCJI0dsR7ycb1KYY9yVJ5iq4uSdpLxRxgoq3TmcNMTBWrqhWJcj2/WqJXFy9OftVk/ihT/FUWch+C3I1o3ls0ctWi4fuLH9+aPrAsZ8KOZWNXFQ57P3fAewW3Fi64640i5LVCpCD/4YLicbNfQZ4diDz63KglhQ9nFt2fU3Rr0ow36hzQYoLPJARTO+jtgKIJOV3u3wumkBxj6gc9INjueeedAyI0Vv9n8NvB0Xa9WGvSLX74QRRBouRbn7/55l0GXYWetwqkh4Uh8ACt9jNaF4e5OMxHq7ys2kpjP1WL6ZLlH/nV2wUaju3k1HUCYaXUTTzuYVQOQVkvKiqY6OaZhnoWa5C4dwcPxhAkGkGmIsgkBGz3gHYAACAASURBVFmDx1UJrJcXWiiqmcT9NObktXYRtfMQPT4WD8hDn0e0sftiJgZYTROjamI0AVbj5VCngNpEolZP7GPU708cGo0gCgRZPGpAfszoRZOGKe+E6Q4ogpShMd5E0ScRVnVUM0m6cdSqgwOCFjHGISjqMFVjVi7o6IFiwsthpusETJfsAiiagWDqh9HPSwWVuvu74Lxw5/7kfC3vqJH069HfmZkTHH1CEn0cW0FpU3+G/CoBewRBDBMfb5g7vSU+0cOzDui8o34dbdFjB9mYajO5j47dGD2mklXXs1o7h1lwjZ2l6jj6MEfvNkplqfGae382CEFKZ5jfnp+yNjPtDTEm6ek7VvFR5S8LNbP4qhRiPx9zgI3bzSi28Ojamea3C+e+vHJu3C/noqszkQH3Ifcgirfmj1y16JnN6QP25g3dUTi6rGjKhuVjPi4Z9GHxo++VIItmIcsKbnl95S3zFw5LSUOeHojc98SL6fl3L8pB5i1+vqB0wfY95wHoPd8Jejr7w+0dMCNZHgTovmbe3I+0mP7fwVRNYx8MGywiyLxnnsqcOH6s/Gitl7gjRqFOol0c5mfUfkbt4dQOXuvgtR7megNT+Q5eWy0RFlrtF3A3q7CJijoprkaKq+QUxwjl1ujJBgTRIUhJzGTFbchYBPmUUpaLUFvQQjItBB6gMReMMWmsvMrJanwcGuBJB40ek8Hk41A55HcJTG4edQq4BcZZ6T2E4q3hz6/RRpe/krwnzbB9uuGLBDH2nttGIkjuwCeOciobq3aSyhaG8TGURU/UGFW1+qgGnaIaVwWyc0Hn9QemKyW6oa7yksXUI0+C1AFCHWG5jMmFP9neLtqXQDpM6MkE+iu90CbwLXqdw6RbHTVx78KUoQ8gkx9H6uakNsYnuEXBSqFuCvVJhEWnOcrG1hvJQ3TcpqjR5Zy6ltNaWNRCam0MbjOIztnTKxfMzokeN+F2hBk1IDuJT1GNf0ZOnZuKIO+gY/cmYkfM2roEvFqvrRC1W9RTtwvElrkpyxYnpZamoWsWx32RgTyIII/dFvfuwglrswZtzXpiC4wxjSoremn90olrlr/4yfKn3i+5a0XB7SuKf/baskfyCsa9PBd5ZiDy7NAXlhQ+lF96d17pE1mFxOvvnQOyXKSvKxTu6oRCJtmC7PvvAVM9je5RR787YfSmeP1nSfFTEGQigqw1CvtNUo1EOznMy2q9rNrFqa2i1ipeZ2Dq6wKW8m08ViVR9bTGL+BO7hKYqoSYI+RUu4mxxevfHfniBp7en/HqCAQZiSC/orVHJcEjSK0k00bgjRTmYWUwCQoHp/JeBlO5JnZ/9EQ3//eD3416aOTWkqhDEhwm3TESP8qQta/Mmj9twkAEYW9CduLR9awmwJOtLOtn4Th0pVlVZYiq08dWECq/DKbe681iuhpMcKoi6Mr1wDFzOErVDlXfXaDjz66P39ieTNclY4FE8rhZbBK4VrOxMTHeOT2pesnLihfueh5BamYkB8wJNr2uliVcNBoQCZukqWRjrDqynFRtnDKyXNDUCChkEw3VM9U8cczM75xh4h+/8xkEGXkvMgBBBiJI1K1I2vN3Z499cncSXmUiqsiYiDTEI1IH46IqePbAjJS3XzZnL58nfbFkWIkBeQRBpg3UfpY7fk3WoM0ZT21aPHxX4eB1maPXFkzZ9PqY1Suff7/k6beW3lecf0dO7qCi0qgFi5HHn0LGTnpySe7Dy1beV7z8gYWZ49Jz/gxAL8xG6Q7DyHdfd8RiunZ6gX+txeTkSCulaZ6RUJMWv2dWyjs8NQSRv/N1zGUw4X7majCp3ez1ZDFBMFVu4/FqkbFQqF/APQwUglnEmFox1plA1tKqap6oiTdUzpm1aWbyGAR5EUE+ZNBDOskt6FoJ7jgug4lT2yWVRVRAb45H/QLpovBKtWJ/9CQXj7t5jZvXeHlNgEUbGbSRwZto3IdrvZimiaLsKmV9TKxNpbZptdbUxPeSzQPkSNYhHWGXyFaRaSZJH0XIYFL+FZg6eq9rV04GE4BCcAikDsikIJzOpPv7lo0flSUzVSmUK5Hw6KhGPRcwCD69zp+YeDDZqBv75AAEqUpM8BoTGkz6apFyMlhAwO2ipo6NswtEFaVZN2nkUUlbocMqWbWNRa2M1p9k2EkpisYPHokggxBk8n3ItHuQzKgxq3nV/iR6nxmrTeWsotaBxrbRWAuJNTFknVZ9VKku02o+SpDeXZlhen/eIy/HIk8jz83j8M2vjfx00eA1iwZvyRp/aPkTn8wbtbFo8tbXx3627MX3i++YP/O+BfPvnjv/mfmLxqTMQO57CFHjDyzJubt0+W05hffPXzImPeerUCT5BuZf9INgT18vFJrKWtO/Clb82D/+tWBysWSzQLh4fA+l3Grmf6GjhspgWhevO2iS6iTay+CNFAwzeVm1TdDaBPV15sr1gIbqHRxZK3BWEg6o+SmVh1M4+JhKfGJLKmellYdVUXUG3U6R+1SktXfdPAxB3mPxAzq9UzC0EtwJjGymINmvgMklXAJTlUpxMGqSU8BdAurmUWhJyWBqodFWCm2l8OMk/geD7iuWbsG0xxmyhcQsZkMxRz2DIMLdt9SlGr16poUlW1DcT6BWPVZjVFbro+r1sdW4HGNq743UV71+gt9/Ce9C0Qy0mOQaszAKLA/OhEFvN+g694c9m8qS+OoUzppA1UtYIFFy8VSjTh/g9cd04oyJg4cgyFG90a1PqE40Vhg5O4dBKb+gsbIKB4/XstjqScMP6/GjJvwwo7CLuI3U+M1CnZEpGf4UcweyaNyAj4z4OhNXN2/mUZ606plaPVHLady0ukmr/A1FtWm1bq2qSRBsBHOU5vbNTCuaLj0d8yxEmumlMb9YGLepZOSni0asXTJsc9aYfSVPrp4/eF32qHVF4z8rjV31BiJQg9PTJxQtm5RdeNvYScjDj949Y+YdOblIQdEtuYWPLskbuTDTevb8BXjWwVC4C4T6eju7IJUuayd+LI7+8r5/LZi8DP4lT/gZ9RFasT9R3JBqHI0g0xBka7L5iEFqEOgAhbcR2hYShpmcvNZxHYKprnY3Q9dzvIMg2xiqmVAFGIWHjWkgJntEVYue9vCk3aCviDcfmjNTeTMyBEHe5sj9eoNTMLUSwgmMbCG1flZpl1T1UpyVV10BU7VKcWjaFBf/t2BqotEWGv1ax7Yy2hM8+aVI+rE4u2qqn1JVmwTymcefQJDZA560pMS7OaqZQL/CqBYCd0hYvUFZp5vaoIutw1QtGfngAkwaC8Paz3C5HoLfkXlxLydeyGC6PJH3pWG6TlgH7uKRA9sSxZpkocFE1RtJT7Lk4Miv4hN/p0sKJM9YPHXkEAQ5xAgO0VSZaj6SKFg5zMehXl7j4DQOlqjnqU8nDj9gIg7HE/voWKi9JFTHYid5EoQt+LQvqKijcxPKZydWmHVVLG1nKSeHO8xMNQOHPlxoXCtNNMIBcQLOLkdS+yl6g16Sxr0AhwPH3Dn8l/NHrM8bvTpzwtrsiZvyhq1NH1yWOXBL5qCynMGrs176tFD98Upk8rgHGHZg0oyneAPywGPIuAkDl5bcWlyAFBbds2zlgLxlz6TO2dLaehqainAaTtDbE26XLaaI1vQvePnxa/9aMPlpvBWN+bWAOU3MfiO9Sk+NkoeW1olsuV5ycHQLgZ/AtccJdSOt9rBaJ6++vkblenpAbf0+irUyogclv6SoNlzVQsUG6KjfJJIubIoXj7Op42pwrEIn1S+aH4tAML3F03v1pgiYvkTJNuKvwOS8bDFVqxSHp01xc4Sbx70ctJiguhI2qLd0syoXr6xBpzoEZR0TXcVE+aezO/XYQAQZfBPyRuzUhgSjhyLatNpvafE4inkErUWvtEhTbWKsRas6viQfnOsFvdcXmPrlNN3OS0lhIWg0heRh8kgdlCAAF7rBxS5QXb3TpLckGix60prCWxLgJJQnRMNp3YyvU+fkx4x/EUEO4qydN5enJR5KFusFGGn1cRo4iMES9SL9y4nD9sYTBxKIPXSMS0/Z8TiLappHJMsFdU0KZ5lhOMZhDoY5bjA5aLwSj6s04nu42DoTXi2oGgxElYHYLqo28+qPY156/aUxOdET9YoxMWkK7WeLJuwqeX5z7oi1WRPX5YxfnTFufdagDYsGbs8etqdo4OolUV+URr+RjYwfiTz4c+TxZ5FHnrpj1IQB8QnPvb4MKclDli29b/kbA/NeezJp1ttVlX+U83h7e9phPk4HLLQAUwX/bXKBSHWBfvgFGQr3gL5LcgEHB+UCLl7h4hV+9lKunJ/Gf8tjbUSMhVQdFslNJn60PCpXZtJVSpKLYdtkMLWQEEyRKPh1CiaWd2P4SZpswxXNdKyfiWrTqQJM7HGRgAlTRsMejWaHToyRwfSmQO4xmByiSXbl8IjF5BSVFjHOKihcgsYrwlG5SjV05SCV+IjyW+XlVW5B5ZKbhYk5nspbWYVdRGsltEKHHTUT8555YAiCoPffs90k2hN0fho/gWGneUObSuPnMaeodAhTXXxsPSrrmM71RByY68di6pfDSTKYoBcLXZdIODzixQQBaO8FHT2gwbLTaHDGm2wi5Zou1Rhwf4LOptV+xZkChoTl0RMmIcgejKoXDeVp8YdTpDoJd/JaN69x8nAArkHiPho39JCJPhZP7yGjYQ4drnTgKgeLNuiIOhNlMXNWiXVgWF1MrFsvHCIVVfHUERPufTWxOpk5IKk2EpNLxj/7C3TSdiOzLV5abZbeWJg6+4NX1WuXDN+W99yWvHHbSkesWvLCe7OjthWP3JI1YMPC59cteuoXL2NbVpKfvjZq/kxkxKibJsU+jPPjXp4/Pjf/nvxMpCD7phXLflZU/ERO0fNzF+Xu3fM7uTd6Ozug5L2jH4RBe881m9roB1pMl0clgv1yjlB/D+iGYNonCQ6ODtBaP6vwswovq4SUockAhTcRcW2c2s+RFTS5WS9MQpAJCPKFxFZLkpdmWwj4XHlZKBcI0NpGWu2nrqfgd28PqK/eyeK1AmMjNc0cGqDivFy0k5/qFmPcXIwLjw3wlFOUagymg4nJCgQZjCBvCvhes8muN7UwAjSyWLSRV7nEOLsQ4+DjXILKI+EWFj2Mxu6Om+gUNV5eGeDiAnyMV4hySVE2fZRFH+PUqyuVL3lJ1E3StSRbbUosHTPuJQQx3nTzVoqoTGAP4VNdeOyXNP4bnGlRoE0M6eU1fjrGy0XkAtngQhfogwlT1w+YIp6KPLFjJF3uMpgilRsjT0d7B/B5tpj1Nr3ezzNNyTpvMm+RcH+Swa7n68z6LQKuQZB1qmjXnBm2eamHTHStGYqYqpgYmwGvxJX+JNNuxdQaia4WqVqRqCTVbiNfjauqCNUxSnWUUVfyRIOedRpFd4KxyizUJEjVIrVbMflX4wZ+MPa59bGj9/CKg4n0wUS23CSWG/UHzfG/eiU5aXnapI9eHrEpa9DmvGHrc19cmzXq88xRXywZvWbJmLXpk8uyX1qbMeLtVwaXzB6Wv3jAosVPz814IXvpowszH87Ova+o+M7S4puL82/Oy7kjM/3nC181fPTRN3JWTvd3XTDy3wdDTBf7oQ7+miw/HEzyl0NvCOYvyuUrIZj2XgZTI60IMBBMMJedJv007tJOc2FRPgqr5dgyHbSYxiLI5iRjBEzNJAx+O3m1k4dgaqbUgesLTF2goXIbj1WLlIXWBATUx8S4hGl2YarPpGo0o34eZvY00EyFqDuUlKKWwfSunj6YlFAvCA61xq9SNhLKAKd0C3EOPsbJxbllMDVw2v147A7FRPtlMDVyMb6rwFRNT2tKkmwEWYszLbPTXx8xaTyCYMgtm9WoKzW+LoGukeICkvY4g/+WFX7H6xtZGiqkIDcVFYTKk5cF2jtg6PN6AhN85ORgkjy5bjB8xWKSa8X1yaNSUAh9vHmDSQ8L5gpck5FrTGQtEu5M4GvNbEOacRejUSHI+xNGHE0QGtKM5QbSksTbEukaXmU14FY9YzPwX4waunXK+BqOsBsFq5F3JujKae0xSnOE0hylteWsrC8xcLXx0gEDuz5u6ufDh26bMKacRy3TxWoTsQufesSIHdNTNRJfL+qq9ea1s5LSls+M+uSVceuzhm/IGbE+b8SanFGfZ45ctXjkpwtHfTL3sVLpqeXGJ5clPLfilUFv5D9WlHdfRu4j+a89teLdB4uW/WxJzs3pGbfl5txVlH93QdbDSxZOyMg6EQT9YQDOy/5tH7Se22F687VZ/uVgCnAqH6cK6Ng6vbjZwI2TLab1ZiniygUoKBdwCGqHAMXf15/FBMG0g8NqRcpKaZp41MfEuYRohzDVq1c0m7EmHvfSZD1OVov68ukz8JuQoQjynkTsjzdUM4xdpW7B0BM83iJpI2Bys3FeXuOR8CtgcvG4j9MEOFWAg/zy8Uq3oHSKqjpeW86jNfGGQ/EJK1+aOk3+wnhXRe+VdNXx4iG9psoENegOTUwzTjQTtI+joSSKiXPximOUypl/A0x/C6YuuZ5luP0C+MNv1xkku07fJgk+nmgy0y6RsBtoq5H1zEo8wKAUgnwwZshBiaxPlGoNtCtRcJipWkZRy6uO0Cp7kr5CIPZhcZUiuVsTfZjW1Jv4Q5S6SqJsiTpXqqnexO9CY1aNHfbmoKdXT52wTR1bS+B2mqzi0GO8ukbUWoxkuYRWing9z9h4sUEybpiZMGdZmuajOTHrc6ZsKpq8oXjS2oJRHy95/q1Zj5Ya78+jX/x4zsjV84etWvTi53lDVq94aGURkpl5a2b+za+kP5Be+ET+ip8XLLsrK/f2zKwHCvNeKC25j5Nc53t7I4kp3bBGXI8MqP8MMF125fZKgo2HrtzVFpNXtpicZIyDjXOJ5BGaWMPhU+Tg98csVqGD3p+XgWE/m6CGQgG5YNB15sp1gfrKnVeByU/HeXgIJgs92cMp3ITSQ2A2irGaEiqnp2GyzPdjHX003mTl+QBBfc2xJwXCxyi8vNLJxXkYhY+DQk0Lpz2Ax+6Km+TmiEYGDzC4rBXQNDKwQf23WdjDoQdfTimJmTwcQSYjSGkctXP6vK0MX5EgVkxnG2bSDoPGzWi+MuhbBdEFq0ShbjbOKSgO0ypHQRbo6AD9NywmeYxctpg6ekOwGMqFc+DcqXVGnd1gOKHT+zmiSUd5RdJnYO16NpCWUK1js+69fatiWo2JsyfprUbWaWLtElGLx1SRMdVGutxA7yYVn700ojZeOCaRdQlibbxQnygd4tCNMRM/HjPko9EvrJs6dh+prNJzuzBVBUf79LpGvWAV8EpKUU3E1NBxDQaiQU86ecbJCRZBtzHVOK8gHn1n+qQP5w1595WnX5v+aFHC40uTB7798qjPFk3anDNpW+6kHXkjNmYPXpv/3KrSu1bmItlLbsrOf2bpu09kvvbgqwUPLy58NH/Zg3lFt8xbgBhNN2up2u8udMrFhmHVvOAlMdd/IphgHTIGxpg8HHTlvDTpZXAnrWggY9x6ptak2ywxUQiC3oJsTdRV6CDLPCxULUfA5OK0cGziesuVq6/czWJ1AiXHmHA/rfDwsU4+ykZPc1DRDk2Mj5ALSOpNh42mGDnhdhVP1iXG+3SGAEE1oxoPqrBpp3h5pZuN8zGKAKsJCLiN1R7CYnfHTvIxTBNFBRjKxxJNNN5C4a0k4WOoKg7fbeJyY8YPR5Cxt99ULEibZ6ev06ccTU0rn27Yn0xUpOF1emUtFu2hCDuOwdo1Eurg42wiBJOtIAvOj3Ydggk6czDy3Q8zeP8SYwqHQWdfGKqZLpwDHefKkuJtRsNJvaEFVmeFFZCbzaJLx7rNoifRsFsVBXWVSQZXot6mYxw6yinAqjIWHj2qw/friQMG8qMpIyuThF2sajsRu17x0kfjhq6ePKpMNWUfpTomkRV6ulJPV0hMlchVMlQ9gTto3KtnYBlMAbPSSlc87TYyPpH1cLyF5TfGCwvSBXyZ8f65ygfydAPfnjPu89ypZUunbi0dvylv5Pr0QatfeWHN/OfXLBq0Ln/whtcf++Vrd64oeWTl2w+lL302843ns9565NViJHUBkjgTmT3/4UWZDxmT9379p/MRZZcs+O6Wq8b9m8HUEw73wdLfl4LfEYvpajBByshgajXRFio2EC9601LKOGoygsQiyDYjF0nidXEYzJITYKKcS05PuQ7BtIfB6nnKAYPfEExeLtbJxQQMGh+v9KCKFpbyMGwtSe9jWY1s2vxCMQ3myomiT6t1KWJ8uKpNR3p5lYdR+GlFE6OB9ZgYNAKmAM00UUwETI000UIRrSTlYyhXsvm1sUMmIsjTCMIMey4d1S4aN61o3NS3JowvGfZ00YuPbBcm+2bybgn3spRfEqwSbdH9BUzXr8X0j8HUGwbdoVCw/TzoPLd7zkyryXjcYDihh8X8Wo388QS9W2QcOqYpNaF5RpIjXnLES3YjZ9MxTolyS6RPolwG+rCIHkkRamYaP5z04gbt1F9MGPr+2MG/HD90D6s+yKPlOqraxNWa+WojWyVRFQJVztG1Am8XeSfP2FjUwcDiNo0G0muiPUYqINJelrKyXJmZyV7AccV6YnPeS1sKR6/LGbY6c+iqjGFrMkdszB69Lef5z18ZtnHRiM05Y7YuHVP29hPvFd+au+T2jNy75ubdnpJ5S/yCO6dnPpS+9LGC1x/KL31ocfZzcxf90uo7C0CvXIAfwKrnsKCtPFh5DcJMPzzGJA+S/g2YdusEKw/lAhGLycUrr4CpUcTqsSgotBfoMq0KRRAWQb5QRtdIrI3HoWElJ8rJCT6Yl7nOqgv0dIG6yn00ZuEYB4FGlN9eTuHk4gIG1MepmkjVlwLrxvBytabGZJx7/z0Egnyhjj2Eatw000JRTbi2mcO/ShRgaImB27fQcD8RMO2Km+RjqCsWU4CBbl0jDavEHWNwTo4rjZLdwyEIMlouYBCHIGoEwRFk2dD76vRKK6OyomoPz14Bk0NQHKFVrkjwu++6c+UidRIjFtMluYCcihEZpesMBvs7LoDOc0eWLKiPNzYb9cfNUrOeO5FoaDaLdoFyGThfor4pLd6TrLebebuRcxp5p0TBKgK0ppJSVsez21jlZ9FjFz30s1VRY3Zz6n289ohEQIfOzNfomSqJqhapOolu0LMNRtEab6rSi+UcXcPTTonxSpSLVteh0yyCyiJo3AzqZjArz+5I4l9bLMQvj9eU5YzaXTxyV8nwHSXDtpYM2VLwQlnu4LLMYWUZo7fljNyYNXJt/rCPCh/Mm49MT0KSZtw8Y8nd84ufyHzziZw3H8xcfueSktuzCh/MKXzy1SXzN+2CUxJEMlFC4a5QVw+cvOraqL9/FJjgZDWyxRSCFpPr3XciYPKyl+QCETB5GOjKNfFQ0urR0ZUkVm82fzB8xK/GjDomsA1CJINX7WeVcoEBWEgItutqVO7vgEnj4WC0yMHGOojoRkL5a4l3atQVKmXL/Fc+mjzurXEv1qXEH8M0Hor6tU53kmc9hMZBKqF+klbBgpMU3sLCGR8iMSYvB3XAAQb3sTiUF8OG2wWiRkeumjbuF3ETV8aML5w85h1U9Y5atWz8uE+jpm7F4341begG9QhnAlSN27RqJ0lEXDk3C4Pf5aTKm5sFzndE8jivH7lAZFCuH4SCl6rryq6c/GT2yXOnXAz2Bbsugs6z5XkZ9QmmgFHXEq9viZdOTjd7jZxNpNxm0WHi63VU44x4R5LkTtJ5k/RWHVmJx+2Pfals0uj3Rzy/Jm7CXkG7auroo0baOt1YrqNqTFy1jq6R6FqRquXJGgavprFqGqug8QM0dUgnHEvQVyVK9TrGymjttMrBqcrJaRVUlJVU2Bm0QWL2pYrvZxpfeSN14sdznl2/aMCmrEFb8gdtKx68o2jI9oKh23NHbM8ZtTV76JrFwz/LGP1R4eAV2c/kZg0sXX5/9tI7M5fevbjknvTS+3NXPlDy1kPL33502ev3vbKAefeX3wLQLs8MHu7p6+q+GILRpn8XmGR/sjMc6oG+tuzKvf/eHr3okLiAgDcJ6oCo9koar4j7eSbAU80cCtkkUE5RsEk6q2SwSTqHJLhFxiviTYKmhdO0sWgbi7ewZDNHntBRzTooqD8msXD6pm9+DS6e7e3r/MkWirPUHGAJi8i5aaKVZ5pYzCuiLkHl06ONOjjidpKjW3nOJwkNZqkqQV9hlmqMglsUmliuhWFaWMovkB4J9wiYn9G2kNhJmmzlaCeDHSIVO1QveST43RBpfhF161CHHrUacJuZtpkYu5GzmKTaeH15ouFAiulAiqkm3lRnlqqS6LpE1G1EmySyledaeHi97JymkVc5yKhaUuNavAicbYd6wsvVda+HlJS/A6ZIGUt5irk+AM71dPd2XQDd5/wfvHlIYt0G8URaYkuyyWsWrRJdL+H1OsJiZqyJnDtN75quq9UTOxQTPxk58NPhz++ImVgpYNVGttLAVOjpLyaPLpfIOiNXLcKAoN0o1HGkQ+LqabwSVcECsAbJbtDv47n9yQm/QKPfnDLyiEDW84RLJGyC9hgXUyMqnQJq4bTHOO3WeOKjJcbcd2cTm7LG7ioasinnmbUZA8sKhu4oHryj4IXtucO2Zw9YM3/Upuzhn6WP+bjgpY+WP5e35NGc7JuXZN9W8No9BSvvK3z93uI3bi9acXNB6d1FpfcsWDyldOWX8kgcZBGc0aobypn+nWAC4C9g6ml3vffuboNYTWMOQuEiohxklJWKtlAKK6GFlWFRhRuD6xaCsOC0FaftGGXHMSuhtsPto31YVKM2ulGj8GlVHlTVyGi8rNpCoZcqWJ76I+jr+klPRlCxm0brONpKaAMM4aa0Dk5j4ZQWJs5BxXkxpR9VezCNlUIrOPyIgB/hsSoGsxKYC9O6UbULU1tIVR2tsjNaF6lpxDStv7500gAAIABJREFUONpI4VZKsxeNLosb30BDy8slNysVXctGl/Ow1XBxVlrpxdReTOMg0BoG36fD9+rJco6pYmHqQ5UQY6VjPLjSj6IeDPfpOJeAtggaDxVjoVDvknRwrhN0Bq8rMEUElkHZYpJntZSro8nzEkRcuQt9vf29HaD7XOuqXxwxS77k+AaBhlEks+BO0rmTRFsCV2+mawz4bmzaNtVL25UT9+FR1TrSliha4vkaPVWjZ6p1dLWO3jRlXBWHWwxcnUDVsoRD4hoYwsaQFgq3kriLY5wMVc3QVTNnZo18cbJc8K+MVLmSjQ4ddYyIqhBVVXqVVdRaeLRcQncmUp/NF/NLU5RvTB/56cIRqxe/sDpj6Lq8EdtKX9hS8Oz6xYO3Zjy/cdHorXkj1ueMX1c69pPSx3LnP5ibfvfSkjuXrbincNlduUvvyF96a37pTYXFtxeX3Lk4fVhWnq8fXLhUyxPA+rr9vf82MPV3B0Mh0N4f7AYhaDb1tHs//GCfWd8g0DBgxCk8nMLJK+GUQSzppUm5eABcd7Ksl+IDpNBMsI0k6WExF6f2copGWnGcUB4ntM0kHqDwFh7z89oImLbGG2Bp3a6LP9npm7o6QE35TlJTzZL1GJzwykGqbawalr8QNS5B08igLdSlqFC9jqrRU/UiaeNJDwPFq34a97C4VcAbRLyB0doJtV8DlU0BEmsgVDvQaRtjx0IdBifL8TmFU1A06BSVRkW1QWnTqQKs5mtc81sUPUnAYuE1BrzCSFkEwc5z9XrcooMpLE002kpScJ4IveAWsQiY6gmNa9FCcPoCON91A0yRwXLQD6XPHaH+UH836Dn3m82fH0sy+FISbAbeFa/zpRp9qUa7mT3KKLYpxq+bPPQAE3tM0tQnMvZUyZos1ZiYowJ+mNbUSDSMH0nM9mkTKwiNVWItHAWRxNM2hqzDtTaK8Aqci6VtGFpBU7sTEtQ/u2WAnKu0gdM6UuPrBKKK01Sa0EqDtl5ALRJebab2JrOr0+iCV3nz63OwT7KxdUWqDUunrCsZv7Fk5ObCgesyBmxMH7wtc/iugmHbCsbvWDl0dfHdBXPuLVx4W2HGnYV59+cX3p9TAGWWS3KR3LxbC/Lvzc5+dPbc6vOdp8IgKMsFQFcnrCwsZzX/89HvHxVjkqfc7AEg2NcJOs/VrVi+kcL+EZgCNBQBODgSJtNRfDPBt+FsM0S+1iEoXXxsgLkEpgCFexncRyrdtLIOVx8R6P/D3nuAR1WubaNrWwEREQTpJYTeq5A6mbJ6X2taKr1DSO+Vpli3ukVFgRBKCCAd0uuUZGbSJoWiuN3qtqOE9Lr+867B8u3zfec//oezvfzy5XqvgSsJkzCz5p7nuZ/7ue/sAL307Zf/nSumjlbJXHyBQcsFxkrhNTztYLAKYGYImwSgOwWiU2ALg9hptExAS0QAQ3YaQFItCR4uG/i34EtWHuQ+gaVoAm+gAZl6gfA9oV5q4VVVjF8tWBLys7F+JsGvRAuOlQOOxp8gqs80qk9gEDZnEjRlAlpJs5UMbeIRiwD+iZPQNOB4HUGWY+oSxMtOelsxj3IaqYuJBispoMEeWCsprn2Url84pj65fZEnU73AkqkfvFt3/fT52WMX5TbZFiCWsvglP8+sFxZmrVpwWbOyVAc71nCFvNK2mm3YGli1TlfAIZcQ7+sMbDJypTxRzpNmnrrk63Fd7VvBy8BE4+UkWsFRAJgovEbgKkjcBtz7tC95eC9/BJo9GGx3HyI1BTo+n0CsBqbEnyjUISZGY+WxMn/mWhBzzIgmBcFeBt/Zm6nlCSHqt+PgzH2ex3cvzEyedSJuYkao+7kY9+wYt6zoBef3Tc9IGbZn+zPpYcOTI55LiJmakuKWlDoqMv7pyLghycmDk5JGJSU/FbIm++9f/FOSOntkzXtP1x8KTLJQobW/DySX97RLnfcrXnn5DE+beQrwr6xfNesnr4nCDoaopolqBrZzYPnQzFM1JNeIM7dQqpHAbLzarPWrEHyrOd9GEsyS5Lgn7IaI1wtoBY3liwwApq/+8d86ibdVshad57BSkbEwRI3IODjcqsXLtXC5oLFyIKLyATAxSJmIlIiIjUOrGdSlmQQoxmGlWqJUS1gEEriU4PhNkmpgaQuDnad9TsDLrAIYPrhobzsHV/CwlUetctZTNYU04IhsO4PUkSAXE7jfU6yNfgBMVQxYxnbieDVJVopUOa92CCAFvphFKmIipNb2gUZ+/6za6fsVmHplYJKpFRmYgKmj1Hn3i/PHT1KaXBLJXLLg7KplubCfRSCBjXoQXxVIV/pj4BgJq5E0afEiHi1ksRKBLtOypSxexhFmkb6m8b2o8DDzlIkjy1miiIArtGwJhZp5ysKSpQRS66+zhgT7jxi16qmnXpg8ciwE7fNccZ1j8nDULNJl/lSJDnNlX5sMdJ6BOs1p9oqaJ0ZB0DgImvH0CH+l8p1E9akXFxyOn3EkclJG6IyzMZMyd044Gjo3O21OZvrY1yKHJ2wZF71t5NqgUYHBY4LWjwjZNCY0evzufc+lpk/Ynf70mnWvVdi+lld55WXmbqnvj+KYJKm/q6+vX7rf2wPiynvbpa6WytdfPaflKvScU8DrRY1T1NRo4WotXiMytQJTo8XtetzkT5kNXC0v3KKFOyR3gyUrDbApUGUN8HPoVU083MTh1SLj0FINMvltY4lig3BhTZD047f/zSsmS+E5Fi3RMiaarBLYCo4wa/FSLWoxEDYd5uRBqHcDS1QLhMUATo1I1vNkE0c2cmSNSFXqKZORKfNnTAJhY3Anjt8gyHqGMrPYOcr7uHqZXUc6BdIpULUPDnhSagWmWqCrBbpKoKtEslogawSijifqOLqOFat5vkJHVOg1NaKmgcMaWJD/7ggSLQFETSBm0SkL9QQQWLa3A4HhQNqV+98CUxt4PDqktu++v372GKG8iqqq/PU1el2VjndoweVdbSCdRtoZSNcYiSoj7tCDZ9AqUmUckY/D12FlCYOV8gCY8gh1tueycpEqk5u7Iga1GrgSDrfo2SIGLaDgmtXG8xS+CIK4mbNZn2VjICh52eI8QSxlGDPPlOmpcpGwUZiDBAZPuSx+iUTe0uI+yJLHX5gEjYKgWcPnpmxQH39x7nvR7ofC3I+FzzoTM+nwtkkfAMOmpSf2THs9BgogoVWLofHjgAvK6ImQ2/xHMWFMROzzCUmTUtNGbdmy/dSZr2T3TtnsBBDgfxDHJBNd/T+3ch2d96Ufv8lJTnzPz/vIglmn5k49PXfCqXkTTsyfeGLe1JNzZ5ycOyNz/rTDi6b9bZn7u4tnnZg759zMWZfdZ5ybNe2DxRMPLh/33rIxRxaPOT13YvacqUfnzzi6wP3w5NHH3J7/cNqk95cueFPlK92sl+5++992KtfR+sXxQy8vmHF46fyj8+ecXrLgxKLZx5bOOrxsxqGFbkfmu2XNnnJmFjgn5k75cCE4J+dNPTt76rlZ07JnTzsxz/3IQvd3l8x4d8mMjCVzT82fc2HWnCuz552fPzdjwcyX5o1PnTYic96M7FmzTs2ec2r2nNOz55ydOe+j6fPOzZh3ctbcI/NmH1w0++0lMw8umnl4/vTTM6efnTHz9Ix5x+fMPrzA7fDCCSfmTsiaPeXk7OnH5s58e/bkN+aOPbx4wgdLJhzynH9uy2rpu2+am5sfNHIDxijuX1u5XyommWNqk/r7pS6p68cuc162gBeyRLVO32Aw3Aww3g4y3g7S3wjgGnVUnRYrRzwdvKbRn28IEOwibWEIC0tbRa6YxcBGt44pYNATKxcDjwGRLNFSJVqq3MDm8ZgpUMhhkVwOLTWyiVMnLYCgZK1xg56e9CgUv2hxoWi08NoKni8TQD9YS5BVIFoZzsM0+QSWESCkvR4rvBYOebtBkx8fHSp4H9sz7/2YeZkJc09ELzwTN+vorvmHw5d+GOeXsW/WnlBo3mRo7Cho6DBo1ARo+HhoyPPQxNlD9CFjwqImxMROCQsn9h34QgL8d1u/i/13qS3/v1NMvzeJ1/WWAcQLvaBi6m6TOpqtLx/I5iiLQNewSC2nrOGUDl5l55EqlqxiSQcHSJNSPV6mIx0s3USSd1C8icRKDaqcIGVhgMKkVzh4VRWHVAjgO+u1mJNHrBSaJ9CA/P7v3cp1tkrmgmweLdCCWNAqga1kcCuPmXgEdFsc0BzJwbmojUNNImYSgSzAySD1NFLLYFXgscXLdOCYOLyCxmpwwklSNQxdxqDnCJ9TyhWVPFlLk7UgUICupVknxdaT4NZBg/fVQh2Ta6QK9JRJADrMJpyqpngby9g4EKrs4PwcrNrOElaOKtUSBbzaLCqLOO+rAlySGCF1t3ZLwP9m4OmYgLm3nBIuG8XJQh6QSdAvdfbKnFNPs1RnvRKksxsNTp3uBi800WwDTVQDgSVpC2QqQ7gSf7I8mLeG6Cr9BTvH2im6luXqtEIJhQKaSccU8viRFxYUagEqlelIq4EpF4k8Wm0J1l4R8As66oxIEBCEPjEkKyZ+Ha4aDUHr3KZc1BqKeW0JSZayeAVH1FGYHVEVqr1y1d5lBHJ6tX5dYkjIid0T9T7QlEEjNlOrMlLnHI5bdC5t7um4pecSl52IeeF4/PIjCYrMfTPjN0Ojho7UqBfoA5jIxFUBG6BR7tAzk5/AhQmR0cPDw6bExi0Li/xS9hf4qbMDpISDnZw/Ssf0Xyi/rRwFbDEe7K8DS/waCqxo3aSJvxv4OhZ3Kf1qfH0/91V/wwvFovqi3vcyszKPWmUVlY0BZIOBBGwIcE0ZELly/eDNtU0yF57k0RwtU8SgVTxVQwC6pw5X3xIpq9LTovS2ERqnlivH4DISr+CoGhZr5NEq1NeB+d3WM/UiZSVUDg5zMJiNQhxA1U05eKaMIa/Byo98V1bwwL7S5fNdR6EOFrVxGDiEpobFq/WM3ciAoR6mvKGBPyW4EiVsxrAGTNmEelRTHlW8Ejgo8rSD5ypprIZFzKRfAYOWx0dIPS3tUmdv/wP2e4DomACZ8sBG16XeAWEEXZLU66oVAEh1SX0t0if1F3S6BmNgI8t9QlP/JJl/cKwzSChey50OJt4xwsFzx61f5Jau8sjbsNYm6G/R2iacuC2wNgYtJjWWAKEsgH9lztQCPVWiJYopZZ2eNOG+FQxsNnAfieSpYEOyWrEEguKWLn1b4F4M0M55BARVnN2yLgNDrCGBJg4Hk3F5tdvK+FhonwpSmRGEcykG+mjsUtEPegoavRZdeTzV7Xj01DOxU7MjZ5zYNe+D7cuPx807nbIwM9Xrr8nTtm1akpQ+aXv0pB3hC8PjJ6t10LPToGVeo8PCn06OfTpy10T/kDv9wI6pC0hNe0C1+IcB02/9mH6zK1fBUWB/nQbeGtUsCBFyLUM0oXCd0qdG7dfEEDdY8haB/UOJOFa8UCFghTpNKacysX6VnKqaVdaSihrEs44YSMDU2SaZirNZNE9kimkATLUE3EBoGjCwXOIkNE081STyTpathIkqhHZSfD1PfRzAV9Mas9KjltLc1FLAOJRQ1tCog4JtFGJjCZsAGKscjfKS10obB1Zbmkhw6mggQbAKgAK3EUongzg5oobF7CxWy+A3EKRaqalgRBvDfYyo7sCedeQqO+9dKWCVPHg/r8GJehqrxFXFNG6Ki5B6mtukju6fx3IDAph+Nkr8GZt6ekGonNQmR18CvQCgWXoA6/LZjSuGgAZjcDVNNTHExxh2W6Ds67XHOK/giU+5QyB8yf0REA4Q57E0n9c1ioZqGL7BUzYKKSVVlgChNJB/bb57jo4o1WJltJ8J9qgF+6SaUh67EqQ7t30zMXnSVAg6Fuh/LXTb20GGKRA0GYIyd27ONAhFIQEuYKrkFBWcp5n1stDeNlJxPAAPfXeX9lA09Oxfhk54VrFn29yDEdOy4tyvJk/OjphxYteiQzteOBE782ySe1bq0oMp4yK3TUhIG52we3hswoSw6FnCemjweGjRyrFxMYPSYp+I3TUhaF3t/d5mSeqUgemP45hcrVyf9MAo7n8HTE4S+NjXo5q/G7S3tFyJr4dF6XOTZRtpooEmgBcHhToZBCTxIt71aq9G2KceH0jA1N4mFRdfIdBSjikjATA5KLiaBuF6NYwazAFYwonjDm+/ek/kxiq0yQcv8fGx87iDw0yoohJXATkYobThfv8RmCgTjedoQHyTK/DS5YpVLec4OVgQmmIj1FUkXMvgTg70eg4cBXG7OGo1+ps5rgFR3EI8nIynQ/Bx6Mhao/ZfgMkiA1O71DGwKqb/GzD1/wxMoIf7LTD98+Oc4NXV/kG2ANFiIBx6yrlJfzEQCZs+THgc2jBh5D5cuXrhrLEQhE8ZURi+PdfAXcV8y2m1hUHKKLXZwJUY2beXzL7GIaVarJxRWjHvOg42oT4mLXk92PAqrp4NQetXrDi1bv2lnTsObV6/6Mm/zICgKLUifuniUyRRxoNdVCunMvOKMs4P3AOpyTaQ4ZGBi7gV0CMQGySsOfLirFe3PXNw09AjW6aeCp97POyF93d6ZMZOO5c47mzK1My0oWk7hycmjtu9f0h09HM7wuYH74CGjoeWeYyKj358d+zj8eFj126++tnX30sgVq8L5BL/gbtyv6diqqOIBoGuIEDScSmpKWEQW5DOHKy16NkbHHsTI2oxuI5EGiikiVDfJjR3WGRgVUztbVJhcS6GmhnGTKDVHAAmEMpAK0tQjxLcpxz3qxWYRkG4IwbcRPlaNWUigc7FxOEWDrdxIPPeRqjtpKqagUHFRMN2FnMIhIlB8zQ+V72W1VPqRhJYfdt4JbADl9Pl6mjYhqlshLqBJW+LnJMkylWKEgoG8rzVIeV6bT0J3yJ8axmPCsbDyiFVAl3HcLU40UBhNkxVQuHW2Aipq7mrf2ADEwi8fFAx9bmciYAKHFh/S999Vrh+o80YULFaXx5EVwSzNduN54OQ5PljXl88uzZ8V+mu0Iw1IUuffmTWX6Cr4VtOcHCxP13EqswsYmLgcj1VbGDeX7nwIqks1WImVuVg1VWMqkD5QoWRzQnWrZ84djYEvb12zdnNW17BiSiN36IhT46XI+dAKu/SpcUCZ+JIC4eU8+pSTlPKaEwUdl5kIvQY9Cg04rnB+i1B9O5Q5NjuKcejhmfumHoybMGxsFXvh3pkxk49Ez/qXOLYs+mDXg0fkZo0NmXP4zt2jg2LmMSHQMMmQEp0eHjY42lxT8SFj9+y428mxz9lmqlD6vrTAJOdoUwGujSEL1srXhCRS/7k2dXs2/7qS1sMToP+Fsk7SKKCkoU5PKBOGjgE+H4MHI5Jrpiu4Wi5DEy1LFVDgIrJRiudwYzJiBXq0cIgpmitNm+1/nqQNidAl6NlC7RssY4tFSkzT4AJtEBUUi5gUttoNUi4FHATA+dpvK57Lr2Fq28SSqAaE9UVPFjirSdB4GUlqqrliCaWqcMwB4xYKTzXSF0I5LL1Qp5B3yBQtxilg15Zhi0rQn3KUNUvwORAVWUkbouOlDpaevs6+/oGEsf0LxWTDEwdspAH8E4uAXRvLwCm5q/Ktu+oNPiXilRlEGs30rZAqmKTrmwNV8azVp3/ZVq8tHYDPnKYxxPQyQDtRZG0hohlPGxmYTOLlGqJIh11zHv5Odi7VEuYWdhK+NpoZZHGw6TFrxk56hHgne/v7iY8M3wZBK144rHpcnu4csiQteMnnyCoQkEo52kTh5fxSAmHljBYOUVd4bkUGnkKgp4YBkFDIGjm6JXpW+ZnJY7PjppyPHzB8UiPD8NAxXQ6ZvTZxLEXdj/1dvSzCTHjo5Ke3R46JyYJWuAFjZk5XBs4Oix8aFLcU7FRbjsiok999KU8mOvqAZrrPwfHVMFRFwT1h+SqN/wWrX/+SfQvkPej0KpRUKxm0QVEXUnQNpE3caSZhm0cWgk2UXyqBhT53dEmlRRflls5M4HWMYBjqiM1DlpZSHrlisrcNdT71KrdfnO1459UDIYWQlDAU4/tnjX9Ak0UGYRcUlNCwXaRtHNARemglSCUiYMdAnCwzNN4Xvdc+gmqvo0DYCrXAnbJwYIdlyYcc6Dq2zqxkaLKPb2tGk1NSMApAxa1dPrW6VP+5u1ZwSBNrNrBeNo4H4cAesw6hqnFsSYKcaCqcgK3R0VK7S1ST2f/gAIm116YLNoBr8DfABNgnTrlbs4FTB3fW6IiK/TGcp6sNtAf+4tNerrCQFb6Mw6drpzV1u+MzCA5LwhK8VpRuG6tJciYh/nZdSQAJgEr5bEigchWeZ32W1kuEhYOqaD9zIRPKeFdYaRPE6qVELQEgrzlWz8ICpw7E3ObuGTo4F0KxZl1G/PXrCsWBJPs4VHGYTIwEeUkfZUTDq0Jit0csJL1gIZB0PBHn6M8lhyLn3kxeXJm2NwTkSuPhK86Hjv9RNSErDi383uefzf+6fDtY8Oi3KLiZoRGQcPGQnOWu20MnRST8ExCwjMxsdPCY3Svvn2nHxh/t3e2uRJAH4JYQPo/kwv8v+aYrBx1nPamn4AUELRcdl9cAkFjZWjfOmrYsZUry4zacgNfTMMmHjGJcAnp7QAhKwNmKtfRJpUWn6fRIh5sjdczVD0GyO8aUukMpPO0qoPK+Z6yX5IbBC0aCsYuL8h+SRHjx54mkVyBziHUZRSI/ZGBSeGgFaDmF2Azo5KBafFtDACTnVObtGqzCNs4EBHeSGD1GHaL5howssJPU0mzBUYhyWO2x+PAlSli+tRCUu3kNXbOq0anavBn6nV8Pf0rMJkJvCoqEljrdg90YJKAwwZwlZX6pf4OGZj6evulFqn7ri0+zqozOAP09Qz+naj9ViuY1T4FiI/FX1+2OuSUIASOGOkLQWf8jXVrNztYvkjlU+/PmRmNRcRLOBQYfsOKU14rykXKLGA2Di7DvcoZhcWfOgV7sxAUNHpEwvKlH9L4ubVB2WFbd/isnAxBwbOnn1uz5iOaKeOBQ6yFw0H9BdJ9MRNJXeW4NwPEv72RtPrVXTODVNBTf4Gee2LGgc3jDodOOh42KytqyfGIF07Fzc6ImHksekn2ntkHk4eHbpkQHjEjJvZRioWeff5plJ0TlTAxNmFYfOKwmPipcUkvxKc2StJ3knSvvfXPVDFlIitxCEp0H3MlkL+8Rnd+S0ikYsnKxwDex02dmG8QKgJ05TRSKWB2f7JSCw+4iulnYCojQcVUhz8AplLMs1hU5wURuyYPfUWz+F0jciVh8xtaZLfSZwkErYSg/QvnWjaEWAKEYtyvHPORjeIUVZRCTkl5AEzXvBbfJNS3cEClV/CueRxazWAuyVKtCquDiSatsTLA/32VFzf6iWkQ5AZBO2bPKNNz9XrCQqyyUB4VpLJc7VMPfjfABjpQlZnAqyMjQUpKV7c0kJTfoBZ4IBdwSY1B59Ipl0q/AlN/b5/UIvXcdSQnmgwGZ4h/Fab+DMG+xPF6Br+9NaR0tTF+zrSlsjNf/KoXLq4OKeP0ud6+1XquGFeA7TYtUcwihSx2BdWc8ADib2DYhHlZWKVJUOVSimsidobHTxnEnC0brgXps7X04QA+QbNqBgRtmD31+vrVV2jSwtI2BrcxiIVVmxhNOY1YCSKHZQ6tNW7fJAS+HSb+LQoaDEFPP7LqnZiZJ+MmZu6anh214FTkilNxc4+EzzsS7ZG1d9E7yWOjt0+MCJ8cuhOaMxt6ftzkjVvnJKWNDI8eFp80NC5xXHKqW0S0TZK+kKTvO9oelkuc9BArJutvHCx/8fy20WRlkJAvoFaRqxSEPIwo1OquGIxvqnyXyn6JeSJvwmRHalxTiSmaDOTA0TGBq7yzXSopvkSixTyYylVzgGOqI0HFZMF9LJSyhPCr0AJTvRy12sry5sDVlzdtCZ40aTkEbRkzqnC1ESiAGU2tDqthlFW0bxVISVG6KqYc2POq1+J6CnBMjSTIvLRxYFHOxmFgLdFX+Q/eUE/yVpYvWhO4duzwORAUrl4+BYIC3SbliUwlo3YIihpRXcdjwC+cIutJrA5XV9OaYgSui4mRmu8DX9X/AaafgQlM5bql/r6e1u4fpJ67X33wXom/IV/A7TryY5b60ih+vCGgJJA6Z6QXQ6Ard4egORD0f1XEZzDcYtQVG6nLpHe5FvgBlAl4EYeX64QjS+aXcHg5j5cwfqWsooRTFAmqPC121cBeNGovGbV5WuISrz6/ln9HVM+HoJCxT1/S0pWBWjOqtKOKCtyrgvKxMn4VDGyn8WKBPRIovPViJPPiBr+XNz8543loKOTzbuLiM+lTTka6nQqfk7lrwbGIhZnRizJjl2YkvnA0fVTM5qmJURCuhsaMHBpodI+Nnb1n77MxCUPjkockpAxNTBqyfdt1qeeOS2bZ1gxiGR5G6uXvdxf4L6Zy/ykwVVFkCaGu0rG3RG0NTJmVuJXQWjj/S4J+kdyhXKSIGk6sx7AGGKR3VNN+AxOYinimhAJUThUJgKmWUFrVHtU0sFhq4tlbgniTEj+lDRZcPMzror08fSCIexQ6LzKWEF0po3aANV1lDeVbQ7mACXBMObDnJe+lNQyYyt3C1U3EA+9KK0/YWKqJ5mvURAVON2zenDR/xhLwZjspAVOMgyBx2qTLIm0CPLqihlOCbDsCqadIJ4nVEsqqB8AUJztYDkhgckksZY5Jkh4ILIGu0LWu0tfT2ntX6r37TcaHhUa9dYO/PYQHOljU1x7EWjZo7WGbjwnkpbBtGVs3bF0FwiC2jhpRFKS7pEPyA/FSHWwSUYBELGnWChmLF5ayZDmPFzOqEk5RzCkKBVW+FsnV09f0Qq6OK2ZU10mv8wbNUa2SGwIlL5xyVUBLSVUVrqzBfKoITxvlaaV8KmiVnYRLWfKkjklYzWz+IHZFeiA0AoLmjZ//yk73w1FuxyOnnYycdyx8wbGweccj556InnsyfmFmqvve8KFBOmgGBCr4AAAgAElEQVTaFGjB3LGb140PDZ0UHT8iNHpS6kvPJe59JDzykS2bM3745mOZ/25uufew5Gz/fwMTXqDxtrNYI041IdQt1r9RCKkg9ZcE/TSZaTpJwA3GACeKOhFlg4iUo6sGFjB1tUvlxWcZNF8WWFZzvwosb3PYHQPnIDQVqMZO4DU030BrLyvRyztCqeefnw9ByUsXXPYXi/S0hUOsmLeTVtYRvkCkyqireDCV+yWJt45RAqYJA+ySncXMPFgxqaY4iwYvZfkTiGaFTP+9p6P34PBoCGLdp17QsuWk2sYo6hg/JwXX4Jp6CndSaBWltDOaIhSujXEBU99ArJj+K2CS3T9AHEH/j1Lf3bvZx/ONurIgwRJIN63WAQfutWKJgchDEYshoGT1+sKdYYe3rFv1OLQMgi4G8WdEVUEQUQKACS7n8VKWtIhCxsIFvwATQCVeUSj6FWhhEJGiZUsEukaLVgh+ef7q62upA16zzulhUyBTjvs6Sb9GAmTN22kPK+1tpnwtuLKUQPK1wttr9cbEQAhxg0ZDMyOMHpnpszPjpx+LnnUsYtHR8EXHwmacjJiSHT3ufOz0rOR5u8OhBXOhp4eNhbHl4RGLouLnhSdO3BA5dn3MxF3pQ7ZHDd+26zV79VcScM+T7gOXtj9FxYRbOMRCqesQ5CbG3GD1TjGkkNa+i8ATIGjBIOg0i1frtDWopgZTVIuaUmzlwOGYQCvX3S6Zi7O4ByspIFEag29imhuosgFT3hSALTqI9/EXrAGGipDACzpt9KqV7hC0AoLOrA64bOSukKoqPVHLquopv3rCt454AExlDHoNUXzku8Jle3ILhz9BYVdwk5WjTAJTRlD1a9df1Ynax8DgOcnnhdPBAa/R9BgIomdNv2AQTQxcw6kaWFUTgzlBxYSDjRZaWclqCrD/AaZfOaYeeSUFVEzyrLynr7tF+knq/aH18rkco9YUKFQYSGcgb9NhtmDOpMXLNWi9GFQduPEkwZ/ctgkZOWgJBOVtDswNoq9wPsU6VZmoAaM0hjALfMbChSU08B4oYlWFvKJA8CkU/YoFuETEy3jawuG1tMLBeOayntcDkVO8T9FaoVxPlMCewLGaUtSBcGZvE+NdSvmU4spCHLmC48c2Bz0x+S/A/ASbtfRg1PJTu2cdi5uRETU7I2LR4bCFGbumZUWM/ShyxKVot+zEsRtFaOTI0QuXEZt3eYVGzFq/fQTpDy1FoGXMpLVx4yPT3WKSI7Iv/uhKvmztk3r+DMAEjCsDKbMWaRSZGgwv8FWV6AyndMK6OVPHQ1DI4qmXjEIZidcQcBXhY+Z9ywVvkCU7MKZyLmDqsxRnCuh1HVhJqWOoJhT+GNHchpW1Gp8aFngw5QSQh/BV22aMFkc9phgElhjEaZP3YfC1bRsuGZhCHq0SsZs6rJHya8ABMNXRsEMgyhj8CqI+6+thElE7B/q42xh8C8MaCcLBAGDKF9i8EP/o2dMWQ9AG90kXtmzKEnQv+mnGQRA9b+7FQKOVJ+oF+CYPf8wSNyi8gcLAPdMKK6fJx+Hq2DipeYCGEfxMfwO5gKtQAIG0vwGmNqlZ6v2+r+h6rl4085RTR9/QsXeCtRYRs/LYJ8bgRi7QYVh3UQy8sGsn+vTjagjKDRRzBaRUB5eJKnB4pJTGLDyfMX9BCU2V8kQBqyoQFHmiT6HoWyqoywXUwpI2BnXiPnWUTwHtfVWnPm9A8kPYUi1RQWkaWaSRUddwSiuvKOFVBay6gESv0/gZGnslgIKGQU/ycxe/H77gVLLb+5EzDsfOyIiadTR80eHQ+cd2Ts3aNeZcxMiL0e5Zce5b9NDgp2av8JmwYCU0fjI0ZhI0aiY0Zgk0h5i1PtUt7sCUyGRm7+vAYLdTkpr7pO4/BzChZj1s0qobWKIKga0kbVm/LhX2nAxBHkOhtzm0yCCWaVSNOOLEfK2sl8NfOdCASTIXu5Z4SyggF3AB001EeZNBanVgof+soEp/wR0bBM2X7VMXyhzQbtjv6tb1uYFiDqmwc/BNEWki/Zow33pcAeoaniplycsIcsbXyySiNh5Y9N7E4U8Q7DZK1JGUiefy1/qney1ZBkEBU8ZkBBjPh6y+Zlyzb5XfGAgi5s05bzRYWLKOg29xmk9o/AaJuYDJxigsvCYPh6vi4qT7A84o7pehnKxkkoGpX07fdQGTbEbU3dvVJt2Xer+TKkqua/lyCvtYz3+mE75a418qy7gb1q4xGwI+4rUX1m9MJ+A5ELRr4thCf/ES4m0LpEoFJTgccGG3clzmvAUlJFnC4fmcOu9XYFKaeKSSASlENyjVDU5j1iI5euSSkbjmz5j0rNMg1DJYDQMD/ZqoKhCRXBHP5eiLInMymE9dQzJbCexg6KKshMW5L885luz2XsS0o5EzMsLnH9k5N2PH1KxdE86GTTgTMS8zziMtFBo6GBo5Gho0FBo5AnKfDr2geQYLmSCEzQt/+bn4fYN2hs/cHvaZJBeMdzv+HBVTFY2aON8KVuHw82qE0Y/9g8+QKDpx6HgIil86v8Dgb0HJRhX8JYzcUfvc4P3qdYDBHUAVU2e7VFp8gQJTuV90TI24ph5XVuEKO48Uc+piI3VVT2TRmmwOO8wR25cvmi1PmlOWz7usoy/BHg4W1DU3CRcwKWVgYkoZ+iKCnVZ4AwkMr3YZDPwdxj7TEDcxysxxmTqSHjt40ePQS3ryytYtZ1h9SeDm13yQ5yBIPWPGaa22BIercEUD7tuEqus1qgYKXOiVjMIkaHII2B7vAiZpoHFMrnLpPwEmlzFTn9Td29UutUi930rVlitazhGg/dhfvMNQjTRaQPvlrWEOa+Ej63Xvbw+JpFWzngCzuUOwqnbL+lIjncv4Fou/ASaW/wWYcjl1rqjI1boqJpAyYAPxqGgTpqzF/cp45AqPnBGwbArOZUmQf0kBt4lyDi4SXUw5l6PTZwfpX93ERkWLUR/GwofCRry9fubVvfOOpUx9K9QtI3rKsfCZGTtnZe5wO7Vz+kkwnlv5QfSSfTuhJe5PeSwbScLDt695LjlycnL62LCkaVEHRscfgNL2QEkxT4ZuLpK6fgCRIb1/HPndB6i/zv7eHqlX6umU2ltqX3n5Cs9VMiTw66AUdZRPNXCY1tQRIFwA7EAIeIWXZw2CWVh207An3CFo9dIpZ3ScTac3e/v9HSc/RzQfq73v+KN1osIFTFZSUyyw5wKN0ldfSm33+3o7XeYSDwrmXvA7dIHise9hRRKDxurf/9HRLpUUXiGQcpay4GgDTdRjsAuYHJhvnZYAChQRMxs4s79oMeqycPTkprURPivny2KLcyxqNlJlqHelZmUTCVq5ehwAUxXHmGj6mgb5yMcL6APkXIM6Gr6FobcwzElSpSK3cdIIdwjye/7JeNxnv0rxplLzprc6eqnHMxDkOdXtCCtcgzVm2Neu8XDA3hXKVfW0po4BYb82VpNDoLb4OKnlvtTdM6AcLP+1Yurrk4BBmkwuuf7ol7p7O7qlNqnzB6mh9pxeV8az9RxzR+AaBLpyjXjGH1kFQcseg5YNAxnI0yBoL+JVsCawkCdtIdpruHepoCwTlGUs0PSbeebogvlFNFnI4zm8GmwCiID8LufVlSxSRYPX1y2erGERawCXF8hfCBZO6emLgdqrwfqP9GyWP50Rwr23Xnxrk/8bW0Pe2LZub/i66LSQza+vMxzcrvhw58JLyVOy42a8H7H0ZIpbRuTkzHD3Y+HTj4e5nQiblRm55Ej0yg/i570WMzstYmH0rhd2pwyPC380NnxE+p7HwxKGxe+HIpOh/XseeX3/oOgd5zub/y71u3ZS/gjyWwaGfsDZdvYBp752qbWl4cDL11nOwVD1JAwoWNrXSfvVU8qbOCA1mhCqVkPW87oylokdN2IlBGlHP5a9SSxepysFSbzITY6oIxQ2wqtC8LWKvjYGVEwVhKaM5y4bA6QvvpLu35e6gZcE6OR/s6zUBXAR+E78+/Hkof1EAEx51wiNmSEqMfgGRdxA4FsoIL+bCLUDUVTRiI3DyknYruWq9NoLOPzRpnXvBRvQx4H+5c2VC81BrIXXWEmvOsbPNZWro+Fajqgk8UKV8qrnCrChwintYIlXbeNAZkGJlrrmz2B/gRZDQEo+SxbUuMu3YyHouSGDn5YTemkIKkbQGwauTo86jeoa3qee9r6J+jbgSAGK2hJipLa7Ul9rf1/XQDOKe7CR8rMxk0skIL9Xyl5lUk9/e4vU0SJ9/c0HWqNZ71/PCfVaXUNwoClEn4F575o2knwUgiEoYeHUU1q8bHNI5dqAfBopYGGbP1NO+RUjq0pwn0JCUcpjhTz+1gL3XD15VYCv83AerynhYCuLOxjCSZP1DGHC/EoFuNBA5q4T3yC8PlivfXOT/q/RG5Ij1oTFrd+Yuilg3zb2QBj+WhT8Zqz6rUjs0A6fN4NVR7avPLpj5odb5p4In3s0Ys6RCLcPQ6dlhM88HjvrVOLM00kzTiXPOJY083D6vA/emPrSgecjE0buih0Zmz4i+cDguL1QZAqUtA+KiofS0wanpTyzZcuJf3z+nayAf1iFwu+UCwCXPmBu8CswtbQ0vPTqdVawM4yTcvkx+YIZMw2AqQknqhD21uot1yhu49ODvSAoZMLQtwivjwKoa6y6APGx4+oGRh5Cc8pKA1wu+FayvnbWz0pqynj2t8Ak10cAlx5gE5hO9nQBb6o/MzCBVi7vMqkq4wgLATfQRBP6YCrnRJS1mKqeB4bcZgI24UgFTeTzTJa/IXNt8Ornn1VD0L7ZUy+RigLC24R71rB+NRSQC9TR6jqWsBNosVKRu2qFk1IDJQENfAVsHGoWADDlGZijqM+bylWvqT1f1HglKz2SNT7xGu+1nitGPfnEC1Pd96qo91ep6/yDrbi6hFhlFTxqBM9GyvuORnELQYsRDFRMbd9LffcHFDD9po+Tr0MZovpB2Q6uxh5wNfYARry1RWrtkL796VDgeqt/iJPT2njOYhQta4zlGwIK1+vyQ/jydXpzCNh2LKI01QFibYBo1zGVIlGlp6ycxsqDSC6LlioT8PcXzswXiVyeyBXJ61oyRweevnwjm29krwVy2cF05nr++A7jB6H+iUFo3A5teGzw1j2bVr8Wxv8tUnModtWR2IWZidNPpkw5nTItK2HO0V3ub69dnAGmb7M/3Ln4ZNyCEwnzTiQuPJ0+//Seuaf3zMraOyNr3/SsF91P7Xc/+dpzf31p5Esvj0h+8dm4fc/G7BsRd2BYyuuD977++IHXob37hh14cezutDGbt/zVYvsKhMQALddD+fi9wARYvn6pr13q7ZN6pa4uqaXd+dIbVzjRynEOBgNvzryfnQeWrHUUamOpAmPgByS1dsK45RBEPPvE6xz80fqAU7imKiDASfG3MfomjFX7+jlgFSgNGGUFq6jk/MppTaH4ayvX29fpsuMC/+2fiyb5gviTA1NXu2TKz2Y1eVrKZRRXQyBOAqnD1RUqn2oKqRZIOaOBszK0haZMBsOV9ev+ShAwBCkh6M1l80qNbKWerBaxGkZdQyprgBscXMtSlSRepFTmrVx5C0P/jqjvIPBtFPRxjQTw3q2mmRpRZxcNdv9gsyGoUDSW+a/JNwS9izHjIUgzZeZJw4Y8OqBBG+hAYTvr5xAUtZxPE+l3R6O+iZBFCGWLTxiAFdN/AkwAm34FJuC3298jtbWCCJnv72Vu3FZmMICsUB1j0dNFBrLISJUH85VrdKU8Vm1knXq+XqRv6Lg6lrARGodA2AMFk4G2aJlKnrYzjI2kTs9dUI4S5ayQrxUuBIgn1oiHNmvf3Kk7EK5LjTHEJq8NTVkfcWDnpj0btYlBWIKBfW0L+tZWn4Pblh/avuDojpmZoW6ndk08EzH+bMTE7Kj5Z9NmHolbkr1vYdbeOZmpi7Nfmp/10rzTL0/9MG3Sh+njD6U/fzD1mb/GPfliOJS6FUrcAiWFQ6nxT6alD0/b/1zKS88mvTQkcf9jSXsfSd8LpaYMSUsaERMxZu2aXRknPmnr/WOBCSBDZx/AJ7CR0NpZe+DNi7yhXOArOAwsZIl+ZlFpFdQOFsSlZQic/5RJiyAInfhcgoB8sHPNqW1rLq4NKtTqSjS4E2Y+ow03MaZGjdhQYPBawSosgqKEVefr6DPBBumbL6SOe51S533JZUYlA5OcFi9PaP/M5RKQfriACcnRUQUMahOYShqz02glDTv0lCOIv0opT/otv8gihYFCYaC2YF1Qhk7YNHnKCxCkhaCPOMy6Wl/EqIsxXzsH22ily/bEJshGcWr1VU+PRgKTIQmg0k2MeJBeSTB2mKgmuHrOWEVrKwihRgiqpPRHPDVLoEfZqTPP6NeXsIFVJFdHEU4DYWV8qnilk1beQGAnTudgjCkxSWr/SeprH1DuAi6fxAdFwa8o9SswdQO+oQdk0ra0SXfvfxQRk8vR1TxeF8DVrdE5VovWINZspKx68uYakE1wU887Wfq2Qddk1JpxTRmDF2mZfC2bxzMFIpfDs1cF9qDXquMCc2p9wKGtga+GBabFBEYmB27ZHbjmxUD9K2vpv+70e2079WG871uhPu/smr4n0CsjZkVG1Kz3t7h/uNUtY/uUEzsnZ+2afC5s8vnIqR/FL7j4uvuxA/Oy355x/LUJ7++Zcvil8e/uG/vOnsfSwh5ND3ssPfKJPdFP7o17cm/coH0Jj+9PgHZHAWyKDnssMmp4TOLI2NRhUclPhMU8nZTyZFTkY9s2D10bMn3d2o2vvfFZS1eP/Or8gyom+fn4GZj6pNbu6pff/kjwLxFFM4idgU1aZblWbQKL7GiJyG2cMH7Fo4DnGwVBz0HQsxA0WqYzlBAkQNDL4yZV4tyn+uBbtLaRFJp4tpJxAZMyx0Bmheik7/4hdd1tldp+lKQff7uUJIvZAEY+6PgfyqPxb78T0MrlX6CQAoEqYtBKgTGzWLmAFonIGcIzk/OKXjgWHQIRI6GQuSM3Lpu4dfk030chXwhCIGjvioX56/2vGchLpE8+pyrXwmW8ulSAS7VYiYHKE/BzuDrLz6NcJMwCkM/Ih7DKsm8rR5WgiJki7QIw0rUQdI2otzF8hpdiNgQxY8ZfDFznCNlgwUkrrq4QNYW0h0UHWCoHiVkY7gzD5qelSN3N3VL7gHKw/H8Apm5gqdvT1d8p9XeDFciWVulea35qui044IaertdTTiNbHyzWr9E1hOgagrQgQ5AhqjmqHIOtImML0uVweFmgPpfjr2t15wza0xsC39lsPBAZsn07uyU5aN0r6w1/3ci8vQk7uElzcJPfwY2Kdzeuem/bvPcjphwMW3AiZcaHMfOOJz+zf83Sc3sWnk6ddzpp3umkOdnxs0/HzTwdN+N0zPTTsdNOpYx6b8/gl9NGvH1g2Kt7HtsdP3hf6mNpCY8mxz21L21wetJjifFQTBQUHflYbMygxIRBaYmP7o58bHf40OTIUYmxk+PiJ4bHjN4S9szazU8EBE8KD6feO5hSmHf+1s3SWx93SVJHe8/Degn9zlbO1Ub1A686EAXc9QswGUoF3spjZhHEWJq0oGKys6hJYIIHDWaeHoYMf9r72UHLn3186YhHPZ97HH3uSVgGppfGjDMhxG2tfxMl3qT4WwLvoBWVnKKUVebqyazVovT936Xuu/ellrtS391fHLl+FrP96YGpo10qzr9GaMo4qowE+qMKBrFwaLEAmzYIJdt077IrAyY+5vEI2PmcKe98KiBo69jRb3iuuGIUS0J0uRxs1uN2f9IqwGZOXc6rwaaVnsoX8AuYMstvZaGeKNJhRTqsRD7Ap1UkzDxRQqhLcXUFjVWQuAVDalmmiiLP+ngTELRl8pRcXldnCHIgaA2uqqR9y/BVdgF4p/wHYOr6qU9qHVBGcb8A0wOu88H7IqiYXMDU0dve19spdXVILS3S/Tbzq6/VbVj7cQDYlXNwWCWPV4pUhUBaOao+KMARoK9dtzpPz10NFM+v0b5JKt4JZN/buvpvEZteit6wf39o+EvbtxwM5w9uRTJ2ep3YsTwrdOHpXfNO7Zp7cteczF1zM0JnHYuYlBE36oPIyZmJk44luJ9Mf2TP6jnZ+2ec3D3v9P45p/bPPLbb7cPkSQdjx74ZMeq10GdfjnwsLQ6KiX4sPe3RlBQoLn5QatqTSSmDE1MejYwdFBX7dFzis/HJI+NTRsanjIhNGh4b88iudU+Grx0RumH8ts3zwyLxvS+Hnjj/YrHFJkk2SWqSpM/l9d0HEtNuYP39UD7+T4EJLBHL2cCtnbUvv3GR15l4zs6iNl5pE3ztPMgjADtWFGHidHmC/rremLsmJH/z+tyNq3NCAvJ0os3fWEkxDQz/qaBrIugaBKkhsApEXuJlFFZKWaglzwaL0nd3pO7vWwEw9dyVXd9BIe1amJSFCw/lUfjD7qSjXSrKy8NUFgarBHMAvA5XOwlNFaU2k34mQWMOoAp0yFnCMxv1zEa9TyhWnvPzK2cFh1Zfp9fZCdwGK2/QaLXKq4lQuyIMwGyUwe0kXKz0uey1wiRi5Vq0XIuaRNQMksTRCh61s2g1j1biftWEyknBdbj6JoPdZDCzRplLkHkY1cTqP6eEv6vgr0n0FuzVAHvcIpU3CfUNGKsl2KsEY01IkprvSl33pd4BNJX7r4CpHwBTV4/U097T1tPbAcbFLYD/rnrnvWKttl5gG/TaWqO2UidY9WC7qHJNcJG/IQNWHeXIo6t1xa+n2bPfe39veNy+rdp3Q9GsWOXxCOx8kndWpOJ8/KqPYpaciVp8LmbBudh5Z+NmnYmbkRU7/VTctBNxbpnxM0+kuB1NcDscP+NYqtuHyVBsgPsHaVMOpo17PWnsa8mjX0wesSdxWErckISowTGRj0dHDkpIhsKihybtHpqQPiQmcXTK3tFJ6c8npT8fmzI2OmlsePzoHdGjtoaN3LjzufXbnlu3afneROOxg6/ayq9/+01DR9+XcuNyT779ugc0MT90dAEs6pWktk6pDWSgPpSP3w9M/UC70dPXLfX3Sp1dUktr3YHXLvEC2Atl4GrOt4b1rmN86ym/W7j6FoZVqFAbxVVyQjFBFNGkVcc7dKKdoeoYqpGiblBEtdrPpPCsZmCnkbZSyjpC0UCo7LimnKcvBOikb/4udX7fJjX/KPX8+AswuQq3P3kbB56/zlapOOc64WdmESuhamDQelzZiKvqccXnQaIV8zahXtUiVkFprKSmmqOqWLqa5Sox3KRU1hF4PYY0ofCXAn0bUXyCKW+iCpfOoJFGa3BNmR9wsKzgUVcsCkhG4WBQ9bBgQteoxe2YVxXm7ST96nHFDUp5m9XU4n71em0Nw97G6E/V8B1v769R9aeIz9da9GNCtihAkWoATBSYyv30HaCZev4HmMA4yAVMbd2tXT3tUm+n1Hpfau9wHD56XhCtep0tOLjUaLjMsR+x9PWgwJLtW+8dO3bv/Dnps1tS23dS3937HV/87fQbq9+LXpEdNzc/1f1K3IKCdPfz0bMvxc++EOt2ateCiynzz6fMPZcyOzttZlaa+8lUt+Pp0zLT52cfmHNi37QPkuZm7p98MBna5T/+jeTnX04elBA5KCF2SHziUwkpT8XvHpqw75mE/cMT9o6MTR2yI3x0TNKoyPgRO8LHhcWOC42csD1iVlTCjNComdsjlkcnav/6Xmp+6bmv7tok6RO5JvpaRqI2SersBrNw4KjQJ3V1gldgZ0sHmIT19EhtbVJ3t9T3cJDpdwITsHrolvo7+oG/cafU3Sa1NDe88mo2ilgYrIZU1pLedeSqesLzBub9qUZxR6NuQIFphoNCbBRSSSOVNAz882ngA1tFKUHjxvqaed9S0bdI61vOKxooxKlWOXHSRNJXjAbpu6+krh87+n66L/Xck1u5X7rYnxVtDwWg/3134pLGurQ/Uvt9qfzaSWxl5TptGQ8Xw54m2KOOUZpVy4HlG61w8dlVJAzy5nCkFsdsFFZJA1EvyDgh1HUECHqqxxWNpNJJKmppvzoOrhGQClqVp155wWNBJaOW70Rpk413gcUlrXA5N1XRwCalhvKuobxrSe9ayrOKBslllTRSS8BNmPIG5nsD864nPGspT7NqeTWrbtBzxQxxXmSu7toitX4jdf0o9XQOHB3TL4ED/9LKyYO5ntae1i6pq6evs6u9Wert7v3hB8uxY4f0hnOBAYWhofUvvfhD1inJbJY+uSN9/4P0ww/S/XtSV6sktX/d9f1XUlvKlffxt6KQ07u9zqV7nEtfeS5txUepyz5KWXY+dcmFVI/rLy86v2fx+ZemHUlafPb1Ke8mTXt/z6R3057aHzp4T+jjqdseTd76aNLOx1PCh6THDd2dMjg1We7Rdg9LPTBy7xsj97z5dPJrT0elz07ePWHT1pFBqyeu3+i2cdOUNesW7diJpu/Zm5N/yF6V//V3NyXpS0n6SvZ+u9PT84PcqYFxmxzlCRbi2uXT+bPHeU+v1NsN0vR6O8DtQyqZfi8w9ci/VGu//Nv1//SN1Py9ff+e0wRWoaXrBMQpqBt4ZROn/JjWfI5jn2PEHRK7RWNNDNbAYU4eqxGQGgGpFjXgaNXVWnWVTmnTKysMSqtRaddpaknUiZD1lGimxWv+QdKXX0jN392//02b1HNfdgt0zUTASFA+D6ml/eOAqeRqFuphDuLBWialrqI1HxtoJ6ty8kgdeKywOp5wcmQjQ96k6SaaruPoaoGs4ck6HoQ7NXBYI4s1skgtpZKBHnh+23mknFFe13hc9Fzs5F3f8Mst0sAhDbzGdZy8ximo5aN0CsoaUV0lYtUCIf8rpJHTNHLgqzWi2oR5VIlYTaC2SMtcChDzYnZKzV9KHd9L3QMbmACfAHSVvVLPL/x3R3szKKHa276w26Xbt6VPP5b++aV093vpfrPU0gxum5ul9g6ptbW3s1fgzWAAACAASURBVK1d6v20v+XvkrS77Bx/dJ/ivQTFkRTk+F4qaz95Yi98NMnnvehVb0e88E408dFfjSUnxu3ZMeHl2Gf3hj+VFgbFbB68O3Zwetzg9LhBafGDUxOfSkkcmpz8dFLKoxFRQ2ISn4lPH5mw55mY9MGhCY9sjn5yzdZnBHGqQauIDA/NOPo3S/mFO7ftLfe/kKRvJel7+dwFxVFfs9TfJtcBHZIcyeRidV0uwi5g6pK/AATO3f2AbO7qkTp6pK6HpSv8/cDUfV/qbZbTN1ulnmap46f6d946768tFGng2y2oLIKfldPYGcSJ4zdQ/BaC3kKQGxiQ51SDOEaNldNYeJWFV1l5PxvrV8X41dJ+TlLRSCichMaKoCaUNZPaXEK8ErRB+uKfUkerJHV2Sj0dsuWL683KZf3ucn//94HKw/hJ/6FiamuVcq9dh5UVLGOjiFocaySwT3i2kcbrCLSaQqto1E7jVRRZS9BOjHXidDVJVlF4NYnXyqeOwOWD1lFYNYU6KMTOEg6eMrNYHqK47r2yAcdvIuDcQMFpxNAGHHW61FIkUksi1bQGJNnJx85o7OAngp8LVFS/fh5p0HONAboqf30eR1/Q8sWRodKXn0jN30pdAwuYfn07/FlP5wImWXgMNJZd/Z2dXS2gseiVx3PdbVJ3a1/n/e6Oe13tzZ1t97pam3vut7hc5QAzI8PB55L0cukV4d296vfTvN6J9309mnwjbtMHL750JfNMVXHRp3X/kHo+laTinuZpoeuG71g7KHrLoPSop15MhcKi/hKR9ERc6lOJe55J3P1sfOozUfHDw2LGxSQ+Hx41cvO2p1evH71hy/yEJPbQ4dCLF0ruflfd/P0nvR3fyT/3R2DX3fNtLwiWaOlvb+5paels7uhu6QWpVKAo6u0HKfDALhj0a31St+v0SL29Evhsd6fU3Sp1NUtdP8m3PX9YxdTfKfXc6+j+qVdql/papebvSt945W0KOyNSF3j0vKCWD3yZxXMpqoCgCgm8iIALSbSAgvMo+DoDX2Pgq6zada4z6jxaWUgpS3GlCVOW4HChaLiuC7rGB2aR+jOrN0lNt6Tmn6S+zi65XHpQQsttrAu+H4hKHgZk/Hvu4z8AU0d7T17ORZ02R6ct4PlSji2laBNNFxNEAYnnUXguReRSRB5JFeJMCcqVYEwBSeRS4Et5JFHw88kjiWKOLWDpHIbM4ekcLXtVpM+QcLZaUYQTQJ6HEqUYUYIRRThRSOAFJDjy/ePXafwag19l8Ksseo0Bzhi5FH6dBn+/Jj9Zrk9eo/ArJHEGQ4+icIZOKE5NkL75XGprHmgV078CEzB0BRUT2N6Vxd9AMSB1g6u1t0vqBxqCNvA66WuRelukXtfLvUeSOjq7W9u62jr7OkC10veZ1PN+eeHO4weTyy+8Vl9y8esbzp6798BdyGsuvT13f7z3j+Zm64933dcGTYje8UxKBJQU9vi+tHH73piY/PqY2BefC0sduT1+1JbI5zftmrBpx5KYRPLV1yMvXHzfWZfzw3dV/d0fP+jRuu9LfbIqsOe+1N0h9bRLnc2d91o6m7t6W2Qwkiui/laQmNfdKvU/2Mt1XbfybW9/f68LiLtAudDTDPjf7u8B2QIIqIfyOvq9FVMfqFF72lo6m1v728Fz0N5889qVnL3peQmRhfFheYk7rifvuJYcdj0xsjAuPi8+/kJq9Pm08MspkdeTwgvjw0tjw8tiwk0xYaaYsNLYsOK4sKL4sML4sMKE0MKE0PyE8CuxMTmJyUUJ6YWJe0yv/03659cyyQb+w4Bd+s1cxLWk8ucGpp7OLxyWrP3JZ3YnXEqLv54ck58Ykx8bnh+7qzA+vDA+sig2ujg22hQVa4mMt4clVETEF8VF5iWE5yeE58dH/nyi8+Oj8+KirsWEX4radTE27FJC5IWEiNMx20/u2ig/L5GFceB7wLclROckRF9PBOdaUvQV+VxOjnadK0nR4D4TwnMSw68lhV9JBrc5ieAHFcXHFCTEXI2PvpSScGF/muXEYen7L4HudYBN5f5zYOp/AExd4GLtBAxsf1d3W7Mk9bRKXfekvnsyU3NP9p+Vdxh+tsXuB1d0F8gUl/7R0VZ/73sXv/OD1Nva193f2Qlahc5uUKf0gdqqvrtr+qZ1z0fvfDwpDEoMhdLjx4UnTtkQNS5op/u6cEXCSzsyzx+yN+b984fbkvRJv/R5v/SDrEx29WWdUp/MA4FXU2t/e3tfey/YMOuRKeNumTTqBqu44LTLt2DGBdbQZGq5E7D6D45rBacL3CGA3XtgaN7X7HqRPgxk+p3ABHChT+rr65T6W8BiivzR3i59+7XU8pPU+oPU8Y3U9Z3UfReUde3tUkcn+LWlZqmnRepsBm+wLT+BBvv+T6DTbv0JfKbjJ3A6XadZ6mwBvVtru3T3vvTNXamzu7u95W7LT12uNRxXryurK3v//BxTHwDb7q72u1LbD2DC1fKj1NEstf8oddx98LC0N0ttLWD23Nwq/dQObtt+Apvrv/2G9mapvRlsjXY0S633wP10NUvdzVL3Pan1W/Cw/4fTAh7hzhapSz7dLVJ3C6BgXaezBdx/+13wdHT/fMDv0Aye4h++l378Afz97rc9P34j9bYDfmEg5cq5Ljl5GCW/Rz6QrcgeA/1ALtDR39ElB9JKUndH609dna0dfT2tUn+rjA6u7YUOlxtBn9wcdff3d/V1dna3dXXf6+6619vdIV/VgGnu6pI6OkAOTXeP1NvT0dHRJkm3e3v+V3tfAlXVlaX90klWktVd/+qsTv3pTlvVveKqqlRXXNVVla7YVatLo5WUMU5xjuIADhFRcQTFCcEBAQccwERRNIqzICDGAUUFVByYUZll5gFvvPP4v/s+3XULM4cY+897y/W83HfvGfbZ5zt777P3Pn0WLfrFvLn/d/685+fP/T+zg4OPndx0LudkVUORaFis27wnKbWqxka+XZZtPMcIvIEquqRLHM/YJZlTvDE0oibJhnnIgB1J5rxgKmmq6JXSvM9r3vAarxGXOs4boqDqlRKAaIYP10N4Mo6x6i5B4esDkzcblqDrdk1vlZR2ljfaIsnG8YeCQ1dtsu7wOuQLgkFzXVYVRZEMOVeUdF56uAIIuiwpqiCrkqwKiioYrh+S8e0WnG7OrricxtajZAweK3Ecmb1BIa/fv9fiaATG/O/6mFU5VVUZhmFcbp0TdU4wzh2RJCNORWFVlZU1VtR4QRe8PKSoBidIhkJgyM6GTcDQEiT+wT+DjSTvCZSGKqF5/yk6pyo8/TP2TYyMDKC25K1LMsZFVHQB/yRjMghGyarKGoYGhTXcBXled7h0N+fdLjZWJm9LZIFnsSWnqt5Uzw/lgP9dI/LVW0vz868mBahyBjwL3qhyEcBk0B/aHMKnNF1RFF6WBM04D9PYugIwwXajybLEcTLrYJ2yrMqiIouKJAnG1NAl0atweZd3vZrlow+ciE/LPppfU+Q0kKhZ1zuNJUh3erGP8caxujVB9qKPphmWIMMKpnr/GXb6B17JpHsYu9uKMXJd/nl9AAxJzdiK94IpdBTRW/LDLnh/8B5QYjzUfZ+vDUwya2iRotdoZ6wD8HI0rGKCrvCCzrqM8BGhU1fsXkoJqiEsGtmbZEPOUxQDrTjvGuLUNS81Dfu/oGmyoouqxhoCoejkXEZqQM04C4ZXjbOHRS/hYDJ8cBazN5y4+0jxmEr6W2DSnQ7WGFHv8OuCkeRKVw2bIqdLLkNoUWzGP83u5TzGEK8FUeONPWnNgHVglqgqsq7xsuQSOLfIs5rIG4giuVSe8xaFb0FTBE0RVcOeiX80Lqp3dAw0Ew10k1VJ0Iw2CJpkAKLkPZVeVL1BkgahiAl/UMD0Ge4CD3flJEX02pgMF3CvciQbU1aTdTevM7KxbUX+wJqiKl5/H0Uy9uYkwXjMyOlkKAIKJ2mCYqT0N6aLsYawhj5obEnbdYXR9XbWUL1Yzmtel43MaLyRyoDhjZWN5TQ3K7lZwSmIjLHeG6CiapJoLCQPGwC1RxBlXpAEQ1EzmE40qvUOtVe7fAinDznT+wya6E00ZBTrNYd7W/3gbHTvw8QZ324+fU1geoi3GCFD4NMMLDbM87rqctoVTRZUUfZ6YBlaiqZL8gNjGM+LoihzHMcLkqbrnCS7Rd57roTu5gVN1yVJabW2GfsUosBwLLE/LwqMwD/orxnVv13Pn6y3zf0yumoQFYq95FXvYQCQdY3h3Ib4bVgfDcLyosDzBnHwz80yuFB0vd1uU3S9ubWFfmU4FtcMw6D7EHF4XjTWb0WTjD0GDfZOL+sZ3rRG3i/DhfCv/4Ct+H6yyPjdtwYEfFAPUdb7t5dAOsj0cEJ7hY2/feyv70IUebAoYWnSXQ6nrumyKBne1MZirQqqKBhGdAO3XBwveYEDEo7LyfOioOkywzmNZBuaDPag2kVRNBokK4oks25G13S32y0IgpEIV35gsxUESfbmW1R1TRAkzmAow5mbF4w2PGCsh///tfvUqS4XD7r3bf/7+sD0sMa/XfmNSSJJkiAYm8ccxwmCYLfbDbroBms/fOnB/4pXnpUkief5jo4OY4LxvGryGWUYxu12P/pil3L+P/7TPPnN14a7uJex0HeOMwx9brcbZMRNlvXC+kPqgIwYC9AcfKkoxmGVKEEQBGPdkL1nXJjr+7Lrh5X4/u8eCiiKYrMZZ45gQmFqGCD1cMpgvBwOR3t7O8YRy4zb7ca48zyveD+SZCCLeVqZm+hyuXRdJ1bheeOcc6r6894yl/CdXncbMFFPBEFgWZYmD4BZEASHwzgMT5Ikt9uNLhHugCiYchgAGglQlp78TmnxRBX+eYAAeoJihOldWs4wjN1uByXBeYL3g8c4jkMhQH8zd2IV+byqP/N+l6p9f357CgBQNE2jmUICDtDE6TQOJdF1HZBE4KLrOv0EDuF5XpZlcALDMFh78K6ZJYBHeAVzjaYzHn78390GTGh6S0sLLkRR1DSNuseyLKGPqqqCYMiLeJLmCSgCyiqKQuoGQdXjp84TWCMwBUypqqrL+8Hq6na7GYaBHPTF1mgiPmiLRViWZRqvJ7DjP5wmqapKwo6iKO3t7TSVaC7IsoxnMJTYRQFs6brucDh0XW9qagLRNE3r7OwkEczlclmtVqLng+ioh5I4YE5RDPclMAY9+TgvuhmYZO/HarUCZSRJkmWZ5EOSpEA4kqp0XcfizzAM0YLGQJIkqCGPky5PbF0MwwA+iAsZhmFZtrW1ldpMRgRcEIOKooixkGXZbrfjefOLVILv4vuiAHDB6XRWV1eb26BpGmYBDS6ABmwAy5Esy21tbXgLgKUoiiiKmEoQomlauVwujuMkSTLMvjxP5dDiZJ6e5pY8nutuA6bq6mqLxULQs3z58okTJ1IfZFmmfoI0ly9fFkWRYRhZNnw08CQsU263m+d5juPcbrcPkoiGdMGy7I0bN376058WFRXdv38f93/+859v2rTJZrNBYgJHNjU13bp1Cxzs8FolVFV97rnn8JbT6cQKAe6kJYEq8l18LxTAdNA0rb29/cyZMz179vzxj3989OhRXdctFssf/vCHX//612+++WZubi6axzBMjx499u7dixFkWXb16tU9evQwmyPtdntHR8e9e/dgSCK5OyQkJC4uDuU0NjbiFczK73f2dRsw6brer1+/7du3o5PPPvtsQUEBTEUELjzPC4Z7k2Fp+tGPftTc3Kzrut1uB5lcLhehNQpxuVxOp1PTNKIj7v+QvyGEX7p06dlnn123bh1IcfTo0X/4h39Ys2aNka1XFFmWhZy/devWuLg4M4c1Nzdv27bN7XYDkroYmH7IhH1C+m42GOm6/vzzzxcWFra0tDz33HM2m+25555ramriOO7cuXNPPfVUW1sb1vV/+Zd/efnllzs7O2EJeeGFF3r37m3eFYFN/aWXXoKFxPCe8+7MfvTRR+fOnUPfsXNlnoMkXj1+4nQbMEmSlJqa+vvf/14Uxby8vF/84heeHZ+QkJCf/exnf/jDH2pqatrb23v27Pniiy+uW7du6dKlFovl/fffr6qqmj59+iuvvNKzZ0+73Z6Xl/f6668PGDBg7969pGuYgf/xE+gJrJFhmOLi4pdeeunpp5+G7NOjR48///nP8fHxVVVVP//5z//1X/919erVpaWlL3k/Gzdu3LVr18CBA3v16lVUVPT8889XVVX97Gc/y8rKunHjRs+ePUVRxGJLousT2OsfSJNon0dVVafTybKsKIpJSUkffPABJKba2lqA17hx43bt2qXrusvleu211/r06bN582aPKLBs2bJXX331v/7rv3Rdnzlz5uuvv/673/3OarW++eabzzzzzJQpUy5duvSrX/2qb9++H3/8cXx8/IEDB3bv3v3ee+/puv7v//7v58+fx3JF8sT3QvlvDkyPNpdl2RdffNFut0+ZMiU+Pj43N/ff/u3fMjMz/fz8oqKiAgICtm7dCgG1trb2xz/+saIoly5d+o//+A+WZY8ePfree+/du3fvmWee4TiOtrE1TSMd8NEaf4B3RNFIzFZUVDR8+PC4uLgZM2bk5ua+++67Bw8eXLNmDcdxDofD5XI9++yznp3m0NDQHTt28Dy/bdu2uXPnwlL+/PPP19TUlJeXv/baa6+//nppaSn2pCFk/QBJ+gR2WVVV4IIsy9nZ2S+88EJERATDME8//XRZWRl+Cg4OXrVqlSwbvoE//elP09PTMfssFsvly5d/8pOfMAxjs9k8hvPly5cnJiYWFRX99re/VRTl3r17L7zwAqbVkiVLdu/eret6//79/fz8Fi9ejPtGBIxpb/3xk6jbgAm2/ZCQkKCgoKeeeqqpqSktLa1v374XLlxISUmpq6v785//XFhYCIC/e/cuZs66devCw8MlSbp3797TTz9dWFj4n//5n9i0NvsxfY8i5eMfki+tURTF4uLicePGKYry/PPPWyyWsrKy7du3x8fHe4xKgwcP/uMf/2ixWJqampYtWxYfH6/relxc3I4dOwBAFovl/v37mqb16tXrJz/5CeERJPkvrd33wHdNAY7jIBPxPF9VVYVRe+qpp0RRtFgsLS0tsiyzLNunT5/U1FQ0xmKxeLwBlixZYrFYNmzY0NjY+Oqrr0J6euONN1599dXt27fn5+f/8pe/1HW9rKzslVdewYuhoaGxsbG6rh8/ftxisRQXF+u6XldX95nuh991x83ldxswCYIA69rf//3fBwYGqqpaWFj48ssvV1RUXL9+/fbt24sXL/7www+LiorOnTtXU1PzzDPPpKenX7161WKxWK3W5cuXL1u2LD8/v1+/ftB+Yb6F78z3K1Wa6fW9X8PcduPGjV69eum6npCQMHHiRE3T4uPjY2Njt27dGhkZWVxc/OKLL/I8P3369Pnz57tcrpiYmK1bt8KiZ7FYmpubk5KSgoKCPvzww08++QSdIiXie+/jD7kBNAptbW1Wq9VisVy9ejUrK+vll1+GKnft2jVd1zdv3myxWJxOp2eUm5ubf/SjH7ndbmxACYJQV1f3z//8zy0tLRaLpbKy0s/Pb9u2ba2trRaLpaCgoKampkePHvAGCAwMPHToUF1d3TPPPJOSkvJ3f/d3ID6Wq+9x3nUbMKE/TqfTz8/v7NmzMMJlZGR88MEHc+bM6ezsdLlcs2bNmjlz5unTpz0Pr1y5cv78+SzLXrp0adKkSYsWLVJVtaSkJDw8nDbC4awBhPohM6u57+CYysrKyMhI2hsWBOHTTz89ePBgdXV1QEDAzp0758+fL4piTU3NwIEDDx48eMT70XWd47jZs2ffu3dvypQpLpeLZdmJEye2trbC5Il9GXN1vuvHTwGr1QqTH8Mw165dmzdv3uzZsysrK2VZnjFjRnBw8MCBAyMjI2mauFwuPz+/jo4OTdMURREE4e7du0FBQdDlZ86ceeDAgePHjzMMExYWtmbNmnv37s2aNYvjOFEUExISsrKykpKSEhMTdV1fs2bNiRMnsD3lcDhImn78ROg2YBJFEWBEPhFkvbZarW63G+oY+dFj2xJ+XzQMgiCA3OYIFd+uXBe2UBQFTCPLMqRLSZJYloUznvlheC2BpKIokiexJEnE1rjJsiyGxvy67/r7osCjzo1wN7PZbPD4gyyDKAs0EsMnej/wFKeNVzwA4xFhDTgHeiL2lzB/6Q7Jbt8LEboNmOBvCg9U+FUyDEOhcNCZYY3DNXBKVdW2tjaydhMtcAcUIVJ+LwR6AisFjtO2Ls/zcPgm117AfWdnJ4aABCu448OlAM51gCfygKUyn8Be/0CaBKcZgAh2fuCETQsJ0QF6HPAF35hZZDhHeADkAwIpURTBD3QHf7pcLoAdbAX49Xucet0GTFh40Z8uu86KoqC3tA6gwxR3Su6XCDEl52a4QXUpjQbmB3tBDGRmQfIMprhNs4EAMASKgcWBbqCwz03sieIl8/JgDnug2BGHw0HPkIhk7gLLsjSmBECiKALvEO+FB3AHOj6JBYRH9Ku58Mdz3W3ARISg7gHpSTKkeQJZiTba6D4BEH4C/GPmPB5a/K+oBXQm1ZgYFMwE0BEEgXgLUn0XIguCIMsyuS9JkuQz5D05ow84YFmWQuSwR4ahh8IFoZjmCLEBxhF/0kxEvoEuHVQUBYsTonwJ9cjn1sxCXd59DH8awAQEId4ljaBL9fQAuJ/neWo6dATSWvEiQTXoArMR0IeMHYDqR8VUPECaIAokd1V4nZGLk6qqVCAGD84d5i1PZGLp0qOv+KeRn+Zh/hZ0Gb2gZmOSo2pwlTlK+TNrQTnET9RU0mFJX0PVqNH8PCrC2CGInCpC/hn6kwRV1KJpGszeIBqVSRf0IoQv5NBA/BB+YlnWLIKZn0e/8E1rD5kwgID4E4gJfYRKoLkEfZNYjh74NhfEA5IkgTlhmANZUBdabr6WJAmUQXcQHU3jRaupmbFVVaWYfvAGLdJmmoBLSXSlMh+VU8Ba6Lv5Gg0z3yHagpLwLSCsoSwFGFmqGg/Ddg7KE53NYQO4CRmNgAxtoJbAmIMniTigKpX5VS4eSExoIjiVHIjItgqpB3UbKSVNuZPIukEh0TA2mWcpsI+oQPPZ6XQC+M1QSHCG1YACo+ktEBEDjJtYW4AF5jnT2dmJNmORMfPEVyENnkEJkiQhgEbXdbQZRCdtFGkV8DBVhLA14gYE01JsIEhkJjK9iFdQBYXsoD2oiJZKUACJARiG6cLT+JXjOEwMrBzmyHKHw0EGJmIjIg5WbFU1siNTySgEo0ljBAmOYAUXMLdbrVb0FCML+yPNdtQF431LSwtelLwfakb3XiiKAn4w0wGdQsgUrruMhaIotPhR+L55vimKQsYaogORtKOjA2QEq2NcBEFob2+nQkAfOHzTmoFGAijBXfjGwoBGSpLU1taGupxOJx4GZ1LhNAfRNojMICzu4HUU6Ha7u1imyNiCclAs9gHR6y4qp3kjhfDka42jhYhotuyACwlBAaJgL9prQzW0MoBeTqeTHjC7IJmHGWkcLly4YLfbGYYpKSkJCwuLioqqrq5GYzBVYDSh4eyC8SAQ6Yk2m23z5s0RERH19fUeT3yr1ZqSkkJ5PMy1fy3q4GGQXlXVLr6w6DKxKZXc2tqK6UesRrNaEARzY4BxlOPF4XBAPHG5XBiOvLw8hmE6Ozs9MT1BQUFr165Fx48ePRoeHp6cnEylEVTRwgtplBqJXgBQUGNlZeW2bdtWrVqFVFmKopgLQTmETfHx8REREfn5+aQCENNDQKDVhWqkRYuWn0uXLi1ZsuTAgQPwqNq/f//KlSvT0tIAxIcPHyZ2kiSJOJMI+20uzK3SdR3UQB9dLhc2yKl8sLp5rQX74T5xHfoFlKGBILrhPsuynZ2dmqbt27cPKZYyMjIiIiI+/fRTVBceHr5u3bqSkhKA1JYtW0JCQqxWa0dHBwAU5dDyBrIQR9F9GjtZlnfu3Ll69Wp4PKHl9G2GV1mWMzIyIiMj4+LiwAO6rhOmNDQ0EEHogrqJ6kjamDZtWnBwsMPh4DiuoKAgOjp6y5YtgEiO46gLVM6XXljQQ5JTIPWhVnAeBXyiTbiJpFNUOkadWBbRg/Qrpd2QZRl0KS0tDQ4OBoh4XJzmz58PKjAMk5SUNGbMmIaGBmgcxE9AKDCuzWbzZFxcsmTJhAkTYmNjwR+tra0xMTFXr151Op2yLEdERNy4cQOk6SKdUsO+yoWZA4gjzZoazR+n02lOvkX3CQtQHU1jmhtgd1pdicMaGhqWL18OYSQ/P3/r1q0O78cT2xkVFXXkyBEsp/X19dHR0WFhYVgSaDGUJAmLP9GwsrIyKCho0KBBWVlZaMy9e/emTp2qaRqe/IIMlsOHD7fZbODaAwcOjB49OiAggIAVpXXhEMyZioqKd9555+rVq2CtK1euwFWN47iWlpa0tLTMzEwM04kTJ9LS0sBgtIGIkrvlG300N5XYHkPgdrvb29tpyhHdIHKCsDQz8SuxByVIgriHXzH0qqru3LkzOzsb70ZFRWVnZxPGDRo0CFFBuq63tra+8847wCN4Yw8YMKC1tRUtN3Ioe/UVMzVEUZQkac2aNWPGjJk6dSpGRNO0qKio1NRUYjZzrzEd4NaT6v1g+SkpKXnnnXeGDx8O0ISQiBIQew+5SZZlh8Mhy3JQUFBCQgL4vLGxcdGiRbW1tagoPz//ww8/fLS15pZ/8bWlsLAwJiZm2rRpiADcv39/UlJSaGgoOImmIhaZ5OTkqVOnbty4UZKk1tbWlJSU6dOnf/LJJ7Is79mzJzU1NTIy8uLFi5IkZWZmTpgwYfv27aIopqenI7lMampqeXm5x4E1PDycgLmmpmbu3Llg4rq6ukuXLvn5+ZF+gQbQJKf2KIqCAJepU6dWVVWBs7dv305j3NDQMHnyZIwxfqUV/osp8uivkiRlc/RaeAAAIABJREFUZ2cfPnx47ty5CQkJuq4fOHAgJSVl7NixN2/ehMREDKrr+pYtW8aPH3/8+HFd13Nzc9PT05cuXbpv377Ozs6jR4+eOXNm5syZOTk5PM9//PHH8+fPR9RIUlJSSUmJqqoHDx6E2jhu3DhMEkVRPKkaVq5cibZxHPfxxx+j+6ji4sWLw4cPRwdpslF/aYJ1dnY2NTXJsty/f/+Ojg4kIRg9ejQBE8Qxc6o5osbYsWOp5PLyckVRjhw5kpOTQ4ISLZ6iKEKPgP44a9asSZMmVVRUYIhbWlpCQkJoWmZlZZ08eRI/ud3ugIAAjDXoSWVSM77xBRFh586dR44cmT59OqI91q9fv3v37pCQkJKSEhQO+FAUpbm5eebMmTNmzDh79qyu6/Hx8SdPnpw2bRrExu3bt2OmNDU1ud3u1atXh4WFXbx40WazrV69GlwRHx+P3DJ+fn5kBNi0aRNiPsCcI0eORJwWFpJp06bBTtTW1nb58uXJkydjzYYMDnAnuMFCqKpqcXGx2+3esGEDpCSGYdLT00+dOoWEsbQ8YxvXPJuOHj0KuRu2MHgYEOOZjVNoJIF7SkpKSEgI4pwwl+fOnVtTU2O32zmOs9ls77//vjlh5tcdOEteXt6gQYN0XR8xYgTHceHh4fHx8c3Nzf3790dZiKeF1HPx4sWOjo7AwMDa2trs7OzJkyfruj59+nS3271+/frDhw/X1dUtWLBAluULFy4geKe8vDw7Oxs6iL+/v8PhsFqtqBHSU01NzfLly2F5UVWV5/mAgIDW1tYuWj1wmiYbyZmTJk3CKqHrekRExMWLF8n8Nnny5Pb2dhoVsvh8LRohBdf58+fHjRvHMMzIkSObm5sXL16clJR0//79IUOGYPIIgmCz2TiOYxgG+V7GjBlTXV199+7d0aNHV1dXBwUFeTbLwsLCEhMTnU6nv7+/rus3b970mGCWLl168eLF9PT05ORkXdfHjx8vimJzczN4FK29cuUKEu6AM1asWHHnzh3wOrwxZsyYAYYmVZouWJZ1uVyYb8hyNXXqVGgcnpDODz74ADZglIwFH1qwmYP/8pe/UFJEt9sdGxs7bdq0trY2kiDQTlAbqTV1Xd+/f39VVVVYWFhtbS3SbNXU1MyfP5+GIDMzMzk5GbNOUZTw8PCysjIq0wz39Mo3vmBZ1iPVLl68GCulv7+/IAivvPLKpUuXzp8/n5SUBHzEDNR1/f79+zdu3KitrR01alRLS8ucOXN27dpVXl4+e/bstra2AQMGXL9+PTMzc9euXaqqXrp0qby8HMFoK1eubG1tra+vX7FihSiKp0+fvnLlChBcEITdu3eTxKrrep8+fQh/29vbAwICMDTo5qpVq4Dp5l4jHSPEW7LoYyY6nU6XyyUIwqFDh44dO4a3CHToT4K5I0eOHDx4kLLIHjp0aPr06fn5+RAAydiEF8k1obKycsWKFQ0NDTExMfjJk0AtJCSE0J/n+bFjx0IJIN7Dk1/x23LS+/H4Yc+ZM6e9vX327Nkwr7711lsgEGkWNTU1o0aNio6O7tu3b2tr6/nz548dOyYIAhg6ODjYw4KSJGGJCAwMjIqKGjp0aG5urueZhQsX3r17d+PGjXD4HjVqFCwgCClctmwZllBstE2YMAFtAL2QoZGMSixrnGUG7omMjKyurpYkCRLWvn37rl+/Tive+vXrOzs7gWVm295XJA09pqrq3r17T548Kcsy6BMREYFwx7fffpv0VuBsS0vLsGHD1q5dO2jQoNra2oyMjIsXL6IonueDg4PhZYrVcsqUKeHh4RMmTLh9+zZCdioqKg4dOqTrekNDw8KFC4ljKisrN2zYQImWIDGhp6IoWq3WsWPHPqrJk6GXjJeeCKyZM2ciOTQGzt/f37ybgVMJsH1mBqaBAweifI8M397e3tzcvGvXrsOHD+MZyPDkf4D+VldXv/3227du3Ro/fvy+ffswM+vq6pYsWULmv9zc3OPHj2N02trakpKSKP8ZLUI0EN/mgmS0KVOmWK1WhmHGjRsHXNB13YObCxYsoHmlKIrL5UpLS1u8ePHq1asByngRllNJkvr160cIkpWVFRgYGBsb+8c//lGW5ZKSkr1794aHh2Nt2LFjR0ZGBlYRQRAiIyMrKiowdoIgoBlYVFpaWvz9/ZF7GuSaO3cuViCAJq3Bj1onwsLCSkpKNE2DYPvpp59mZmaCYrRtjRGEJAvypqSkeLoJTY3juIqKimvXro0dO5ZSOwH+7HY7DUdzc3NERMSxY8d27do1b968xsZGdDMoKMgjl7jdbqxtAQEBtMB8g4GznDt37tixY6Iojh8/3mNECAoKys3NzcnJmTRpEmxG+/fvz8vLY1n21q1b0dHRBQUFgwYNqqysTE9P37NnD41NaGgo1DSO45qammbMmNHY2DhhwgRExiUkJEybNo3jOAj5o0aNAqNwHNfQ0BAWFoamK4pSV1c3a9as27dvY3+hqKgIoj5WFZ7nMaVZlp06deqnn37a2NiI8yHsdvvmzZuhWyGd6NSpU0EyMBxR9huQKTs7+8iRI4IgjB8/vr29PSgoKC8vLzs7G1lyBEGIi4urr6+XJOnmzZtr165tamrq3bv3/fv3L126tHfvXvJ+XLBgwe3bt9GAqqqqmTNn3r9/38/PD8m6YmJihgwZ0tnZiY3koUOH0u7VxYsXo6KiBEEAVEVFRUH1gHt3cXHxsGHDmpubVVW12WwZGRmFhYW0lYalRZblxsbGIUOGNDQ0NDY2QnTSdX3MmDGYA5IkbdmyBTtTjwLTiBEjCIJra2tbW1v37NmDjBlOpzM+Pt7lcoHagCrEx6Smpubk5IwYMWL37t1YbMrKypYuXUosm5WVhYUdd4KCgmghpKXoG4zXZ74CNpg4cSKUr8GDB2ua1r9//+rq6qioKEhMLS0ta9asQWOWLFly/vz5a9eu/eY3v/FYZObPn3/nzh1wEcdxAwYMQC12u/3gwYOpqalFRUX/9E//hAcmTZoUExMDiPHojKSGQyX0RMCBjXVdHzlyJJn8GxoaAgICIHUqitLQ0DBlypTbt2+3tbWJolhSUnL69Gmij9PpRI86OztDQkIuXLhQWlqKYiVJSk5OhqnI4XBcv349KyuLVAcMECo9fvw4xDdIVW1tbdnZ2RMmTEDJaWlp5eXluAaToMtpaWkZGRlbtmzx9/eH8UTTtEWLFsFiA1gfPnw4DC82mw2BeJ85KJ9301JeXp6Xl6fr+rFjxzwOO0uWLFm3bt22bdvAZLqu79u3r66uDp3ZunXrJ598cvny5Vu3buXk5JSWlmIIWZZNS0sDHkMNSUtL27Jly/Hjx8vKynRdr6+vx1LQ3t4uCALCSrEzarPZYGOC8Lxx48aPPvooJiamoKBAFMWKiorf/e535v1BrPY3b95MTk7euHHj+vXrc3JyQLtNmzZdu3YNAUTXr1//6KOPIEkRE3wzbFIUpbi4+O7duwzDpKamekJAFi5cuGrVqri4OJ7nbTabLMvx8fFk3jp8+PDatWsvXrzY1NRUXFxcXl4O6um6npmZCfuC1WqVJOn06dPbtm3Ly8uDRa+goCAyMpL4YP369UeOHMHIXb169ZNPPkHOUxjp8vPz8dONGzeio6OTkpJCQkIghyYnJ0dGRuJkGirN6XRevnx5x44da9asiYiIAPx53CCmT59+7949jOOcOXMuX75M5j/aGvMsGJMnT6bs4Js3b965c+eZM2eo8F69ehUXF6ObEMRILXI4HLm5uZWVlRByKysrw8LCoKOpqpqRkZGZmQmRzWq1Tp8+nTYBSMH5PN79WvcpvOPy5cv19fUMw6SlpYmi+Oqrr+7cuTM9PR1RB/X19UlJSVB+29vbN27cePLkyZSUFJfLdeXKFfQCss/BgwepAc3NzbGxsadOnUpOThZFkef5zZs3w9iKbaKRI0cS9SIjI8kQwXHcqFGjiD3a29snT56Mxdtms61duzYhISEmJgZSpMvl+sd//EezkxqikRiGWbt27YYNGxITE8+dOwfa7tu37+zZsxigW7du9e/fn/z+zJpdcnJyWloaHistLY2Ojt66dSvlWjl48ODq1asxrylFmtPpBGO0tLQgqxyWkAULFoA+SCLu5+dHGDpo0CBsN5P58osPyzDyKICNkOHFsy8wY8YMwA0Z2CAZ4jFUifGgrDEwmJFxAYwF/yOcRLBt27Zhw4aRxR6Qt2jRImRfrKys7NOnT3R0NERWWj1g0Rg8ePDZs2fhdgifLnzDsALNEXucW7Zs6devH5R5u90eGBiIyQayos0kzxNLfekFTQ900OFweDaAZ8+e3dzcDAaCbI/dHNjIzO6OZuddsykRYwbaQgdcvHjxBx98QA4pmCehoaF379612WylpaW/+tWvNmzYgAZHR0eHhoZ6wAjNI283z7ZOXl7ewIEDoWmiRuJ7jDLcU93ez/Lly1977TWU+dFHH40cObK2tpYsO+QPqev6n/70p61bt2KGgLDYmuQ4LiYmJjQ0FNxJ7YF4hSdxU9O0wsLCWbNmUQrgxMTEESNGIA2jrusTJ04EmNIw0YrypcP01R/o6OhAB7GnOWrUKOhHLMtinxSDgjbDggN1Bo0hLEb+bNSLmygHstWKFStouB0OR21tbXR0NCJFEhISxo0bl52dDYq99dZbYWFhV65cgTPXr3/9682bN1dXV5OAgypcLtecOXM8eSPAzzAk4SdydqWMWvv27Rs0aNCVK1cYhqmqqpo8eXJ2djZtSuAtcG9GRsaQIUNIonG73egLwzCnTp0KCAjwLCTwkyKuALtSqyBJrVy58ve//31jY6PD4bh///6sWbOg/3pShkVFRWEyApvAq5g1xJkozfz9wMGSXGDJ9NjleDhaPM0vQ48zl24Od6YnXS4X0Ip0Xegj0DWcTmdFRQWNN4AZngQwtaDncBcg06y5UnA/3JdQKcMwtOwQpH4z1YDGgzR/j5WRnC0xdWmoYJWkjoM+YDiSIBRFIXUAKAx/H4fJ15GYD72AkMiyrM1mA6KZd1vgbkMxJbTGUI2wR3RhdACf2+3GkTZkvTI3HpyEO1DD29ra0HjQHN9YYM30ATsRvlCZ9fX1kDHRL1EUcXQH6EaiFpxukJeD3v32F9hgwR42hlXTNNIMaKDp7E/wJDiNqPeo0I1ukqAnCAKoRD6HkPfBJDjIpKGhAZ5KsixXVVWR4whkMTQJOEjFqqoKJAVx0Ayr1Qr5Ba4G9DDkcchlgiDQi5g+5iVEFMX6+nqXy0XDCgsUek2uQuQMgVHASDkcDjgrQCWiXmiaBrUdHYfd4DNRyTyLu4yvhXyLWJYF7eC1geew4Ucchp6b+ZWmIqE1zHhutxtAbp60tN+BZwhQ8CdaSQNPbIpOkrWFOkAu1LAxAeaIvmQQMVdKXEiFfJULkhNhKgIRaIxRgpnEHiO33W6nyUndhNmeuIfkEWAEyoEZEtcE1jzPg4zwcSc5gpDd3Ab0ESsS7mPpJjWQAKujowOqLq2T9DxdmPsFIQI/0TBRdzo7O5GPBRIHzWTSoahMujAXjpsUaEqv08Pf8gL7UGgtmfzA2FAOQFsMFh6DGyqtK0AEEtWpPVizKVCDJHRCOtCNGPhRJsQrtFNG444a4dBHyyoVS+NIUwxBAuT8AYUU7eS9H2yM0iGP5PKGfM3UI0VREHBGmIsLZCXCxATn4OQLzHSav8QnSOxLZyB+RVkJzTAcLGmt+0x5B89BOXyUk/Ar7kOoIR0QPxEHE6tBMSZpAn1GD+kVOrAXr39evWR6h1RFuI7FCrQj5DWPNyr66t8kLaMiQAP1iHAW5yChWDN8m9vZpVJ6DFiGUUT7MX9AHyrBvGyYyWJmd/AunVIP/u5S76N/Ej/RUo9niG4cx6FGyDIwVeBXmhtOpxNzm0ojXMaT5GFMrE+9gBUGzTYvMI82tRvvmBdUeN5jiM1VmLEAY41liboGh37CaJrwnZ2dkA01TQPPsCyLXWZQDDs8WP4B6BBvsWiBgXGH3OjhIQW1ETomTBmwXRKjQn5BpYSV6BplzkUvSNLB1goGlwaF6GBOiwaNBMFGqqp6rO9YvM2LH0aQ2OBroZJhY0LFZO+EpmCWPsCOGBusIdjrpRWAmg6zH7DZ3DEcwQS+pK0EvAVRED+hChKUwAG0xJEEC9OGuXZzMD2JISifssx0uU9t/tILtA389JkPQ/eE/I+wFTzWxUiJEUJp5qjaLuNnngMEfBgOKhYghaUCsIXhI72PXDG6NBgGL7J90imJtPYC2btE3mD6kSxDZULQo1g/88Ahag+8SF0m6yH6iI4TCpjhjAJE8C7V+G0uiCGJwgTlLMvSNUgHmyYBDe290IjgsUc947BZTqsIGgz+x7XVau3Ro8esWbPQ34SEhJEjR+7YsQP6Sn5+/unTp2kXhfoLWmF8SV6+detWaWmpJEktLS2rVq3CoR6gJy32ZDcg4euNN95YsWJFdXW1w+EoLCwsKCjIzc2Fsy6RCPWiEMClqqpXvR+g2O3btydPnjx+/HjQITo6euLEiXQMlNn+BbMaAPRL7UrUXwOYzGI8xsw8hbqwODGTuQhcm8cMDqZ0h+YV3TFLFpBRydGGJgktFxgJ8sF7tGrcwT43rj0+QR0dHcQ3brebpOXPe/3z7tM0xgMksJAgA1XRPIVgxQCtKNYMr9NjdGHmBix35pLb29tpgEgqMfuwmF9HFTDcYKcWRUGGxXJCkT14mNzQSN4GNlHzAC54GN8EuNQeQBIBE81nPA9VDuEUuEOF40+SOzAHSBP5ioIeCvnq30ReDJDNZiOadCEm5CBiWoo6QF1UDv6ETISuiaJIKz2JmSinvLx83rx5iqJA7dq/fz82thRFSU1NXbZs2YkTJ27evAlhGaoxyic8BVePGTMmLi7uwoULmC8sy3744YdtbW00KOaYHkwlTAF/f39awI4cObJr167169eHh4eTqmi2xKFqRVHi4+N37Nixc+fO0NBQq9WKpWvu3Lkk5cGtiez9NHbk7fy1UOmvEpOZV4gEVDpWAIwEVjMILDC4kuBKI2S+oJIpvwwxImEQnsc32IXeInrRM6Qw0h2aqOa3MD0oScVn1mUu4QuuaVKBt6gWSOC4CS2d9LJHS+si4plh1MzxxO7UfhQFhutyJihQDz89umYQUtBeIbUcZVJdNIJdCgGi0XQFY5jf6tJNJMzEccpgHvNYYwhgN0DbyH2U5CazuY1MIV1q+cZ/QugDNbr0lGYU7ak/+gAQATQkuIFcD1hHw0h5QQmAA9qcvXPnzuLFi7FfoWlaYmJidnY2FqSrV6/Ct/bRDpK+iUX62LFje/fuzcvLo51um802dOhQ6MK0SU/zwjyRBw8e3NjYSKu+ruuxsbEwk2OwyB5CA+3hz9DQ0JMnT+bk5AQHB6N57e3tY8eOxbXVaj179uzJkyfRZU9ycVwQ55DE9GjXPu/OA1Xu83723fdRwEeBb0kB8+roiS/xHMPhcrkw7RMSEqABud3uoqKioUOHDho0aM+ePVAySNTFwy6XCxJKdHQ0wi2HDBlSX18PKPSceeOJmwHi2O122i/Dskdy34QJE4CS2Cv3OE8sXryYMo7RW1Bmacm0Wq1vvPFGr169EJcK/YacAOCgh0PMSWSDsgVcpvXJbJ0EVUkMwjNk6vEB07fkOt/rPgp8EQUw3+AMjRDCxYsXA0pcLtfx48fJNAP7sSiKAwcOhOyDfBXAFNqbFgRhz5498HvavHkzzEOSJA0dOhTtMEfPQajHfcjFw4cPRzOACAsXLiwqKoJIBUwhZIExBJg4cuRIWMGGDRuG0lpbWydMmEACY2Zm5sGDB9FUs8hGuEPSNF53OBykiDxq/xUEwQdMIJTv20eB74QCZoUIEVeIzYYosXv37r1796JiT5jnsmXLAgICPGmqYDwJDQ1FlCymOkHGnTt3hg0bNmvWrODgYMr7PnXqVGh2TqfzL3/5S3Z2NoEClGgY+EePHk25Z69fvx4YGEix2c3Nzb/85S9xBDnqojDViIiIKVOmTJ8+ff369dBbPSLe+++/T727cOFCcnIy7A9Hjx6dM2eO3W7H1iHqpSfNNg3y+AHAwRICdPMB03fCjr5CfRQgCsD1CVJJdXX10qVLYYJBniYYv6FYYdMGLzqdzoSEhIyMDKhvmK7k5gb3GqAbzF7vvvsuLF+iKE6YMAGBq0jIh+pQ7KhRo+7fvw8nO6RkgkwHFBs4cCDcZc0Z4/BAY2MjtuQQql1WVhYUFERGpaNHj544cQIaaFZW1sSJE1Ed4RG6j6KIMnSBLSbgGjrlAyYiju/CR4Hup4B579wTdlNTU7NgwQKYjUVRvHnz5sKFC7dv344ZCz8gCBpZWVmJiYkUAoGWQZAhOMCmQUVFRUBAQGRkJCZ2YmJieno6PKRwgCDZ4xVFWb9+fXBwcElJCflAwUTt8XoJCQlB3C/DMOSUQHviaAD2ZMvLy8PCwhBLxHHcjh07QkJCEEZaXl4eExPT0tKCzEUIWqB9DxQClyjaikGzuzgA+ICp+3nRV6KPAo9SwHxUCUQboAxC2bs40ED9YRgGbgcOh8Ps/Gz2daQN+87OTkhVNMNp5pu1J/IvBxyQWgc7N3b3aTfN7N4FnxtPFgE4lCO0A7urtFkMxESb4dlHW8NIg0fCo9lLEbSCwZ6yHvuA6VEW8t3xUeA7oQBcTMk2DNcnaC7kFgN/HwhNQBaEE6JBCNIEXiAUBnYZyqhFYAQpCS51ZgWKqjPHlmLfkPALwATljjz1iSKyLEOMovMXyFUN6EaNMddl7iCKQi0UmEEQhgsfMBHBfRc+CnQ/BSBEUPYrXddXrVrVr1+/nTt3orI+ffr07t27oqICgFVbW4uUlWZZBk8ivBaggNOAYC2Cw1eT94Mw4CVLlvTu3RsJ1NEAiFGw+ACnUN3x48d79uwZGRmJKpqbm80+TZ2dnY2NjSRk0R6cOVAUzgc8z5Ps1tHR0dLSgpy3iqLs2rXrt7/9LWUKHDVq1JtvvpmXl6dpWlFRUf/+/f/nf/4H1qv9+/dDlxRF0QdM3c+LvhJ9FCAKkLEGdhZJkj7++OM7d+7AFciTup424BVF2bRpU0RExMiRI0tLS0kvM3tvAlPcbndCQoKfnx8yLHrSyC1ZsmTNmjXI4IgAmhMnTiBjFIQmbPNRmCoaoyhKUlLS6dOnIXzl5ub6+/u/++67wKzY2Ni+fftu3boVLYFTKL1IUpjb7U5PT584ceKkSZMgMa1duzY6Ovqtt96CgUySpNLS0i1btpCOuXr16oKCAkhkmqaNHTuW9X54ng8MDAQy+oCJWMh34aPAd0KBLtnrY2JikHQQlSHNtK7rHR0dgwcPRuZiZP4WRZFSBpHgA2hoamo6d+5cQkKCZw+uurp64cKFqqp6jgVZunQpMCgtLS01NRXpBBD3S32j6E4kZTc7UtXU1CDzMnwI8vLyYmNjKVwJZingFNmhNE2zWq1XrlyhVO7AtZSUlFOnTqG1RUVF0dHRFHYWFxd3/fp1ivgdMmQIsi0qinL79u3o6Oi/hqRQo30XPgr4KNCNFID+he1wJDBasWJFUVERrMi6rvfu3RvVsSw7YMCAffv2bdu2zd/fH7mWyFrcJeUDNviWLVumadrVq1fXrVs3evTo/fv3z5w5E1F4hw4dQi46hOAAXGh7jjp47NixkydPwuHbarV6zuMZOnQoCUfFxcXx8fFutxtH49FbMIFBAoKih4z1QCu73d7U1DRv3rympibUeOXKlbi4OLzOMMzq1avhzQBz1YwZMyjDgUeXnDJliudYCp/ERNT2Xfgo0P0UoMAxKjo6OhrHXsG1x9/f3+VyYYeupaUFueSRqpQiYPEuZbBDVr/S0tK13gNQb9269Zvf/Ka1tdWTAH7hwoWQaE6dOpWUlISz4IEXpNOhNMScpqennzlzBnfgij1p0iSyQ+fl5cEWhvT/iOmDQAS5DC9KktTQ0IAspnhm3bp1xcXF5Px57dq1hIQESqgSGxuLDAow1ZvTydfX10Ml9AETaOv79lHgu6IAmWMQi7t+/fqysjKAheegsz/96U9U8ZkzZxITE6dMmdLU1AQTzBtvvIH8kxQGDAt0Tk7OqlWrRowYkZSU5DnRZN68eYmJie+//z6ybjudzn379l2+fBn7YllZWZGRkWT5powRgiAgozlQJicnZ9OmTX379vW4bttstszMzJCQkEGDBl2+fFkUxc7OzrfeegvbgrSLh5D+nJycqKio9957LyEhQRAED7KsXLly06ZNZ8+eFUXR6XSWl5dT9l6PPrhy5UocBQCbFA6OIwfUQ4cO2e12HzARV/gufBTofgqYM3lBljl06JD5NFkceAnPpps3b+bm5oqiCAFK1/X33nuPXLHJgC0IQmNjY2lpaV1dHQ7Lqauru3nzZk1NDargeT49PR0bYZ2dnQUFBePHj6fNe5iuRFFkGOb06dMpKSnIQ6BpWn19fX5+/tWrVwVBuHfvXkVFRUdHB+WPHzp0aEFBAeEsEautra2oqKiwsLCsrEySpOLi4tLS0urqarhx6rqen5+Ps4Jgctq2bRvOK4OCiZg7CGIjR46EG5QPmIi8vgsfBb5DCuAMCFEUN2zYMGTIEJh4PQLFvHnzBgwYgCmN6mnf3d/f/8CBA7hJcABphfL2mc8EwTGCLpcrOjp68ODBOHS2sLAwMDCwo6PD4XCYvRYARsePH588eXJYWBjkKZi3ocoh9ASNaWtri4yM3LlzJx4zkwk55iHf4WRg8irARUJCwn//939DJbTb7QsWLHj77bdxzNrdu3cHDhwYGBiI42xTU1PLysrsdrvT6fQBk5nIvmsfBbqfAtDa6DRQOjYCxmaoM7CF00EmPM+TKYcs1uTZhJzcMDlBAzJbfFAgOTSS8IWOAUHM3pUtLS0EN8gBAIsSpBtE28GCDrMU8ueRHQoNAFBCXrPZbPALp7YBBM0PpV1bAAAAE0lEQVQBcTj5kZoEElEWRp7n/x9vA1MRAFvTCQAAAABJRU5ErkJggg==)"
      ],
      "metadata": {
        "id": "mpe3CBiO3seA"
      }
    },
    {
      "cell_type": "markdown",
      "source": [
        "![image.png](data:image/png;base64,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)"
      ],
      "metadata": {
        "id": "nSvPaMp94ZQ2"
      }
    },
    {
      "cell_type": "code",
      "source": [
        "array3D.ndim"
      ],
      "metadata": {
        "colab": {
          "base_uri": "https://localhost:8080/"
        },
        "id": "yv4qCPPT1EsC",
        "outputId": "fab6f4ab-9bb4-4c2c-a98b-79eefc17d40b"
      },
      "execution_count": null,
      "outputs": [
        {
          "output_type": "execute_result",
          "data": {
            "text/plain": [
              "3"
            ]
          },
          "metadata": {},
          "execution_count": 26
        }
      ]
    },
    {
      "cell_type": "code",
      "source": [
        "print(array1D)"
      ],
      "metadata": {
        "colab": {
          "base_uri": "https://localhost:8080/"
        },
        "id": "xnL5285_1Eux",
        "outputId": "5c0f1cc1-2c51-4065-ad82-6e7e6b0909f2"
      },
      "execution_count": null,
      "outputs": [
        {
          "output_type": "stream",
          "name": "stdout",
          "text": [
            "[23 33 34 45 56 67 44]\n"
          ]
        }
      ]
    },
    {
      "cell_type": "code",
      "source": [
        "print(array2D)"
      ],
      "metadata": {
        "colab": {
          "base_uri": "https://localhost:8080/"
        },
        "id": "1jvylW001ExS",
        "outputId": "23cba1c7-b956-43a9-e00e-94be9777cedc"
      },
      "execution_count": null,
      "outputs": [
        {
          "output_type": "stream",
          "name": "stdout",
          "text": [
            "[[ 1  2  3  4]\n",
            " [33 44 55 66]\n",
            " [ 6  7  8  9]]\n"
          ]
        }
      ]
    },
    {
      "cell_type": "code",
      "source": [
        "print(array3D) # 2 arrays of 3 rows and 3 columns"
      ],
      "metadata": {
        "colab": {
          "base_uri": "https://localhost:8080/"
        },
        "id": "T248pEq81E1B",
        "outputId": "de93a62a-65b2-488b-a6b3-14caedc20361"
      },
      "execution_count": null,
      "outputs": [
        {
          "output_type": "stream",
          "name": "stdout",
          "text": [
            "[[[ 1  2  3]\n",
            "  [ 4  5  6]\n",
            "  [ 7  8  9]]\n",
            "\n",
            " [[21 31 41]\n",
            "  [11 15 52]\n",
            "  [66 14 23]]]\n"
          ]
        }
      ]
    },
    {
      "cell_type": "code",
      "source": [
        "# Find the shape of the array - tuple\n",
        "array1D.shape"
      ],
      "metadata": {
        "colab": {
          "base_uri": "https://localhost:8080/"
        },
        "id": "L1ZO5wz11E4S",
        "outputId": "c6947f5e-da89-43a7-cabf-5665551ee20e"
      },
      "execution_count": null,
      "outputs": [
        {
          "output_type": "execute_result",
          "data": {
            "text/plain": [
              "(7,)"
            ]
          },
          "metadata": {},
          "execution_count": 30
        }
      ]
    },
    {
      "cell_type": "code",
      "source": [
        "array2D.shape  # 3 rows and 4 columns"
      ],
      "metadata": {
        "colab": {
          "base_uri": "https://localhost:8080/"
        },
        "id": "zDw1TsEZ5D_R",
        "outputId": "16d03b53-07e3-4a92-8279-3d5fb64febb4"
      },
      "execution_count": null,
      "outputs": [
        {
          "output_type": "execute_result",
          "data": {
            "text/plain": [
              "(3, 4)"
            ]
          },
          "metadata": {},
          "execution_count": 31
        }
      ]
    },
    {
      "cell_type": "code",
      "source": [
        "array3D.shape # Tuple of array dimension with 2 arrays, 3 rows and 3 columns"
      ],
      "metadata": {
        "colab": {
          "base_uri": "https://localhost:8080/"
        },
        "id": "D2086FD45ECT",
        "outputId": "a8a2a0e4-d514-41d3-ce9d-b2e4151e83e7"
      },
      "execution_count": null,
      "outputs": [
        {
          "output_type": "execute_result",
          "data": {
            "text/plain": [
              "(2, 3, 3)"
            ]
          },
          "metadata": {},
          "execution_count": 33
        }
      ]
    },
    {
      "cell_type": "code",
      "source": [
        "# 7 dimensional\n",
        "array7D = np.array([1,2,3,4], ndmin=7)\n",
        "print(array7D)"
      ],
      "metadata": {
        "colab": {
          "base_uri": "https://localhost:8080/"
        },
        "id": "a4155Kmz5EFJ",
        "outputId": "2ceb5c6b-6fea-4dca-f259-0762c02304e5"
      },
      "execution_count": null,
      "outputs": [
        {
          "output_type": "stream",
          "name": "stdout",
          "text": [
            "[[[[[[[1 2 3 4]]]]]]]\n"
          ]
        }
      ]
    },
    {
      "cell_type": "code",
      "source": [
        "# 8 dimensional data\n",
        "array8D = np.array([1,2,3],ndmin=8)\n",
        "print(array8D)"
      ],
      "metadata": {
        "colab": {
          "base_uri": "https://localhost:8080/"
        },
        "id": "9icE6rlo5EIm",
        "outputId": "560f15d0-aa15-4baf-fc1a-05bc1cec2360"
      },
      "execution_count": null,
      "outputs": [
        {
          "output_type": "stream",
          "name": "stdout",
          "text": [
            "[[[[[[[[1 2 3]]]]]]]]\n"
          ]
        }
      ]
    },
    {
      "cell_type": "code",
      "source": [
        "# Float --> int\n",
        "# Create Float array\n",
        "\n",
        "arrayFloat=np.array([1.222,3.343,53.224,4.657])\n",
        "intArray=arrayFloat.astype('i') # Converting Float --> Array\n",
        "print(intArray)"
      ],
      "metadata": {
        "colab": {
          "base_uri": "https://localhost:8080/"
        },
        "id": "3qx-hfBn5EMA",
        "outputId": "45c86698-badb-4c0b-b5fc-c38485f9ccda"
      },
      "execution_count": null,
      "outputs": [
        {
          "output_type": "stream",
          "name": "stdout",
          "text": [
            "[ 1  3 53  4]\n"
          ]
        }
      ]
    },
    {
      "cell_type": "code",
      "source": [
        "arrayFloat.dtype"
      ],
      "metadata": {
        "colab": {
          "base_uri": "https://localhost:8080/"
        },
        "id": "YP7PKbXv81pJ",
        "outputId": "8a4a0f09-83d4-49e8-a5b9-aad461a11102"
      },
      "execution_count": null,
      "outputs": [
        {
          "output_type": "execute_result",
          "data": {
            "text/plain": [
              "dtype('float64')"
            ]
          },
          "metadata": {},
          "execution_count": 42
        }
      ]
    },
    {
      "cell_type": "code",
      "source": [
        "intArray.dtype"
      ],
      "metadata": {
        "colab": {
          "base_uri": "https://localhost:8080/"
        },
        "id": "6_wYDMrJ5EOp",
        "outputId": "486ff707-47c7-49c6-9821-522504a5cab6"
      },
      "execution_count": null,
      "outputs": [
        {
          "output_type": "execute_result",
          "data": {
            "text/plain": [
              "dtype('int32')"
            ]
          },
          "metadata": {},
          "execution_count": 41
        }
      ]
    },
    {
      "cell_type": "markdown",
      "source": [
        "**Task**\n",
        "\n",
        "input the data 1,0,12,45\n",
        "\n",
        "Convert the data to boolean"
      ],
      "metadata": {
        "id": "_bYorsfw898e"
      }
    },
    {
      "cell_type": "code",
      "source": [
        "data = np.array([1,0,12,45])\n",
        "\n",
        "# Convert to boolean\n",
        "boolData =data.astype(bool)\n",
        "print(boolData)"
      ],
      "metadata": {
        "colab": {
          "base_uri": "https://localhost:8080/"
        },
        "id": "TsfHvpTL5ERk",
        "outputId": "32261c56-d2a1-49c9-8156-501e5b88203e"
      },
      "execution_count": null,
      "outputs": [
        {
          "output_type": "stream",
          "name": "stdout",
          "text": [
            "[ True False  True  True]\n"
          ]
        }
      ]
    },
    {
      "cell_type": "markdown",
      "source": [
        "# Indexing\n",
        "\n",
        "*   Positive index\n",
        "*   Negative index"
      ],
      "metadata": {
        "id": "szhjLitl-mvr"
      }
    },
    {
      "cell_type": "code",
      "source": [
        "array1D = np.array([35,19,64,83,76,22])"
      ],
      "metadata": {
        "id": "6jjupD8488sK"
      },
      "execution_count": null,
      "outputs": []
    },
    {
      "cell_type": "code",
      "source": [
        "# Positvie index\n",
        "print(array1D[0])"
      ],
      "metadata": {
        "colab": {
          "base_uri": "https://localhost:8080/"
        },
        "id": "Tk2j8mcO88vL",
        "outputId": "122fbfbe-cd14-45d8-c535-830e5b4c4e80"
      },
      "execution_count": null,
      "outputs": [
        {
          "output_type": "stream",
          "name": "stdout",
          "text": [
            "35\n"
          ]
        }
      ]
    },
    {
      "cell_type": "code",
      "source": [
        "# Negative index\n",
        "print(array1D[-3])"
      ],
      "metadata": {
        "colab": {
          "base_uri": "https://localhost:8080/"
        },
        "id": "Mrvidjwf88yI",
        "outputId": "5187e8a9-aee5-4fdc-aacd-9c5baeaf1bd3"
      },
      "execution_count": null,
      "outputs": [
        {
          "output_type": "stream",
          "name": "stdout",
          "text": [
            "83\n"
          ]
        }
      ]
    },
    {
      "cell_type": "markdown",
      "source": [
        "# Mutability"
      ],
      "metadata": {
        "id": "Y0uByRVR_cVZ"
      }
    },
    {
      "cell_type": "code",
      "source": [
        "print(array1D)"
      ],
      "metadata": {
        "colab": {
          "base_uri": "https://localhost:8080/"
        },
        "id": "MZ89RGA2_0oE",
        "outputId": "8c753524-6c8b-4c41-89ef-4bb302f33b21"
      },
      "execution_count": null,
      "outputs": [
        {
          "output_type": "stream",
          "name": "stdout",
          "text": [
            "[35 19 64 83 76 22]\n"
          ]
        }
      ]
    },
    {
      "cell_type": "code",
      "source": [
        "print(array1D[2])"
      ],
      "metadata": {
        "colab": {
          "base_uri": "https://localhost:8080/"
        },
        "id": "NXLV2VZz8806",
        "outputId": "52922b05-aca2-4d90-c8a4-060e52de8cb9"
      },
      "execution_count": null,
      "outputs": [
        {
          "output_type": "stream",
          "name": "stdout",
          "text": [
            "64\n"
          ]
        }
      ]
    },
    {
      "cell_type": "code",
      "source": [
        "array1D[2]=124\n",
        "print(array1D)"
      ],
      "metadata": {
        "colab": {
          "base_uri": "https://localhost:8080/"
        },
        "id": "Kullvnje8837",
        "outputId": "fc9677d5-9bed-459b-f379-caa1ea1ea0e0"
      },
      "execution_count": null,
      "outputs": [
        {
          "output_type": "stream",
          "name": "stdout",
          "text": [
            "[ 35  19 124  83  76  22]\n"
          ]
        }
      ]
    },
    {
      "cell_type": "markdown",
      "source": [
        "# Slicing"
      ],
      "metadata": {
        "id": "xv2EdAMQACcv"
      }
    },
    {
      "cell_type": "code",
      "source": [
        "# 1-D slicing\n",
        "print(array1D[1:3])"
      ],
      "metadata": {
        "colab": {
          "base_uri": "https://localhost:8080/"
        },
        "id": "RuMeP3Xt887I",
        "outputId": "41486393-6b45-4540-e5b8-a8697d70d0e4"
      },
      "execution_count": null,
      "outputs": [
        {
          "output_type": "stream",
          "name": "stdout",
          "text": [
            "[ 19 124]\n"
          ]
        }
      ]
    },
    {
      "cell_type": "code",
      "source": [
        "print(array1D[3:])"
      ],
      "metadata": {
        "colab": {
          "base_uri": "https://localhost:8080/"
        },
        "id": "6a0GNfBbAVI5",
        "outputId": "efcb2d65-304d-494e-e070-79b5d36282e7"
      },
      "execution_count": null,
      "outputs": [
        {
          "output_type": "stream",
          "name": "stdout",
          "text": [
            "[83 76 22]\n"
          ]
        }
      ]
    },
    {
      "cell_type": "code",
      "source": [
        "print(array1D[:4])"
      ],
      "metadata": {
        "colab": {
          "base_uri": "https://localhost:8080/"
        },
        "id": "gCQVXxi5AVEw",
        "outputId": "2dd75f4e-a4bc-46cc-aae8-aa79443b3ce0"
      },
      "execution_count": null,
      "outputs": [
        {
          "output_type": "stream",
          "name": "stdout",
          "text": [
            "[ 35  19 124  83]\n"
          ]
        }
      ]
    },
    {
      "cell_type": "code",
      "source": [
        "# 2 D array slicing\n",
        "array2D"
      ],
      "metadata": {
        "colab": {
          "base_uri": "https://localhost:8080/"
        },
        "id": "6tHxMjflAU_S",
        "outputId": "81d1836b-f1d8-4524-f86f-92f8b44a9299"
      },
      "execution_count": null,
      "outputs": [
        {
          "output_type": "execute_result",
          "data": {
            "text/plain": [
              "array([[ 1,  2,  3,  4],\n",
              "       [33, 44, 55, 66],\n",
              "       [ 6,  7,  8,  9]])"
            ]
          },
          "metadata": {},
          "execution_count": 66
        }
      ]
    },
    {
      "cell_type": "code",
      "source": [
        "array2D[0:2,1:3]\n",
        "# 0:2 → Rows 0 and 1 (i.e., the first and second rows)\n",
        "# 1:3 → Columns 1 and 2 (i.e., the second and third columns). So you're extracting the values at:\n",
        "# Row 0: columns 1 and 2 → [2, 3]\n",
        "# Row 1: columns 1 and 2 → [44, 55]"
      ],
      "metadata": {
        "colab": {
          "base_uri": "https://localhost:8080/"
        },
        "id": "isS0JabmAU1T",
        "outputId": "1616bc87-ea90-4ca6-964b-b95346f1e0e0"
      },
      "execution_count": null,
      "outputs": [
        {
          "output_type": "execute_result",
          "data": {
            "text/plain": [
              "array([[ 2,  3],\n",
              "       [44, 55]])"
            ]
          },
          "metadata": {},
          "execution_count": 68
        }
      ]
    },
    {
      "cell_type": "code",
      "source": [
        "array2D[:2,:4]\n",
        "# row upto 2 (not include 2 --> i.e. row 0 & 1)\n",
        "# column upto 4 (not include 3 --> i.e. column 0, 1, 2 & 3)"
      ],
      "metadata": {
        "colab": {
          "base_uri": "https://localhost:8080/"
        },
        "id": "RJIkoPE6EYLD",
        "outputId": "280d4342-ba59-4670-ff9c-09aab4aaa2d1"
      },
      "execution_count": null,
      "outputs": [
        {
          "output_type": "execute_result",
          "data": {
            "text/plain": [
              "array([[ 1,  2,  3,  4],\n",
              "       [33, 44, 55, 66]])"
            ]
          },
          "metadata": {},
          "execution_count": 69
        }
      ]
    },
    {
      "cell_type": "code",
      "source": [
        "# 3 D array slicing\n",
        "array3D"
      ],
      "metadata": {
        "colab": {
          "base_uri": "https://localhost:8080/"
        },
        "id": "HtlsY0OQEYG7",
        "outputId": "3a73cf6b-4336-4e16-a47e-67aa6faaa1b6"
      },
      "execution_count": null,
      "outputs": [
        {
          "output_type": "execute_result",
          "data": {
            "text/plain": [
              "array([[[ 1,  2,  3],\n",
              "        [ 4,  5,  6],\n",
              "        [ 7,  8,  9]],\n",
              "\n",
              "       [[21, 31, 41],\n",
              "        [11, 15, 52],\n",
              "        [66, 14, 23]]])"
            ]
          },
          "metadata": {},
          "execution_count": 70
        }
      ]
    },
    {
      "cell_type": "code",
      "source": [
        "print(array3D[0][1][2]) # First metrix, second row, 3 column"
      ],
      "metadata": {
        "colab": {
          "base_uri": "https://localhost:8080/"
        },
        "id": "9dy8ruSEEYDS",
        "outputId": "20e12993-107d-4bda-a6dc-5dfcda9a8308"
      },
      "execution_count": null,
      "outputs": [
        {
          "output_type": "stream",
          "name": "stdout",
          "text": [
            "6\n"
          ]
        }
      ]
    },
    {
      "cell_type": "code",
      "source": [
        "# mutability\n",
        "array3D[0][1][2]=100\n",
        "print(array3D)"
      ],
      "metadata": {
        "colab": {
          "base_uri": "https://localhost:8080/"
        },
        "id": "cG8-f_1pEX_a",
        "outputId": "2229dd15-5a1d-4b7d-c7c6-a43920166f87"
      },
      "execution_count": null,
      "outputs": [
        {
          "output_type": "stream",
          "name": "stdout",
          "text": [
            "[[[  1   2   3]\n",
            "  [  4   5 100]\n",
            "  [  7   8   9]]\n",
            "\n",
            " [[ 21  31  41]\n",
            "  [ 11  15  52]\n",
            "  [ 66  14  23]]]\n"
          ]
        }
      ]
    },
    {
      "cell_type": "code",
      "source": [
        "# Replacing loops\n",
        "sal = np.array([1000,2000,3000,4000,5000])\n",
        "print(sal+750)"
      ],
      "metadata": {
        "colab": {
          "base_uri": "https://localhost:8080/"
        },
        "id": "bE4X5ASIHk01",
        "outputId": "5691863f-3a0d-4402-a340-5610a324988d"
      },
      "execution_count": null,
      "outputs": [
        {
          "output_type": "stream",
          "name": "stdout",
          "text": [
            "[1750 2750 3750 4750 5750]\n"
          ]
        }
      ]
    },
    {
      "cell_type": "code",
      "source": [
        "array2D"
      ],
      "metadata": {
        "colab": {
          "base_uri": "https://localhost:8080/"
        },
        "id": "2XAG34hGHkxu",
        "outputId": "c4b7a569-38d9-45be-bff6-5dd5af6a9ed9"
      },
      "execution_count": null,
      "outputs": [
        {
          "output_type": "execute_result",
          "data": {
            "text/plain": [
              "array([[ 1,  2,  3,  4],\n",
              "       [33, 44, 55, 66],\n",
              "       [ 6,  7,  8,  9]])"
            ]
          },
          "metadata": {},
          "execution_count": 76
        }
      ]
    },
    {
      "cell_type": "code",
      "source": [
        "array2D.T # interchanging rows and columns"
      ],
      "metadata": {
        "colab": {
          "base_uri": "https://localhost:8080/"
        },
        "id": "xacP5hIAHktn",
        "outputId": "3f8436d8-6668-4c92-dc92-d2201cf54dc4"
      },
      "execution_count": null,
      "outputs": [
        {
          "output_type": "execute_result",
          "data": {
            "text/plain": [
              "array([[ 1, 33,  6],\n",
              "       [ 2, 44,  7],\n",
              "       [ 3, 55,  8],\n",
              "       [ 4, 66,  9]])"
            ]
          },
          "metadata": {},
          "execution_count": 77
        }
      ]
    },
    {
      "cell_type": "code",
      "source": [
        "# identity metrix\n",
        "np.eye(4)"
      ],
      "metadata": {
        "colab": {
          "base_uri": "https://localhost:8080/"
        },
        "id": "bve_c7qZHkqP",
        "outputId": "9a53b078-edb8-4306-9eef-47181b97fb3b"
      },
      "execution_count": null,
      "outputs": [
        {
          "output_type": "execute_result",
          "data": {
            "text/plain": [
              "array([[1., 0., 0., 0.],\n",
              "       [0., 1., 0., 0.],\n",
              "       [0., 0., 1., 0.],\n",
              "       [0., 0., 0., 1.]])"
            ]
          },
          "metadata": {},
          "execution_count": 78
        }
      ]
    },
    {
      "cell_type": "code",
      "source": [
        "np.eye(7)"
      ],
      "metadata": {
        "colab": {
          "base_uri": "https://localhost:8080/"
        },
        "id": "ycRwCTCmxGTE",
        "outputId": "e1d7090d-14ba-49cc-c525-56f8555a1400"
      },
      "execution_count": null,
      "outputs": [
        {
          "output_type": "execute_result",
          "data": {
            "text/plain": [
              "array([[1., 0., 0., 0., 0., 0., 0.],\n",
              "       [0., 1., 0., 0., 0., 0., 0.],\n",
              "       [0., 0., 1., 0., 0., 0., 0.],\n",
              "       [0., 0., 0., 1., 0., 0., 0.],\n",
              "       [0., 0., 0., 0., 1., 0., 0.],\n",
              "       [0., 0., 0., 0., 0., 1., 0.],\n",
              "       [0., 0., 0., 0., 0., 0., 1.]])"
            ]
          },
          "metadata": {},
          "execution_count": 79
        }
      ]
    },
    {
      "cell_type": "code",
      "source": [
        "# Ones matrix\n",
        "np.ones((4,4))"
      ],
      "metadata": {
        "colab": {
          "base_uri": "https://localhost:8080/"
        },
        "id": "fypLfUikxGV0",
        "outputId": "35347e8e-968f-4fdf-a2f3-0b6303bb0e1b"
      },
      "execution_count": null,
      "outputs": [
        {
          "output_type": "execute_result",
          "data": {
            "text/plain": [
              "array([[1., 1., 1., 1.],\n",
              "       [1., 1., 1., 1.],\n",
              "       [1., 1., 1., 1.],\n",
              "       [1., 1., 1., 1.]])"
            ]
          },
          "metadata": {},
          "execution_count": 80
        }
      ]
    },
    {
      "cell_type": "code",
      "source": [
        "np.ones((4,4),dtype=int)"
      ],
      "metadata": {
        "colab": {
          "base_uri": "https://localhost:8080/"
        },
        "id": "ly9C7yPbIaLN",
        "outputId": "e80e9a07-b3c5-4fb1-d80f-a3f2cadc39e4"
      },
      "execution_count": null,
      "outputs": [
        {
          "output_type": "execute_result",
          "data": {
            "text/plain": [
              "array([[1, 1, 1, 1],\n",
              "       [1, 1, 1, 1],\n",
              "       [1, 1, 1, 1],\n",
              "       [1, 1, 1, 1]])"
            ]
          },
          "metadata": {},
          "execution_count": 81
        }
      ]
    },
    {
      "cell_type": "code",
      "source": [
        "# Generate series\n",
        "print(np.arange(12))"
      ],
      "metadata": {
        "colab": {
          "base_uri": "https://localhost:8080/"
        },
        "id": "2tLNKYbeIaPq",
        "outputId": "2cdcab0c-00d8-4a46-89be-e13e42355395"
      },
      "execution_count": null,
      "outputs": [
        {
          "output_type": "stream",
          "name": "stdout",
          "text": [
            "[ 0  1  2  3  4  5  6  7  8  9 10 11]\n"
          ]
        }
      ]
    },
    {
      "cell_type": "code",
      "source": [
        "# manipulation\n",
        "print(np.arange(10)+1000)"
      ],
      "metadata": {
        "colab": {
          "base_uri": "https://localhost:8080/"
        },
        "id": "38WrOXWaIaUN",
        "outputId": "55a08896-d416-4901-9a09-dacccef46453"
      },
      "execution_count": null,
      "outputs": [
        {
          "output_type": "stream",
          "name": "stdout",
          "text": [
            "[1000 1001 1002 1003 1004 1005 1006 1007 1008 1009]\n"
          ]
        }
      ]
    },
    {
      "cell_type": "code",
      "source": [
        "# Array manupulation\n",
        "a =np.array([10,20])\n",
        "b =np.array([30,40])\n",
        "result = a+b\n",
        "print(result)"
      ],
      "metadata": {
        "colab": {
          "base_uri": "https://localhost:8080/"
        },
        "id": "DRSBEbitIaXP",
        "outputId": "104843f8-505b-45e3-fd93-9f2bebb179b5"
      },
      "execution_count": null,
      "outputs": [
        {
          "output_type": "stream",
          "name": "stdout",
          "text": [
            "[40 60]\n"
          ]
        }
      ]
    },
    {
      "cell_type": "code",
      "source": [
        "print(array3D)"
      ],
      "metadata": {
        "colab": {
          "base_uri": "https://localhost:8080/"
        },
        "id": "Dp_qtsC0JwPg",
        "outputId": "84f2e767-3d74-4aa4-9c2a-4539cbac430c"
      },
      "execution_count": null,
      "outputs": [
        {
          "output_type": "stream",
          "name": "stdout",
          "text": [
            "[[[  1   2   3]\n",
            "  [  4   5 100]\n",
            "  [  7   8   9]]\n",
            "\n",
            " [[ 21  31  41]\n",
            "  [ 11  15  52]\n",
            "  [ 66  14  23]]]\n"
          ]
        }
      ]
    },
    {
      "cell_type": "code",
      "source": [
        "# Make the 3-D array data to 1-D data\n",
        "array3D.flatten()"
      ],
      "metadata": {
        "colab": {
          "base_uri": "https://localhost:8080/"
        },
        "id": "GcgeJzoTJwFV",
        "outputId": "a63ed31f-c4bb-48bf-a589-ef5057bc846f"
      },
      "execution_count": null,
      "outputs": [
        {
          "output_type": "execute_result",
          "data": {
            "text/plain": [
              "array([  1,   2,   3,   4,   5, 100,   7,   8,   9,  21,  31,  41,  11,\n",
              "        15,  52,  66,  14,  23])"
            ]
          },
          "metadata": {},
          "execution_count": 99
        }
      ]
    },
    {
      "cell_type": "code",
      "source": [
        "array3D.ndim"
      ],
      "metadata": {
        "colab": {
          "base_uri": "https://localhost:8080/"
        },
        "id": "9gckwOsfJwBx",
        "outputId": "1a9bb6d8-afa2-4e6e-b836-768a47593682"
      },
      "execution_count": null,
      "outputs": [
        {
          "output_type": "execute_result",
          "data": {
            "text/plain": [
              "3"
            ]
          },
          "metadata": {},
          "execution_count": 100
        }
      ]
    },
    {
      "cell_type": "code",
      "source": [
        "print(array3D.reshape(3,2,3))"
      ],
      "metadata": {
        "colab": {
          "base_uri": "https://localhost:8080/"
        },
        "id": "30j1Wp2EJv5L",
        "outputId": "74c9018f-9929-45b2-8249-82acd751fd0e"
      },
      "execution_count": null,
      "outputs": [
        {
          "output_type": "stream",
          "name": "stdout",
          "text": [
            "[[[  1   2   3]\n",
            "  [  4   5 100]]\n",
            "\n",
            " [[  7   8   9]\n",
            "  [ 21  31  41]]\n",
            "\n",
            " [[ 11  15  52]\n",
            "  [ 66  14  23]]]\n"
          ]
        }
      ]
    },
    {
      "cell_type": "code",
      "source": [
        "# Change it to diff dimension\n",
        "print(array3D.reshape(6,3))"
      ],
      "metadata": {
        "colab": {
          "base_uri": "https://localhost:8080/"
        },
        "id": "cDZ2oqX0Jv9S",
        "outputId": "52306474-112e-4528-ed7b-f07b6eb67378"
      },
      "execution_count": null,
      "outputs": [
        {
          "output_type": "stream",
          "name": "stdout",
          "text": [
            "[[  1   2   3]\n",
            " [  4   5 100]\n",
            " [  7   8   9]\n",
            " [ 21  31  41]\n",
            " [ 11  15  52]\n",
            " [ 66  14  23]]\n"
          ]
        }
      ]
    },
    {
      "cell_type": "markdown",
      "source": [
        "# reshape(-1, 3)\n",
        "-1 tells NumPy: “You figure out how many rows I need”\n",
        "\n",
        "3 means “I want 3 columns per row”\n",
        "\n",
        "So NumPy calculates: 18 elements ÷ 3 columns = 6 rows, resulting in shape (6, 3)"
      ],
      "metadata": {
        "id": "AayPmQF5MeZ0"
      }
    },
    {
      "cell_type": "code",
      "source": [
        "print(array3D.reshape(-1,3))"
      ],
      "metadata": {
        "colab": {
          "base_uri": "https://localhost:8080/"
        },
        "id": "NrDTMo-NLO-Y",
        "outputId": "723e12b9-4127-4ecf-fe7e-0887654c6010"
      },
      "execution_count": null,
      "outputs": [
        {
          "output_type": "stream",
          "name": "stdout",
          "text": [
            "[[  1   2   3]\n",
            " [  4   5 100]\n",
            " [  7   8   9]\n",
            " [ 21  31  41]\n",
            " [ 11  15  52]\n",
            " [ 66  14  23]]\n"
          ]
        }
      ]
    },
    {
      "cell_type": "code",
      "source": [
        "array3D"
      ],
      "metadata": {
        "colab": {
          "base_uri": "https://localhost:8080/"
        },
        "id": "3TpL_kQbM4HX",
        "outputId": "c6f97db7-e1a0-40ae-d88a-dc6c561a0052"
      },
      "execution_count": null,
      "outputs": [
        {
          "output_type": "execute_result",
          "data": {
            "text/plain": [
              "array([[[  1,   2,   3],\n",
              "        [  4,   5, 100],\n",
              "        [  7,   8,   9]],\n",
              "\n",
              "       [[ 21,  31,  41],\n",
              "        [ 11,  15,  52],\n",
              "        [ 66,  14,  23]]])"
            ]
          },
          "metadata": {},
          "execution_count": 107
        }
      ]
    },
    {
      "cell_type": "code",
      "source": [
        "# Apply a filter or condition in numpy\n",
        "np.where(array3D>50,75, array3D+200)"
      ],
      "metadata": {
        "colab": {
          "base_uri": "https://localhost:8080/"
        },
        "id": "FEWeMC4_LO6h",
        "outputId": "e4e9b091-6327-4bc6-9287-387e4c0635c6"
      },
      "execution_count": null,
      "outputs": [
        {
          "output_type": "execute_result",
          "data": {
            "text/plain": [
              "array([[[201, 202, 203],\n",
              "        [204, 205,  75],\n",
              "        [207, 208, 209]],\n",
              "\n",
              "       [[221, 231, 241],\n",
              "        [211, 215,  75],\n",
              "        [ 75, 214, 223]]])"
            ]
          },
          "metadata": {},
          "execution_count": 108
        }
      ]
    },
    {
      "cell_type": "markdown",
      "source": [
        "# **NumPy Assignment :-**"
      ],
      "metadata": {
        "id": "V3b_wAIWQL7f"
      }
    },
    {
      "cell_type": "markdown",
      "source": [
        "**1. Array Creation**\n"
      ],
      "metadata": {
        "id": "wOUIR6rmT7Ev"
      }
    },
    {
      "cell_type": "code",
      "source": [
        "# Array Creation:\n",
        "# Write a NumPy program to create the following arrays:\n",
        "# A 1D array of numbers from 10 to 50 (inclusive).\n",
        "\n",
        "import numpy as np\n",
        "array_1D = np.arange(10,51)\n",
        "print(array_1D)\n"
      ],
      "metadata": {
        "id": "-q_RonMALO3D",
        "colab": {
          "base_uri": "https://localhost:8080/"
        },
        "outputId": "97613175-408e-4aa4-8665-290751be014d"
      },
      "execution_count": null,
      "outputs": [
        {
          "output_type": "stream",
          "name": "stdout",
          "text": [
            "[10 11 12 13 14 15 16 17 18 19 20 21 22 23 24 25 26 27 28 29 30 31 32 33\n",
            " 34 35 36 37 38 39 40 41 42 43 44 45 46 47 48 49 50]\n"
          ]
        }
      ]
    },
    {
      "cell_type": "code",
      "source": [
        "# A 2D array of shape (3,3) with values from 1 to 9.\n",
        "array_2D = np.array([[1,2,3],[4,5,6],[7,8,9]])\n",
        "print(array_2D)"
      ],
      "metadata": {
        "id": "GYb_L31jLOyq",
        "colab": {
          "base_uri": "https://localhost:8080/"
        },
        "outputId": "2a6ff699-3485-4505-8909-a7d9f5a3c6d3"
      },
      "execution_count": null,
      "outputs": [
        {
          "output_type": "stream",
          "name": "stdout",
          "text": [
            "[[1 2 3]\n",
            " [4 5 6]\n",
            " [7 8 9]]\n"
          ]
        }
      ]
    },
    {
      "cell_type": "markdown",
      "source": [
        "# OR\n"
      ],
      "metadata": {
        "id": "1kiwfHftTACg"
      }
    },
    {
      "cell_type": "code",
      "source": [
        "array2D = np.arange(1,10).reshape(3,3)\n",
        "print(array2D)"
      ],
      "metadata": {
        "id": "XVn_LcfwLOvL",
        "colab": {
          "base_uri": "https://localhost:8080/"
        },
        "outputId": "8ff58257-dd29-4478-d703-543d61caccfd"
      },
      "execution_count": null,
      "outputs": [
        {
          "output_type": "stream",
          "name": "stdout",
          "text": [
            "[[1 2 3]\n",
            " [4 5 6]\n",
            " [7 8 9]]\n"
          ]
        }
      ]
    },
    {
      "cell_type": "markdown",
      "source": [
        "**2. Indexing & Slicing :-**"
      ],
      "metadata": {
        "id": "-cDBMKHJT3pv"
      }
    },
    {
      "cell_type": "code",
      "source": [
        "arr = np.array([10, 20, 30, 40, 50, 60, 70, 80, 90])\n",
        "\n",
        "# Extract the first five elements.\n",
        "print(arr[:5])"
      ],
      "metadata": {
        "id": "pSFq2K_4Iaai",
        "colab": {
          "base_uri": "https://localhost:8080/"
        },
        "outputId": "16d45672-556c-454a-9213-b647f0319464"
      },
      "execution_count": null,
      "outputs": [
        {
          "output_type": "stream",
          "name": "stdout",
          "text": [
            "[10 20 30 40 50]\n"
          ]
        }
      ]
    },
    {
      "cell_type": "code",
      "source": [
        "# Extract every alternate element starting from index 1.\n",
        "print(arr[1::2])"
      ],
      "metadata": {
        "colab": {
          "base_uri": "https://localhost:8080/"
        },
        "id": "bHrJKI-GV7OL",
        "outputId": "8a2d2492-6800-4858-da95-d94f71bb5a2f"
      },
      "execution_count": null,
      "outputs": [
        {
          "output_type": "stream",
          "name": "stdout",
          "text": [
            "[20 40 60 80]\n"
          ]
        }
      ]
    },
    {
      "cell_type": "code",
      "source": [
        "# Reverse the array using slicing.\n",
        "print(arr[::-1])"
      ],
      "metadata": {
        "colab": {
          "base_uri": "https://localhost:8080/"
        },
        "id": "pd4gxeiAV7aE",
        "outputId": "c83ccc78-94ce-42b2-b59d-ebc9d4733227"
      },
      "execution_count": null,
      "outputs": [
        {
          "output_type": "stream",
          "name": "stdout",
          "text": [
            "[90 80 70 60 50 40 30 20 10]\n"
          ]
        }
      ]
    },
    {
      "cell_type": "markdown",
      "source": [
        "**3. Matrix Operations:-**"
      ],
      "metadata": {
        "id": "KOmOYC_qZpym"
      }
    },
    {
      "cell_type": "code",
      "source": [
        "# Create two (3×3) matrices with random integers between 1 and 20\n",
        "# First 3×3 matrix with random integers from 1 to 20\n",
        "random_arr1 = np.random.randint(1, 20, size=(3, 3))\n",
        "print(\"\\n\",random_arr1)\n",
        "\n",
        "\n",
        "# Second 3×3 matrix with random integers from 1 to 20\n",
        "random_arr2 = np.random.randint(1, 20, size=(3, 3))\n",
        "print(\"\\n\",random_arr2)\n"
      ],
      "metadata": {
        "colab": {
          "base_uri": "https://localhost:8080/"
        },
        "id": "p9s-POI1V7lL",
        "outputId": "be0e5cdd-99cd-4da1-bffe-7f820ea05c78"
      },
      "execution_count": null,
      "outputs": [
        {
          "output_type": "stream",
          "name": "stdout",
          "text": [
            "\n",
            " [[16  2 10]\n",
            " [12 18  1]\n",
            " [ 9 13  7]]\n",
            "\n",
            " [[11  3 17]\n",
            " [18 16  2]\n",
            " [13 18 16]]\n"
          ]
        }
      ]
    },
    {
      "cell_type": "code",
      "source": [
        "# Compute the element-wise sum and product of both matrices.\n",
        "\n",
        "sum_arr = random_arr1 + random_arr2\n",
        "print(\"\\n\",sum_arr)\n",
        "\n",
        "print(\"===============\")\n",
        "\n",
        "product_arr = random_arr1 * random_arr2\n",
        "print(\"\\n\",product_arr)"
      ],
      "metadata": {
        "colab": {
          "base_uri": "https://localhost:8080/"
        },
        "id": "tV6SGitAcxex",
        "outputId": "42490d47-1b41-45c0-dd4e-b48434458021"
      },
      "execution_count": null,
      "outputs": [
        {
          "output_type": "stream",
          "name": "stdout",
          "text": [
            "\n",
            " [[27  5 27]\n",
            " [30 34  3]\n",
            " [22 31 23]]\n",
            "===============\n",
            "\n",
            " [[176   6 170]\n",
            " [216 288   2]\n",
            " [117 234 112]]\n"
          ]
        }
      ]
    },
    {
      "cell_type": "code",
      "source": [
        "# Compute the matrix multiplication of the two matrices.\n",
        "multiplication_matrices = np.dot(random_arr1,random_arr2)\n",
        "print(multiplication_matrices)"
      ],
      "metadata": {
        "colab": {
          "base_uri": "https://localhost:8080/"
        },
        "id": "nq41tA-eaPap",
        "outputId": "ce0210f2-51ea-4da4-99cb-3febd0c5d5bd"
      },
      "execution_count": null,
      "outputs": [
        {
          "output_type": "stream",
          "name": "stdout",
          "text": [
            "[[342 260 436]\n",
            " [469 342 256]\n",
            " [424 361 291]]\n"
          ]
        }
      ]
    },
    {
      "cell_type": "markdown",
      "source": [
        "**4. Broadcasting:**"
      ],
      "metadata": {
        "id": "FHd7hy1Wob4K"
      }
    },
    {
      "cell_type": "code",
      "source": [
        "# Perform an element-wise sum using broadcasting.\n",
        "\n",
        "A = np.array([[1], [2], [3]])\n",
        "B = np.array([4, 5, 6])\n",
        "\n",
        "element_sum = A + B\n",
        "print(element_sum)"
      ],
      "metadata": {
        "colab": {
          "base_uri": "https://localhost:8080/"
        },
        "id": "VbD9g3lFmR-O",
        "outputId": "dd76dc9d-c05a-47aa-884a-12a77b34e223"
      },
      "execution_count": null,
      "outputs": [
        {
          "output_type": "stream",
          "name": "stdout",
          "text": [
            "[[5 6 7]\n",
            " [6 7 8]\n",
            " [7 8 9]]\n"
          ]
        }
      ]
    },
    {
      "cell_type": "markdown",
      "source": [
        "**5. Statistical Computation:**\n",
        "\n",
        "\n",
        "\n",
        "1. Compute the mean, median, and standard deviation.\n",
        "2.   Find the maximum and minimum scores"
      ],
      "metadata": {
        "id": "M8VhQHt5uouC"
      }
    },
    {
      "cell_type": "code",
      "source": [
        "scores = np.array([65, 78, 90, 55, 88, 92, 75, 80])"
      ],
      "metadata": {
        "id": "vJLnxXcLoaoB"
      },
      "execution_count": null,
      "outputs": []
    },
    {
      "cell_type": "code",
      "source": [
        "# Mean scores from the array --> The average score\n",
        "mean_score = np.mean(scores)\n",
        "print(mean_score)"
      ],
      "metadata": {
        "colab": {
          "base_uri": "https://localhost:8080/"
        },
        "id": "KICSX-06ynpc",
        "outputId": "696fb6c0-c5f0-4ac9-8d02-c0c419436353"
      },
      "execution_count": null,
      "outputs": [
        {
          "output_type": "stream",
          "name": "stdout",
          "text": [
            "77.875\n"
          ]
        }
      ]
    },
    {
      "cell_type": "code",
      "source": [
        "# Median scores from the array --> Finds the middle value after sorting the array\n",
        "median_score = np.median(scores)\n",
        "print(median_score)"
      ],
      "metadata": {
        "colab": {
          "base_uri": "https://localhost:8080/"
        },
        "id": "IO236t-9ynlu",
        "outputId": "299769e4-cfae-4afd-e9c8-ee5af1272e6e"
      },
      "execution_count": null,
      "outputs": [
        {
          "output_type": "stream",
          "name": "stdout",
          "text": [
            "79.0\n"
          ]
        }
      ]
    },
    {
      "cell_type": "code",
      "source": [
        "# Standard scores from the array\n",
        "std_score = np.std(scores)\n",
        "print(std_score)"
      ],
      "metadata": {
        "colab": {
          "base_uri": "https://localhost:8080/"
        },
        "id": "HYqmhNkRoakR",
        "outputId": "ef768f98-d33f-4548-b89e-de2c43d118c9"
      },
      "execution_count": null,
      "outputs": [
        {
          "output_type": "stream",
          "name": "stdout",
          "text": [
            "11.994139193789607\n"
          ]
        }
      ]
    },
    {
      "cell_type": "code",
      "source": [
        "# Maximum scores from the array\n",
        "max_score = np.max(scores)\n",
        "print(max_score)"
      ],
      "metadata": {
        "colab": {
          "base_uri": "https://localhost:8080/"
        },
        "id": "HGmZATJvoaf0",
        "outputId": "d88d59f6-a49b-4ab3-b2ad-c9e743c216cf"
      },
      "execution_count": null,
      "outputs": [
        {
          "output_type": "stream",
          "name": "stdout",
          "text": [
            "92\n"
          ]
        }
      ]
    },
    {
      "cell_type": "code",
      "source": [
        "# Minimum scores from the array\n",
        "min_score = np.min(scores)\n",
        "print(min_score)"
      ],
      "metadata": {
        "colab": {
          "base_uri": "https://localhost:8080/"
        },
        "id": "_67_vX31oab4",
        "outputId": "83823f38-160a-4f79-b059-802012ad9799"
      },
      "execution_count": null,
      "outputs": [
        {
          "output_type": "stream",
          "name": "stdout",
          "text": [
            "55\n"
          ]
        }
      ]
    }
  ]
}