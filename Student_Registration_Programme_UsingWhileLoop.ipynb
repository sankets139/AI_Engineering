{
  "nbformat": 4,
  "nbformat_minor": 0,
  "metadata": {
    "colab": {
      "provenance": [],
      "authorship_tag": "ABX9TyP9qPedQyFHFIH+Ux1pFMIu",
      "include_colab_link": true
    },
    "kernelspec": {
      "name": "python3",
      "display_name": "Python 3"
    },
    "language_info": {
      "name": "python"
    }
  },
  "cells": [
    {
      "cell_type": "markdown",
      "metadata": {
        "id": "view-in-github",
        "colab_type": "text"
      },
      "source": [
        "<a href=\"https://colab.research.google.com/github/sankets139/GitDemo/blob/master/Student_Registration_Programme_UsingWhileLoop.ipynb\" target=\"_parent\"><img src=\"https://colab.research.google.com/assets/colab-badge.svg\" alt=\"Open In Colab\"/></a>"
      ]
    },
    {
      "cell_type": "code",
      "execution_count": null,
      "metadata": {
        "colab": {
          "base_uri": "https://localhost:8080/"
        },
        "id": "qRBW6nLXPTXC",
        "outputId": "fc9dcac8-71f1-4484-a3d9-580a07558003"
      },
      "outputs": [
        {
          "output_type": "stream",
          "name": "stdout",
          "text": [
            "Enter number of students1\n",
            " Your name: a\n",
            " Hi a Welcome: \n",
            " Your registration number is:-  1000\n",
            "\n",
            "\n",
            "All students are welcome\n"
          ]
        }
      ],
      "source": [
        "n = int(input(\"Enter number of students\"))\n",
        "Reg_number = 1000\n",
        "i = 0\n",
        "\n",
        "while i< n:\n",
        "  name = input (\" Your name: \")\n",
        "  print(' Hi', name, 'Welcome:',\"\\n\",'Your registration number is:- ',(Reg_number +i))\n",
        "  print(\"\\n\")\n",
        "  i = i+1\n",
        "\n",
        "else :\n",
        "  print('All students are welcome')\n"
      ]
    }
  ]
}