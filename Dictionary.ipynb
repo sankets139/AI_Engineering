{
  "nbformat": 4,
  "nbformat_minor": 0,
  "metadata": {
    "colab": {
      "provenance": [],
      "authorship_tag": "ABX9TyPu0fnjqp8wHZ9DSk8CBFCS",
      "include_colab_link": true
    },
    "kernelspec": {
      "name": "python3",
      "display_name": "Python 3"
    },
    "language_info": {
      "name": "python"
    }
  },
  "cells": [
    {
      "cell_type": "markdown",
      "metadata": {
        "id": "view-in-github",
        "colab_type": "text"
      },
      "source": [
        "<a href=\"https://colab.research.google.com/github/sankets139/AI_Engineering/blob/master/Dictionary.ipynb\" target=\"_parent\"><img src=\"https://colab.research.google.com/assets/colab-badge.svg\" alt=\"Open In Colab\"/></a>"
      ]
    },
    {
      "cell_type": "markdown",
      "source": [
        "# Create a dictionary using the data from the countries\n",
        "\n",
        "- country name\n",
        "- population\n",
        "- square ft\n",
        "- capital city"
      ],
      "metadata": {
        "id": "TQeSeyaYxIke"
      }
    },
    {
      "cell_type": "code",
      "execution_count": null,
      "metadata": {
        "id": "lA55c8Nk0fhl"
      },
      "outputs": [],
      "source": [
        "n = int(input(\"Number of countries dictionary: \"))\n",
        "countries = {}\n",
        "\n",
        "for i in range(n):\n",
        "\n",
        "    country = input(\"Country \" + str(i+1) + \": \" )\n",
        "    area = input(\"Area of \" +str(country) + \": \")\n",
        "    population = input(\"Population of \" +str(country) +\": \")\n",
        "    Capital_city = input(\"Capital of \" +str(country) + \": \" )\n",
        "\n",
        "    #country = input(f\"Country {i+1}: \")\n",
        "    #area = input(f\"Area of: {country}: \")\n",
        "    #population = input(f\"Population of: {country}: \")\n",
        "    #Capital_city = input(f\"Capital of: {country}: \")\n",
        "\n",
        "    countries[country] = {\n",
        "        \"Area\": area,\n",
        "        \"Population\": population,\n",
        "        \"Capital\": Capital_city\n",
        "    }\n",
        "    print(\"\\nCountry Data:\")\n",
        "    for a, b in countries.items():\n",
        "        print(a,b)\n",
        "\n",
        ""
      ]
    },
    {
      "cell_type": "markdown",
      "source": [
        "# Calculate the total price of all products listed AND the count of the product in the below product dictionary.\n"
      ],
      "metadata": {
        "id": "LK_kxqDTxWpg"
      }
    },
    {
      "cell_type": "code",
      "source": [
        "product ={\n",
        "    'ID':[101,102,103],\n",
        "    'Name':[\"iPhone\",\"MacBook\",\"TV\"],\n",
        "    'Price':[800,2500,1500]\n",
        "}"
      ],
      "metadata": {
        "id": "0HOvJ3RAyb_r"
      },
      "execution_count": 58,
      "outputs": []
    },
    {
      "cell_type": "code",
      "source": [
        "total_price = sum(product['Price'])\n",
        "print(\"Total price of all products:\", total_price)\n"
      ],
      "metadata": {
        "colab": {
          "base_uri": "https://localhost:8080/"
        },
        "id": "OHu37fqEzYrV",
        "outputId": "219ccb6a-2022-4c06-db3f-75a6dad5040b"
      },
      "execution_count": 59,
      "outputs": [
        {
          "output_type": "stream",
          "name": "stdout",
          "text": [
            "Total price of all products: 4800\n"
          ]
        }
      ]
    },
    {
      "cell_type": "code",
      "source": [
        "print(\"Total number of products:\", len(product['Name']))"
      ],
      "metadata": {
        "colab": {
          "base_uri": "https://localhost:8080/"
        },
        "id": "WOPOJmDq0OfG",
        "outputId": "2446a53a-bfda-45e6-e556-1c3fcb62b0ee"
      },
      "execution_count": 60,
      "outputs": [
        {
          "output_type": "stream",
          "name": "stdout",
          "text": [
            "Total number of products: 3\n"
          ]
        }
      ]
    }
  ]
}