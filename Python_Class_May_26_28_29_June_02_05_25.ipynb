{
  "cells": [
    {
      "cell_type": "markdown",
      "metadata": {
        "id": "view-in-github",
        "colab_type": "text"
      },
      "source": [
        "<a href=\"https://colab.research.google.com/github/sankets139/AI_Engineering/blob/master/Python_Class_May_26_28_29_June_02_05_25.ipynb\" target=\"_parent\"><img src=\"https://colab.research.google.com/assets/colab-badge.svg\" alt=\"Open In Colab\"/></a>"
      ]
    },
    {
      "cell_type": "markdown",
      "metadata": {
        "id": "6Z0UWxWxFWgh"
      },
      "source": [
        "ipymb - interactive python notebook\n",
        "\n",
        "file extension **py** OR **ipynb**"
      ]
    },
    {
      "cell_type": "markdown",
      "metadata": {
        "id": "bRGKVwLLFrKX"
      },
      "source": [
        "# **Display messages**"
      ]
    },
    {
      "cell_type": "code",
      "execution_count": null,
      "metadata": {
        "colab": {
          "base_uri": "https://localhost:8080/"
        },
        "id": "I8H4rUDfEXIr",
        "outputId": "399b212b-9ed8-440b-d621-429b231e923c"
      },
      "outputs": [
        {
          "name": "stdout",
          "output_type": "stream",
          "text": [
            "Welcome to Python Session\n"
          ]
        }
      ],
      "source": [
        "print('Welcome to Python Session')"
      ]
    },
    {
      "cell_type": "markdown",
      "metadata": {
        "id": "jf4CLUhPGDdD"
      },
      "source": [
        "**functions()** :- give messages in quotes -  single or double"
      ]
    },
    {
      "cell_type": "markdown",
      "metadata": {
        "id": "LI_9hg0SIPZC"
      },
      "source": [
        "**Keyboard shortcut to run the code -->**\n",
        "*   Shift + Enter\n",
        "*   ctrl = Enter\n",
        "\n"
      ]
    },
    {
      "cell_type": "markdown",
      "metadata": {
        "id": "KrbuWROoKI7r"
      },
      "source": [
        "# **Display data and messages**"
      ]
    },
    {
      "cell_type": "code",
      "execution_count": null,
      "metadata": {
        "colab": {
          "base_uri": "https://localhost:8080/"
        },
        "id": "TmgH4_RrEoxj",
        "outputId": "dd59eba9-1224-42ee-f2eb-4839bc7f25b3"
      },
      "outputs": [
        {
          "name": "stdout",
          "output_type": "stream",
          "text": [
            "My Age is 30\n"
          ]
        }
      ],
      "source": [
        "print ('My Age is', 30)"
      ]
    },
    {
      "cell_type": "code",
      "execution_count": null,
      "metadata": {
        "colab": {
          "base_uri": "https://localhost:8080/"
        },
        "id": "oQbhN_cXEo03",
        "outputId": "b57d2f94-c7c9-4dc4-e6c5-8e69431c14d8"
      },
      "outputs": [
        {
          "name": "stdout",
          "output_type": "stream",
          "text": [
            "My Age is 25\n"
          ]
        }
      ],
      "source": [
        "# Variable\n",
        "age =25\n",
        "print('My Age is',age)"
      ]
    },
    {
      "cell_type": "markdown",
      "metadata": {
        "id": "g1e45mGGMtNJ"
      },
      "source": [
        "# **Task :-**\n",
        "\n",
        "1.   Try to print your age and your father age as well.\n",
        "2.   Use single variable to display age, and the father age.\n",
        "    e.g. father age = age + 30\n",
        "3.   Sum of 2 numbers"
      ]
    },
    {
      "cell_type": "code",
      "execution_count": null,
      "metadata": {
        "colab": {
          "base_uri": "https://localhost:8080/"
        },
        "id": "a0Re3sOpEo36",
        "outputId": "4783c9f4-abc8-4470-d34d-e9611bab65ca"
      },
      "outputs": [
        {
          "name": "stdout",
          "output_type": "stream",
          "text": [
            "My age is 30 and father age is 55\n"
          ]
        }
      ],
      "source": [
        "# Task 1\n",
        "\n",
        "myAge = 30\n",
        "fatherAge = 55\n",
        "print('My age is',myAge,'and father age is',fatherAge)"
      ]
    },
    {
      "cell_type": "code",
      "execution_count": null,
      "metadata": {
        "colab": {
          "base_uri": "https://localhost:8080/"
        },
        "id": "JZrZP1ncEo6w",
        "outputId": "15f2dc84-f2f9-4fda-8bdf-e2d40127f3d8"
      },
      "outputs": [
        {
          "name": "stdout",
          "output_type": "stream",
          "text": [
            "The son age is 25 and father age is 55\n"
          ]
        }
      ],
      "source": [
        "# Task 2\n",
        "\n",
        "sonAge = 25\n",
        "print('The son age is', sonAge, 'and father age is',sonAge+30)"
      ]
    },
    {
      "cell_type": "code",
      "execution_count": null,
      "metadata": {
        "colab": {
          "base_uri": "https://localhost:8080/"
        },
        "id": "wy3cdcEDEo9v",
        "outputId": "d003d3c0-e8fa-416e-e8fa-7594f638238e"
      },
      "outputs": [
        {
          "name": "stdout",
          "output_type": "stream",
          "text": [
            "Sum of the numbers are: 45\n"
          ]
        }
      ],
      "source": [
        "# Task 3\n",
        "num = 15\n",
        "num += 30\n",
        "print('Sum of the numbers are:',num)\n"
      ]
    },
    {
      "cell_type": "code",
      "execution_count": null,
      "metadata": {
        "colab": {
          "base_uri": "https://localhost:8080/"
        },
        "id": "XJY5kgRMEpAl",
        "outputId": "ac6b8bd5-5b98-43d6-ebb3-c191aa6b70a9"
      },
      "outputs": [
        {
          "name": "stdout",
          "output_type": "stream",
          "text": [
            "The sum is: 30\n"
          ]
        }
      ],
      "source": [
        "# Task 3 with 2 variables\n",
        "\n",
        "# Define variables a and b and assign them values\n",
        "\n",
        "a = 10  # getting the data while complie the code\n",
        "b = 20\n",
        "sum = a+b\n",
        "print ('The sum is:', sum )"
      ]
    },
    {
      "cell_type": "markdown",
      "metadata": {
        "id": "Zid9oZDAiRxH"
      },
      "source": [
        "# ** Run time execution **"
      ]
    },
    {
      "cell_type": "code",
      "execution_count": null,
      "metadata": {
        "colab": {
          "base_uri": "https://localhost:8080/"
        },
        "id": "v_HXzg8uEpDq",
        "outputId": "cac6187a-146e-4965-8c3b-4a9633e9dd56"
      },
      "outputs": [
        {
          "name": "stdout",
          "output_type": "stream",
          "text": [
            "Where are you from :Moscow\n",
            "I am from  Moscow\n"
          ]
        }
      ],
      "source": [
        "# prompt\n",
        "\n",
        "city = input('Where are you from :')\n",
        "print('I am from ',city)"
      ]
    },
    {
      "cell_type": "markdown",
      "metadata": {
        "id": "EvQge2xsjIJ1"
      },
      "source": [
        "# **Datatypes :-**\n",
        "\n",
        "1.   Numeric --> integer - no decimal, float - decimals\n",
        "2.   String\n",
        "3.   boolean - True or False\n",
        "4.   date"
      ]
    },
    {
      "cell_type": "code",
      "execution_count": null,
      "metadata": {
        "colab": {
          "base_uri": "https://localhost:8080/"
        },
        "id": "2_KWVBjch90J",
        "outputId": "40cbd105-bc99-484f-e23f-c1ebe3df1454"
      },
      "outputs": [
        {
          "name": "stdout",
          "output_type": "stream",
          "text": [
            "What is your age? 30\n",
            "My age is 30\n"
          ]
        }
      ],
      "source": [
        "age = input('What is your age? ')\n",
        "print('My age is', age)"
      ]
    },
    {
      "cell_type": "code",
      "execution_count": null,
      "metadata": {
        "colab": {
          "base_uri": "https://localhost:8080/"
        },
        "id": "K7KWNp06h93d",
        "outputId": "964f17f5-2862-42e4-dfc0-bc652795b921"
      },
      "outputs": [
        {
          "name": "stdout",
          "output_type": "stream",
          "text": [
            "What is your age? 30\n",
            "My age is 30 and father age is 60\n"
          ]
        }
      ],
      "source": [
        "# father's age\n",
        "\n",
        "age = input('What is your age? ')\n",
        "print('My age is', age, 'and father age is',int(age)+30)"
      ]
    },
    {
      "cell_type": "code",
      "execution_count": null,
      "metadata": {
        "colab": {
          "base_uri": "https://localhost:8080/"
        },
        "id": "cpy5V9sZh965",
        "outputId": "ab706a54-bd11-4468-93e0-5236760a2f71"
      },
      "outputs": [
        {
          "name": "stdout",
          "output_type": "stream",
          "text": [
            "What is your age? 25\n",
            "My age is 25 and father age is 55\n"
          ]
        }
      ],
      "source": [
        "## the same code with the different way\n",
        "\n",
        "age = int(input('What is your age? '))\n",
        "print('My age is', age, 'and father age is',age+30)"
      ]
    },
    {
      "cell_type": "markdown",
      "metadata": {
        "id": "58ow4Z7emPjF"
      },
      "source": [
        "# Concatenate String values"
      ]
    },
    {
      "cell_type": "code",
      "execution_count": null,
      "metadata": {
        "colab": {
          "base_uri": "https://localhost:8080/"
        },
        "id": "42Wun74Hh99l",
        "outputId": "fa0abd27-dfb2-4753-f76c-ab9fcc5b5292"
      },
      "outputs": [
        {
          "name": "stdout",
          "output_type": "stream",
          "text": [
            "Enter your firstname Sanket\n",
            "Enter you lastname Shah\n",
            "My full name is Sanket Shah\n"
          ]
        }
      ],
      "source": [
        "first_Name =input('Enter your firstname ')\n",
        "last_Name = input('Enter you lastname ')\n",
        "print('My full name is',first_Name,last_Name)"
      ]
    },
    {
      "cell_type": "markdown",
      "metadata": {
        "id": "PK1Hn2zJrjn8"
      },
      "source": [
        "# Conditional Statements :-\n",
        "if .. else\n",
        "\n",
        "multiple if else\n"
      ]
    },
    {
      "cell_type": "code",
      "execution_count": null,
      "metadata": {
        "colab": {
          "base_uri": "https://localhost:8080/"
        },
        "id": "zVcMeNeXh-DD",
        "outputId": "461f34a5-32db-4bd6-d8b8-1ceb7c840be3"
      },
      "outputs": [
        {
          "name": "stdout",
          "output_type": "stream",
          "text": [
            "What is your age 30\n",
            "You need to pay for the medicine unless if you have medical exemption proof\n"
          ]
        }
      ],
      "source": [
        "# if .. else\n",
        "\n",
        "age=int(input('What is your age '))\n",
        "if age>=60 :\n",
        "  print('You are exempt from paying for the medicine' )\n",
        "else:\n",
        "  print('You need to pay for the medicine unless if you have medical exemption proof')"
      ]
    },
    {
      "cell_type": "code",
      "execution_count": null,
      "metadata": {
        "colab": {
          "base_uri": "https://localhost:8080/"
        },
        "id": "y2wZoxjmh-GG",
        "outputId": "ed89728a-ea3f-41cc-ea68-0fa81c9e4046"
      },
      "outputs": [
        {
          "name": "stdout",
          "output_type": "stream",
          "text": [
            "What is your age 60\n",
            "Senior Citizen\n"
          ]
        }
      ],
      "source": [
        "# multiple if ... else\n",
        "\n",
        "age=int(input('What is your age '))\n",
        "if age>=60 :\n",
        "  print('Senior Citizen')\n",
        "elif age<=12:\n",
        "  print('You are kid')\n",
        "elif age>12 and age<20:\n",
        "  print('You are teenage')\n",
        "else:\n",
        "  print('You are Adults')"
      ]
    },
    {
      "cell_type": "markdown",
      "metadata": {
        "id": "Ql4M0B8Bor0s"
      },
      "source": [
        "# **# Task:-**\n",
        "\n",
        "Calculate total salary by adding basic pay and ta.\n",
        "\n",
        "Accept user input of float type\n"
      ]
    },
    {
      "cell_type": "code",
      "execution_count": null,
      "metadata": {
        "colab": {
          "base_uri": "https://localhost:8080/"
        },
        "id": "K89-Nt70h-AJ",
        "outputId": "2541e9ab-a938-4047-feb7-608628454fa0"
      },
      "outputs": [
        {
          "name": "stdout",
          "output_type": "stream",
          "text": [
            "Enter your Basic pay: 2553.25\n",
            "Enter your Travel allowence: 512.36\n",
            "Your total salary is: 3065.61\n"
          ]
        }
      ],
      "source": [
        "basic_pay = float(input('Enter your Basic pay: '))\n",
        "ta = float(input('Enter your Travel allowence: '))\n",
        "total_salary = basic_pay + ta\n",
        "print('Your total salary is:',total_salary)"
      ]
    },
    {
      "cell_type": "code",
      "execution_count": null,
      "metadata": {
        "id": "A4XjmoRWEpJn"
      },
      "outputs": [],
      "source": []
    },
    {
      "cell_type": "markdown",
      "metadata": {
        "id": "3iy0Z9KWynwa"
      },
      "source": [
        "# **# Assignment :-**\n",
        "\n",
        "1.   Marks and Display Grades\n",
        "\n",
        "![image.png](data:image/png;base64,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)\n",
        "      \n",
        "2.   BMI Calculation\n",
        "\n",
        "![image.png](data:image/png;base64,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)\n",
        "\n",
        "\n",
        "![image.png](data:image/png;base64,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)\n"
      ]
    },
    {
      "cell_type": "code",
      "execution_count": null,
      "metadata": {
        "colab": {
          "base_uri": "https://localhost:8080/"
        },
        "collapsed": true,
        "id": "mEMCr2Oz1Q_L",
        "outputId": "dcd307ff-e15e-4abd-c6d9-ff4f88f35481"
      },
      "outputs": [
        {
          "name": "stdout",
          "output_type": "stream",
          "text": [
            "Enter the marks-1\n",
            "Enter valid marks ...\n"
          ]
        }
      ],
      "source": [
        "# Assignment 1 - Marks and Display Grades\n",
        "\n",
        "marks = int(input('Enter the marks'))\n",
        "if marks>=95 and marks<=100 :\n",
        "  print ('The grade points 10 and it is ' + 'Outstanding')\n",
        "elif marks >=85 and marks <=94 :\n",
        "  print('The grade points 9 and it is ' + 'Excellent')\n",
        "elif marks >=75 and marks <=84 :\n",
        "  print('The grade points 8 and it is ' + 'Very Good')\n",
        "elif marks >64 and marks <75 :\n",
        "  print('The grade points 7 and it is ' + 'Good')\n",
        "elif marks >54 and marks <65 :\n",
        "  print('The grade points 6 and it is ' + 'Above Average')\n",
        "elif marks >50 and marks <55 :\n",
        "  print('The grade points 5 and it is ' + 'Average')\n",
        "elif marks == 50 :\n",
        "  print('The grade points 4 and it is ' + 'Pass')\n",
        "elif marks>=0 and marks<50 :\n",
        "  print('The grade points 0 and it is ' + 'Fail')\n",
        "else :\n",
        "  print('Enter valid marks ...')"
      ]
    },
    {
      "cell_type": "code",
      "execution_count": null,
      "metadata": {
        "colab": {
          "base_uri": "https://localhost:8080/"
        },
        "collapsed": true,
        "id": "dDcxSWMO1RKM",
        "outputId": "311b35a0-54fc-4680-d74e-9d074de2180b"
      },
      "outputs": [
        {
          "name": "stdout",
          "output_type": "stream",
          "text": [
            "Enter weight in kilogram -20\n",
            "Enter height in meters -1\n",
            "Your BMI is: -20.0 and you are Underweight\n"
          ]
        }
      ],
      "source": [
        "# Assignment - 2 BMI Calculation\n",
        "Weight = float(input('Enter weight in kilogram '))\n",
        "Height = float(input('Enter height in meters '))\n",
        "BMI = Weight/(Height**2)\n",
        "if BMI<= 18.4 :\n",
        "  print('Your BMI is:',BMI, 'and you are Underweight')\n",
        "elif BMI>18.4 and BMI<25 :\n",
        "  print('Your BMI is:', BMI, 'and it is Normal')\n",
        "elif BMI>=25 and BMI<40 :\n",
        "  print('Your BMI is:', BMI, 'and you are Overweight')\n",
        "elif BMI >=40 :\n",
        "  print('Your BMI is:', BMI, 'and you are Obese')\n",
        "# else :\n",
        "#   print('Your BMI is:', BMI,'Enter valid Weight and Height')\n",
        "\n"
      ]
    },
    {
      "cell_type": "markdown",
      "metadata": {
        "id": "Pn2Wify10-Xs"
      },
      "source": [
        "# **# Loops :-**\n",
        "\n",
        "1.   for loop\n",
        "2.   while loop\n",
        "\n",
        "for the repeated tasks, we use loops\n",
        "\n",
        "start, end, step (increment, decrement)\n",
        "\n",
        "range()\n",
        "\n",
        "start default 0\n",
        "\n",
        "end value (- 1)\n",
        "\n",
        "Note:- In python do ... while loop is not available.\n",
        "\n"
      ]
    },
    {
      "cell_type": "code",
      "execution_count": null,
      "metadata": {
        "colab": {
          "base_uri": "https://localhost:8080/"
        },
        "collapsed": true,
        "id": "5orgI_REEpMc",
        "outputId": "436a217b-c06d-474d-9c6b-320cbb90c5b9"
      },
      "outputs": [
        {
          "name": "stdout",
          "output_type": "stream",
          "text": [
            "2\n",
            "3\n",
            "4\n",
            "5\n",
            "6\n",
            "7\n",
            "8\n",
            "9\n"
          ]
        }
      ],
      "source": [
        "# for loop\n",
        "\n",
        "for i in range (2,10,1): # Or you can write (2,10) --> The default step value is 1\n",
        "  # starting 2, ending with 9, step value increase by 1\n",
        "  # indents\n",
        "  print(i)"
      ]
    },
    {
      "cell_type": "code",
      "execution_count": null,
      "metadata": {
        "colab": {
          "base_uri": "https://localhost:8080/"
        },
        "id": "fSbISkxM1Rko",
        "outputId": "78e8145e-3017-41db-c2db-e0e7ac3115c5"
      },
      "outputs": [
        {
          "name": "stdout",
          "output_type": "stream",
          "text": [
            "0\n",
            "2\n",
            "4\n",
            "6\n",
            "8\n",
            "10\n",
            "12\n",
            "14\n",
            "16\n",
            "18\n"
          ]
        }
      ],
      "source": [
        "# generate even numbers\n",
        "for i in range(0,20,2):\n",
        "  print(i)"
      ]
    },
    {
      "cell_type": "code",
      "execution_count": null,
      "metadata": {
        "colab": {
          "base_uri": "https://localhost:8080/"
        },
        "id": "Mmzxe33j3xdM",
        "outputId": "f139dcde-67f3-4625-bfa7-1fe0706dc493"
      },
      "outputs": [
        {
          "name": "stdout",
          "output_type": "stream",
          "text": [
            "13\n",
            "17\n",
            "21\n",
            "25\n",
            "29\n"
          ]
        }
      ],
      "source": [
        "for i in range (13,30,4):\n",
        " print(i)"
      ]
    },
    {
      "cell_type": "markdown",
      "metadata": {
        "id": "IoP08WQw4k5H"
      },
      "source": [
        "## **Task :-**\n",
        "\n",
        "1.   Print odd numbers from 50 to 70"
      ]
    },
    {
      "cell_type": "code",
      "execution_count": null,
      "metadata": {
        "colab": {
          "base_uri": "https://localhost:8080/"
        },
        "id": "E_RWCFaa3xgE",
        "outputId": "438c7ab2-edd4-4bf6-896e-f95a5a21e3b2"
      },
      "outputs": [
        {
          "name": "stdout",
          "output_type": "stream",
          "text": [
            "51\n",
            "53\n",
            "55\n",
            "57\n",
            "59\n",
            "61\n",
            "63\n",
            "65\n",
            "67\n",
            "69\n"
          ]
        }
      ],
      "source": [
        "# Task 1 - print odd number from 50 to 70\n",
        "for i in range(51,70,2):\n",
        "  print(i)"
      ]
    },
    {
      "cell_type": "code",
      "execution_count": null,
      "metadata": {
        "colab": {
          "base_uri": "https://localhost:8080/"
        },
        "id": "hNisu6Pv3xi6",
        "outputId": "eeb7be03-ee61-457b-b73c-ed360d1959f7"
      },
      "outputs": [
        {
          "name": "stdout",
          "output_type": "stream",
          "text": [
            "0\n",
            "1\n",
            "2\n",
            "3\n",
            "4\n",
            "5\n",
            "6\n",
            "7\n",
            "8\n",
            "9\n"
          ]
        }
      ],
      "source": [
        "for b in range(10): # the default start value is considered as 0 and the default step value is 1\n",
        "  print(b)"
      ]
    },
    {
      "cell_type": "code",
      "execution_count": null,
      "metadata": {
        "colab": {
          "base_uri": "https://localhost:8080/"
        },
        "id": "nW-hhcM_3xld",
        "outputId": "23313e3a-c947-41c3-a425-c786b130b9bf"
      },
      "outputs": [
        {
          "name": "stdout",
          "output_type": "stream",
          "text": [
            "0 1 2 3 4 5 6 7 8 9 10 11 12 13 14 15 16 17 18 19 20 21 22 23 24 25 26 27 28 29 30 31 32 33 34 35 36 37 38 39 40 41 42 43 44 45 46 47 48 49 "
          ]
        }
      ],
      "source": [
        "for x in range(50):\n",
        "  print(x,end=\" \")\n"
      ]
    },
    {
      "cell_type": "code",
      "execution_count": null,
      "metadata": {
        "colab": {
          "base_uri": "https://localhost:8080/"
        },
        "id": "JNY3uY243xoC",
        "outputId": "2bbc0a74-4cdd-4ffe-823d-61aa260ce75a"
      },
      "outputs": [
        {
          "name": "stdout",
          "output_type": "stream",
          "text": [
            "100 95 90 85 80 75 "
          ]
        }
      ],
      "source": [
        "# decrement\n",
        "for x in range(100,70,-5):\n",
        "  print(x,end=\" \")"
      ]
    },
    {
      "cell_type": "code",
      "execution_count": null,
      "metadata": {
        "colab": {
          "base_uri": "https://localhost:8080/"
        },
        "id": "IwSVUlpe3xrE",
        "outputId": "a121d7b3-3693-43cf-bf57-93cf71ec12de"
      },
      "outputs": [
        {
          "name": "stdout",
          "output_type": "stream",
          "text": [
            "1 Welcome\n",
            "2 Welcome\n",
            "3 Welcome\n",
            "4 Welcome\n",
            "5 Welcome\n"
          ]
        }
      ],
      "source": [
        "for i in range(5): # Or for i in range(1,6):\n",
        "  print(i+1,\"Welcome\") # print(i,\"Welcome\")"
      ]
    },
    {
      "cell_type": "code",
      "execution_count": null,
      "metadata": {
        "colab": {
          "base_uri": "https://localhost:8080/"
        },
        "collapsed": true,
        "id": "Z4jETtOi3xur",
        "outputId": "0f5bdf15-ab6a-4de8-ff01-2b4bb9c027bf"
      },
      "outputs": [
        {
          "name": "stdout",
          "output_type": "stream",
          "text": [
            "What is your name ...sam\n",
            "Hello sam\n",
            "What is your name ...Tan\n",
            "Hello Tan\n",
            "What is your name ...Can\n",
            "Hello Can\n"
          ]
        }
      ],
      "source": [
        "# Get the name of the 3 students\n",
        "for i in range(3): # counts 0,1,2\n",
        "  name=input(\"What is your name ...\")\n",
        "  print(\"Hello\", name)"
      ]
    },
    {
      "cell_type": "markdown",
      "metadata": {
        "id": "_FbE5lnR_en0"
      },
      "source": [
        "# **else :-**\n",
        "This is executed at last. Once iterations are over."
      ]
    },
    {
      "cell_type": "code",
      "execution_count": null,
      "metadata": {
        "colab": {
          "base_uri": "https://localhost:8080/"
        },
        "id": "7BG6fdbB3xx8",
        "outputId": "3005aabb-e741-4f72-9374-adf4d5873612"
      },
      "outputs": [
        {
          "name": "stdout",
          "output_type": "stream",
          "text": [
            "=======================\n",
            "     ABC Unversity     \n",
            "=======================\n",
            "Enter number of students you want to register today 2\n",
            "Enter registration number5001\n",
            "\n",
            "\n",
            "What is your name ...san\n",
            "Hello san\n",
            "Your registration number is 5001\n",
            "\n",
            "\n",
            "What is your name ...mik\n",
            "Hello mik\n",
            "Your registration number is 5002\n",
            "\n",
            "\n",
            "Sorry !!! Admission is full ...\n"
          ]
        }
      ],
      "source": [
        "# Input number of students register and\n",
        "# Display their registration number by giving input as well.\n",
        "\n",
        "print(\"=======================\")\n",
        "print(\"     ABC Unversity     \")\n",
        "print(\"=======================\")\n",
        "\n",
        "n=int(input(\"Enter number of students you want to register today \"))\n",
        "registration_number = int(input('Enter registration number'))\n",
        "print(\"\\n\")\n",
        "\n",
        "for i in range(n):\n",
        "  name=input(\"What is your name ...\")\n",
        "  print(\"Hello\", name)\n",
        "  print(\"Your registration number is\",(registration_number +i))\n",
        "  print(\"\\n\")\n",
        "else :\n",
        "  print(\"Sorry !!! Admission is full ...\")"
      ]
    },
    {
      "cell_type": "markdown",
      "metadata": {
        "id": "JBLKlE73cUrf"
      },
      "source": [
        "# **While loop**\n",
        "Initial or Start\n",
        "\n",
        "End\n",
        "\n",
        "Increment or decrement"
      ]
    },
    {
      "cell_type": "code",
      "execution_count": null,
      "metadata": {
        "colab": {
          "base_uri": "https://localhost:8080/"
        },
        "id": "EQPXzEhT3x01",
        "outputId": "e90a95f0-04bd-4834-95cd-b42a4ec1ddc2"
      },
      "outputs": [
        {
          "name": "stdout",
          "output_type": "stream",
          "text": [
            "5\n",
            "6\n",
            "7\n",
            "8\n",
            "9\n",
            "10\n"
          ]
        }
      ],
      "source": [
        "i =5\n",
        "while i<=10 :\n",
        "  print(i)\n",
        "  i =i+1 # OR i+ = 1"
      ]
    },
    {
      "cell_type": "code",
      "execution_count": null,
      "metadata": {
        "colab": {
          "base_uri": "https://localhost:8080/"
        },
        "id": "TZ6Z0XgN951_",
        "outputId": "6fd4c741-82b1-4418-f713-58218374563d"
      },
      "outputs": [
        {
          "name": "stdout",
          "output_type": "stream",
          "text": [
            "30 32 34 36 38 40 42 44 46 48 50 "
          ]
        }
      ],
      "source": [
        "# Even number 30 to 50\n",
        "i =30\n",
        "while i<=50 :\n",
        "  print(i,end=\" \")\n",
        "  i+=2"
      ]
    },
    {
      "cell_type": "markdown",
      "metadata": {
        "id": "SfG2kybV_9aR"
      },
      "source": [
        "# While ... Loop Task :-\n",
        "\n",
        "1.   Print the numbers only divided by 5, starting from 30 to 0\n",
        "2.   Print user input even numbers in the while ... loop\n"
      ]
    },
    {
      "cell_type": "code",
      "execution_count": null,
      "metadata": {
        "colab": {
          "base_uri": "https://localhost:8080/"
        },
        "id": "Rcwdyr_K955b",
        "outputId": "67b668a0-eaf2-41de-9a64-c7816e2abcb7"
      },
      "outputs": [
        {
          "name": "stdout",
          "output_type": "stream",
          "text": [
            "30 25 20 15 10 5 0 "
          ]
        }
      ],
      "source": [
        "# Task 1\n",
        "\n",
        "i = 30\n",
        "while i>=0 :\n",
        "  print(i,end=\" \")\n",
        "  i-=5"
      ]
    },
    {
      "cell_type": "code",
      "execution_count": null,
      "metadata": {
        "colab": {
          "base_uri": "https://localhost:8080/"
        },
        "id": "5ZG_6KKt958z",
        "outputId": "b96c7478-544b-451b-fd36-4c86d317564a"
      },
      "outputs": [
        {
          "output_type": "stream",
          "name": "stdout",
          "text": [
            "Enter the last number: 8\n",
            "0 2 4 6 8 "
          ]
        }
      ],
      "source": [
        "# Task 2\n",
        "n = int(input(\"Enter the last number: \"))\n",
        "i = 0\n",
        "while(i<=n):\n",
        "  print(i,end=\" \")\n",
        "  i+=2"
      ]
    },
    {
      "cell_type": "markdown",
      "source": [
        "# **Loop Assignment :-**\n",
        "\n",
        "1.   Multiplication Table: get user input, e.g., 3 X 1 = 3\n",
        "2.   Students Registration Program using the While ... Loop\n",
        "\n"
      ],
      "metadata": {
        "id": "Rb1RvTT5jej0"
      }
    },
    {
      "cell_type": "code",
      "execution_count": null,
      "metadata": {
        "id": "8KvJ0piF96AR",
        "colab": {
          "base_uri": "https://localhost:8080/"
        },
        "outputId": "d5f852c7-85af-4785-b774-586261d98540"
      },
      "outputs": [
        {
          "output_type": "stream",
          "name": "stdout",
          "text": [
            "Enter the number you for the multiplication table: 23\n",
            "23  X  1  = 23\n",
            "23  X  2  = 46\n",
            "23  X  3  = 69\n",
            "23  X  4  = 92\n",
            "23  X  5  = 115\n",
            "23  X  6  = 138\n",
            "23  X  7  = 161\n",
            "23  X  8  = 184\n",
            "23  X  9  = 207\n",
            "23  X  10  = 230\n"
          ]
        }
      ],
      "source": [
        "# Loop Assignment 1:-\n",
        "# Multiplication Table: get user input, e.g., 3 X 1 = 3\n",
        "\n",
        "number = int(input(\"Enter the number you for the multiplication table: \"))\n",
        "#mutiplication = 1\n",
        "for i in range (1,11) :\n",
        "  #multiplication = number * i\n",
        "  print(number, ' X ', i, ' =',number*i)\n"
      ]
    },
    {
      "cell_type": "code",
      "execution_count": null,
      "metadata": {
        "id": "ecTfZgvt96DI",
        "colab": {
          "base_uri": "https://localhost:8080/"
        },
        "outputId": "1edf767d-998e-4d9d-d2b8-1e61eb468b63"
      },
      "outputs": [
        {
          "output_type": "stream",
          "name": "stdout",
          "text": [
            "=======================\n",
            "     ABC Unversity     \n",
            "=======================\n",
            "Enter number of students you want to register today 2\n",
            "Enter registration number5000\n",
            "\n",
            "\n",
            "What is your name ...a\n",
            "Hello a\n",
            "Your registration number is 5000\n",
            "\n",
            "\n",
            "What is your name ...b\n",
            "Hello b\n",
            "Your registration number is 5001\n",
            "\n",
            "\n",
            "Sorry !!! Admission is full ...\n"
          ]
        }
      ],
      "source": [
        "# Loop Assignment 2:-\n",
        "# Students Registration Program using the While ... Loop\n",
        "\n",
        "print(\"=======================\")\n",
        "print(\"     ABC Unversity     \")\n",
        "print(\"=======================\")\n",
        "\n",
        "n= int(input(\"Enter number of students you want to register today \"))\n",
        "registration_number= int(input(\"Enter registration number\"))\n",
        "print('\\n')\n",
        "\n",
        "i = 0\n",
        "while i<n:\n",
        "  name=input(\"What is your name ...\")\n",
        "  print(\"Hello\", name)\n",
        "  print(\"Your registration number is\",(registration_number +i))\n",
        "  print(\"\\n\")\n",
        "  i+=1\n",
        "else :\n",
        "  print(\"Sorry !!! Admission is full ...\")\n"
      ]
    },
    {
      "cell_type": "markdown",
      "source": [
        "# **Strings :-**\n",
        "Sequence of characters\n",
        "\n",
        "Single quotes **OR** Double quotes **OR** Triple quotes\n"
      ],
      "metadata": {
        "id": "NqOF6AeMpaiW"
      }
    },
    {
      "cell_type": "code",
      "execution_count": null,
      "metadata": {
        "id": "6GID5Knl96Gd",
        "colab": {
          "base_uri": "https://localhost:8080/"
        },
        "outputId": "c38f259a-85fb-427c-ff58-36c77bcc8c1e"
      },
      "outputs": [
        {
          "output_type": "stream",
          "name": "stdout",
          "text": [
            "hello\n"
          ]
        }
      ],
      "source": [
        "# Single quote\n",
        "\n",
        "print('hello')"
      ]
    },
    {
      "cell_type": "code",
      "source": [
        "# Double quote\n",
        "\n",
        "print(\"Hello\")"
      ],
      "metadata": {
        "colab": {
          "base_uri": "https://localhost:8080/"
        },
        "id": "tgOI_VfTpZSy",
        "outputId": "082e3be3-4b3c-4c8b-b482-b98de6d3dcc5"
      },
      "execution_count": null,
      "outputs": [
        {
          "output_type": "stream",
          "name": "stdout",
          "text": [
            "Hello\n"
          ]
        }
      ]
    },
    {
      "cell_type": "code",
      "source": [
        "# Triple quote. Mainly use for the address\n",
        "# Multi line strings\n",
        "# Single or Double quotes - give three times\n",
        "\n",
        "print('''Ashley\n",
        "London\n",
        "United Kingdom''')"
      ],
      "metadata": {
        "colab": {
          "base_uri": "https://localhost:8080/"
        },
        "id": "NP1c4u8ppZVr",
        "outputId": "8ed7768e-cb68-4524-d9dc-e4fab43a8673"
      },
      "execution_count": null,
      "outputs": [
        {
          "output_type": "stream",
          "name": "stdout",
          "text": [
            "Ashley\n",
            "London\n",
            "United Kingdom\n"
          ]
        }
      ]
    },
    {
      "cell_type": "code",
      "source": [
        "# prompt: create string statement\n",
        "string1 = 'This is a single quoted string.'\n",
        "print(string1)"
      ],
      "metadata": {
        "colab": {
          "base_uri": "https://localhost:8080/"
        },
        "id": "03bcUN8kpZYa",
        "outputId": "1c6b1000-4d31-412e-bc23-ce652530e1de"
      },
      "execution_count": null,
      "outputs": [
        {
          "output_type": "stream",
          "name": "stdout",
          "text": [
            "This is a single quoted string.\n"
          ]
        }
      ]
    },
    {
      "cell_type": "code",
      "source": [
        "# Type - Datatypes of variables\n",
        "type(string1)"
      ],
      "metadata": {
        "colab": {
          "base_uri": "https://localhost:8080/"
        },
        "id": "UBqnHkyLpZbU",
        "outputId": "aca3bb13-6119-49aa-ca6c-aaf6cd32191e"
      },
      "execution_count": null,
      "outputs": [
        {
          "output_type": "execute_result",
          "data": {
            "text/plain": [
              "str"
            ]
          },
          "metadata": {},
          "execution_count": 13
        }
      ]
    },
    {
      "cell_type": "code",
      "source": [
        "sum =10\n",
        "type(sum)"
      ],
      "metadata": {
        "colab": {
          "base_uri": "https://localhost:8080/"
        },
        "id": "dt_NKRSfpZep",
        "outputId": "82a7fa40-dc21-4b7b-f7b1-8def23bb2239"
      },
      "execution_count": null,
      "outputs": [
        {
          "output_type": "execute_result",
          "data": {
            "text/plain": [
              "int"
            ]
          },
          "metadata": {},
          "execution_count": 14
        }
      ]
    },
    {
      "cell_type": "code",
      "source": [
        "sum = 10.34\n",
        "type(sum)"
      ],
      "metadata": {
        "colab": {
          "base_uri": "https://localhost:8080/"
        },
        "id": "mmcfWxcypZhn",
        "outputId": "f52342fe-b17c-45f1-ed25-7acbe374471a"
      },
      "execution_count": null,
      "outputs": [
        {
          "output_type": "execute_result",
          "data": {
            "text/plain": [
              "float"
            ]
          },
          "metadata": {},
          "execution_count": 15
        }
      ]
    },
    {
      "cell_type": "markdown",
      "source": [
        "# Index Concept in String:-\n",
        "It is also know as subscript\n",
        "\n",
        "number given to every character. It starts from 0 to n-1\n",
        "\n",
        "Indexes represt by []\n",
        "\n",
        "# Types of indexes:-\n",
        "\n",
        "*   Positive index - begins with 0\n",
        "*   negative index - which is last one is called -1\n",
        "\n",
        "each character has positive and negative index as well.\n",
        "\n"
      ],
      "metadata": {
        "id": "AWTWSFRmt8Zq"
      }
    },
    {
      "cell_type": "code",
      "source": [
        "st = 'This is a single quoted string.'\n",
        "st[5]"
      ],
      "metadata": {
        "colab": {
          "base_uri": "https://localhost:8080/",
          "height": 36
        },
        "id": "IswRY8zbtu5J",
        "outputId": "d2cccb11-e21c-4550-82d6-89ed818272dc"
      },
      "execution_count": null,
      "outputs": [
        {
          "output_type": "execute_result",
          "data": {
            "text/plain": [
              "'i'"
            ],
            "application/vnd.google.colaboratory.intrinsic+json": {
              "type": "string"
            }
          },
          "metadata": {},
          "execution_count": 3
        }
      ]
    },
    {
      "cell_type": "code",
      "source": [
        "st[-5]"
      ],
      "metadata": {
        "colab": {
          "base_uri": "https://localhost:8080/",
          "height": 36
        },
        "id": "zWPQj3RFtu8u",
        "outputId": "e080824a-67c9-4058-8544-b9f9b8c1b6f3"
      },
      "execution_count": null,
      "outputs": [
        {
          "output_type": "execute_result",
          "data": {
            "text/plain": [
              "'r'"
            ],
            "application/vnd.google.colaboratory.intrinsic+json": {
              "type": "string"
            }
          },
          "metadata": {},
          "execution_count": 4
        }
      ]
    },
    {
      "cell_type": "markdown",
      "source": [
        "# Immutable concept in String -\n",
        "can not change the value"
      ],
      "metadata": {
        "id": "SBBet8qAAT89"
      }
    },
    {
      "cell_type": "code",
      "source": [
        "# can not change the character - TypeError: 'str' object does not support item assignment\n",
        "\n",
        "st[-5]='R'"
      ],
      "metadata": {
        "colab": {
          "base_uri": "https://localhost:8080/",
          "height": 164
        },
        "id": "bPYS1CcmtvBY",
        "outputId": "e569f89d-13ff-4f7e-be79-e098e8d9001b"
      },
      "execution_count": null,
      "outputs": [
        {
          "output_type": "error",
          "ename": "TypeError",
          "evalue": "'str' object does not support item assignment",
          "traceback": [
            "\u001b[0;31m---------------------------------------------------------------------------\u001b[0m",
            "\u001b[0;31mTypeError\u001b[0m                                 Traceback (most recent call last)",
            "\u001b[0;32m/tmp/ipython-input-5-2706916042.py\u001b[0m in \u001b[0;36m<cell line: 0>\u001b[0;34m()\u001b[0m\n\u001b[1;32m      1\u001b[0m \u001b[0;31m# can not change the character\u001b[0m\u001b[0;34m\u001b[0m\u001b[0;34m\u001b[0m\u001b[0m\n\u001b[0;32m----> 2\u001b[0;31m \u001b[0mst\u001b[0m\u001b[0;34m[\u001b[0m\u001b[0;34m-\u001b[0m\u001b[0;36m5\u001b[0m\u001b[0;34m]\u001b[0m\u001b[0;34m=\u001b[0m\u001b[0;34m'R'\u001b[0m\u001b[0;34m\u001b[0m\u001b[0;34m\u001b[0m\u001b[0m\n\u001b[0m",
            "\u001b[0;31mTypeError\u001b[0m: 'str' object does not support item assignment"
          ]
        }
      ]
    },
    {
      "cell_type": "code",
      "source": [
        "st = \"This is a double quoted stRing.\"\n",
        "print(st)"
      ],
      "metadata": {
        "colab": {
          "base_uri": "https://localhost:8080/"
        },
        "id": "CRQ-Z5H0tvFH",
        "outputId": "80c1f523-3375-4270-d556-d8ea87ffa6c0"
      },
      "execution_count": null,
      "outputs": [
        {
          "output_type": "stream",
          "name": "stdout",
          "text": [
            "This is a double quoted stRing.\n"
          ]
        }
      ]
    },
    {
      "cell_type": "markdown",
      "source": [
        "# Slicing in String\n",
        "\n",
        "colon :\n",
        "\n",
        "Positive or negative index"
      ],
      "metadata": {
        "id": "8uuOaEtgBvME"
      }
    },
    {
      "cell_type": "code",
      "source": [
        "# Positive index\n",
        "st[2:4]"
      ],
      "metadata": {
        "colab": {
          "base_uri": "https://localhost:8080/",
          "height": 36
        },
        "id": "cL7iT9ZztvIW",
        "outputId": "2455b458-8243-4031-a40a-3774b70e4a8f"
      },
      "execution_count": null,
      "outputs": [
        {
          "output_type": "execute_result",
          "data": {
            "text/plain": [
              "'is'"
            ],
            "application/vnd.google.colaboratory.intrinsic+json": {
              "type": "string"
            }
          },
          "metadata": {},
          "execution_count": 8
        }
      ]
    },
    {
      "cell_type": "code",
      "source": [
        "st[10:16]"
      ],
      "metadata": {
        "colab": {
          "base_uri": "https://localhost:8080/",
          "height": 36
        },
        "id": "R76FpAAMtvLN",
        "outputId": "ad82cf87-c901-4709-e984-fa72989cbf91"
      },
      "execution_count": null,
      "outputs": [
        {
          "output_type": "execute_result",
          "data": {
            "text/plain": [
              "'double'"
            ],
            "application/vnd.google.colaboratory.intrinsic+json": {
              "type": "string"
            }
          },
          "metadata": {},
          "execution_count": 10
        }
      ]
    },
    {
      "cell_type": "code",
      "source": [
        "# negative index print double\n",
        "st[-21:-15]"
      ],
      "metadata": {
        "colab": {
          "base_uri": "https://localhost:8080/",
          "height": 36
        },
        "id": "8ilU0cgmtvN8",
        "outputId": "6d1d6f1f-721b-45ff-fca5-0a87fd38182f"
      },
      "execution_count": null,
      "outputs": [
        {
          "output_type": "execute_result",
          "data": {
            "text/plain": [
              "'double'"
            ],
            "application/vnd.google.colaboratory.intrinsic+json": {
              "type": "string"
            }
          },
          "metadata": {},
          "execution_count": 17
        }
      ]
    },
    {
      "cell_type": "code",
      "source": [
        "st[:4] # starts from 0 till end(3)"
      ],
      "metadata": {
        "colab": {
          "base_uri": "https://localhost:8080/",
          "height": 36
        },
        "id": "lt0H4bdZtvS0",
        "outputId": "d3646ba0-9f5f-4813-f0c6-337aec6d91f8"
      },
      "execution_count": null,
      "outputs": [
        {
          "output_type": "execute_result",
          "data": {
            "text/plain": [
              "'This'"
            ],
            "application/vnd.google.colaboratory.intrinsic+json": {
              "type": "string"
            }
          },
          "metadata": {},
          "execution_count": 19
        }
      ]
    },
    {
      "cell_type": "code",
      "source": [
        "st[:]"
      ],
      "metadata": {
        "colab": {
          "base_uri": "https://localhost:8080/",
          "height": 36
        },
        "id": "QUS6OrS5EjJU",
        "outputId": "6f5fe112-d237-49ae-e807-e51477c0a7d6"
      },
      "execution_count": null,
      "outputs": [
        {
          "output_type": "execute_result",
          "data": {
            "text/plain": [
              "'This is a double quoted stRing.'"
            ],
            "application/vnd.google.colaboratory.intrinsic+json": {
              "type": "string"
            }
          },
          "metadata": {},
          "execution_count": 24
        }
      ]
    },
    {
      "cell_type": "code",
      "source": [
        "st[::2]"
      ],
      "metadata": {
        "colab": {
          "base_uri": "https://localhost:8080/",
          "height": 36
        },
        "id": "-dtW6sdxEnbE",
        "outputId": "950b5ea8-9c91-41ef-9abd-e5fc7189a5c2"
      },
      "execution_count": null,
      "outputs": [
        {
          "output_type": "execute_result",
          "data": {
            "text/plain": [
              "'Ti sadul utdsRn.'"
            ],
            "application/vnd.google.colaboratory.intrinsic+json": {
              "type": "string"
            }
          },
          "metadata": {},
          "execution_count": 25
        }
      ]
    },
    {
      "cell_type": "code",
      "execution_count": null,
      "metadata": {
        "id": "GsizAmM-3x3-",
        "colab": {
          "base_uri": "https://localhost:8080/",
          "height": 36
        },
        "outputId": "b56d5773-f4b7-4086-af7c-7cb8bc8ec906"
      },
      "outputs": [
        {
          "output_type": "execute_result",
          "data": {
            "text/plain": [
              "'stRing.'"
            ],
            "application/vnd.google.colaboratory.intrinsic+json": {
              "type": "string"
            }
          },
          "metadata": {},
          "execution_count": 23
        }
      ],
      "source": [
        "st[-7:]"
      ]
    },
    {
      "cell_type": "code",
      "source": [
        "st[::-1] # Reverse print"
      ],
      "metadata": {
        "colab": {
          "base_uri": "https://localhost:8080/",
          "height": 36
        },
        "id": "OWfGp8IBFE30",
        "outputId": "45fb19c0-b5b7-403f-d14e-22674324532f"
      },
      "execution_count": null,
      "outputs": [
        {
          "output_type": "execute_result",
          "data": {
            "text/plain": [
              "'.gniRts detouq elbuod a si sihT'"
            ],
            "application/vnd.google.colaboratory.intrinsic+json": {
              "type": "string"
            }
          },
          "metadata": {},
          "execution_count": 27
        }
      ]
    },
    {
      "cell_type": "markdown",
      "source": [
        "# Built-in function in String - predefined with Python\n",
        "\n",
        "print(), input(), range(), int(), float(), bool(), str(), type()"
      ],
      "metadata": {
        "id": "Ubj0oYe0FT7s"
      }
    },
    {
      "cell_type": "code",
      "source": [
        "st.upper()"
      ],
      "metadata": {
        "colab": {
          "base_uri": "https://localhost:8080/",
          "height": 36
        },
        "id": "W69yWpLIFFnJ",
        "outputId": "b23a7435-9102-4849-9bd0-1b732024515d"
      },
      "execution_count": null,
      "outputs": [
        {
          "output_type": "execute_result",
          "data": {
            "text/plain": [
              "'THIS IS A DOUBLE QUOTED STRING.'"
            ],
            "application/vnd.google.colaboratory.intrinsic+json": {
              "type": "string"
            }
          },
          "metadata": {},
          "execution_count": 29
        }
      ]
    },
    {
      "cell_type": "code",
      "source": [
        "st.lower()"
      ],
      "metadata": {
        "colab": {
          "base_uri": "https://localhost:8080/",
          "height": 36
        },
        "id": "9wGK1Hn8FFqv",
        "outputId": "cdfc52f9-02e1-4b78-b180-629e7106b7b4"
      },
      "execution_count": null,
      "outputs": [
        {
          "output_type": "execute_result",
          "data": {
            "text/plain": [
              "'this is a double quoted string.'"
            ],
            "application/vnd.google.colaboratory.intrinsic+json": {
              "type": "string"
            }
          },
          "metadata": {},
          "execution_count": 30
        }
      ]
    },
    {
      "cell_type": "code",
      "source": [
        "st.capitalize()"
      ],
      "metadata": {
        "colab": {
          "base_uri": "https://localhost:8080/",
          "height": 36
        },
        "id": "TPQe8JZ4FFuG",
        "outputId": "35d6cc33-a743-4668-d9e8-0cb620ef7f74"
      },
      "execution_count": null,
      "outputs": [
        {
          "output_type": "execute_result",
          "data": {
            "text/plain": [
              "'This is a double quoted string.'"
            ],
            "application/vnd.google.colaboratory.intrinsic+json": {
              "type": "string"
            }
          },
          "metadata": {},
          "execution_count": 31
        }
      ]
    },
    {
      "cell_type": "code",
      "source": [
        "# count() - Count occurrences of a value\n",
        "st1 ='this is a double quoted double string double.'\n",
        "print(st1.count('double'))"
      ],
      "metadata": {
        "colab": {
          "base_uri": "https://localhost:8080/"
        },
        "id": "MuXN8lYUFFxY",
        "outputId": "24e2704e-d380-41f9-aa87-6a8ae41b694a"
      },
      "execution_count": null,
      "outputs": [
        {
          "output_type": "stream",
          "name": "stdout",
          "text": [
            "3\n"
          ]
        }
      ]
    },
    {
      "cell_type": "code",
      "source": [
        "# center() - Center align the string\n",
        "title = \"Python\"\n",
        "print(title.center(20))\n",
        "print(title.center(20, \"-\"))\n"
      ],
      "metadata": {
        "colab": {
          "base_uri": "https://localhost:8080/"
        },
        "id": "oIIK-ogxFF0v",
        "outputId": "6c3083bc-e066-40c4-af45-c3326de344e4"
      },
      "execution_count": null,
      "outputs": [
        {
          "output_type": "stream",
          "name": "stdout",
          "text": [
            "       Python       \n",
            "-------Python-------\n"
          ]
        }
      ]
    },
    {
      "cell_type": "markdown",
      "source": [
        "# **LIST :-**\n",
        "\n",
        "*   Collection of items of various data types\n",
        "*   Common name\n",
        "*   Square brackets\n",
        "*   Mutable - able to make change the list\n",
        "\n"
      ],
      "metadata": {
        "id": "ckkTZoaPJuEj"
      }
    },
    {
      "cell_type": "code",
      "source": [
        "emp =['Bhanu','31',53000,1.8,True]\n",
        "emp"
      ],
      "metadata": {
        "colab": {
          "base_uri": "https://localhost:8080/"
        },
        "id": "Fs8bUGeKFF3u",
        "outputId": "3aa4f6b0-70e4-4e14-9652-cca517d80aee"
      },
      "execution_count": null,
      "outputs": [
        {
          "output_type": "execute_result",
          "data": {
            "text/plain": [
              "['Bhanu', '31', 53000, 1.8, True]"
            ]
          },
          "metadata": {},
          "execution_count": 54
        }
      ]
    },
    {
      "cell_type": "code",
      "source": [
        "emp[0]"
      ],
      "metadata": {
        "colab": {
          "base_uri": "https://localhost:8080/",
          "height": 36
        },
        "id": "U7p__aF3Kgh-",
        "outputId": "60a12bdf-774b-4321-a8a0-c58c598c1357"
      },
      "execution_count": null,
      "outputs": [
        {
          "output_type": "execute_result",
          "data": {
            "text/plain": [
              "'Bhanu'"
            ],
            "application/vnd.google.colaboratory.intrinsic+json": {
              "type": "string"
            }
          },
          "metadata": {},
          "execution_count": 55
        }
      ]
    },
    {
      "cell_type": "code",
      "source": [
        "emp[3]"
      ],
      "metadata": {
        "colab": {
          "base_uri": "https://localhost:8080/"
        },
        "id": "iJZ-sAtwFF65",
        "outputId": "0a946749-f2a9-4324-ec07-7859add720ee"
      },
      "execution_count": null,
      "outputs": [
        {
          "output_type": "execute_result",
          "data": {
            "text/plain": [
              "1.8"
            ]
          },
          "metadata": {},
          "execution_count": 56
        }
      ]
    },
    {
      "cell_type": "code",
      "source": [
        "# mutable\n",
        "emp[4]= 1.85\n",
        "emp[4]"
      ],
      "metadata": {
        "colab": {
          "base_uri": "https://localhost:8080/"
        },
        "id": "7ND07xr6FF9_",
        "outputId": "618aba5e-53ea-4ef5-ed5b-b28402a84ee3"
      },
      "execution_count": null,
      "outputs": [
        {
          "output_type": "execute_result",
          "data": {
            "text/plain": [
              "1.85"
            ]
          },
          "metadata": {},
          "execution_count": 58
        }
      ]
    },
    {
      "cell_type": "code",
      "source": [
        "# slicing\n",
        "emp[0:3]"
      ],
      "metadata": {
        "colab": {
          "base_uri": "https://localhost:8080/"
        },
        "id": "eSg-mZ10FGBX",
        "outputId": "8c8ff2dd-abde-48f2-8e6b-609bf20441ff"
      },
      "execution_count": null,
      "outputs": [
        {
          "output_type": "execute_result",
          "data": {
            "text/plain": [
              "['Bhanu', '31', 53000]"
            ]
          },
          "metadata": {},
          "execution_count": 59
        }
      ]
    },
    {
      "cell_type": "markdown",
      "source": [
        "# Built in functions in List"
      ],
      "metadata": {
        "id": "vITdGJXDRnjf"
      }
    },
    {
      "cell_type": "code",
      "source": [
        "# append() add the data at the end\n",
        "emp.append('Pratap')\n",
        "emp"
      ],
      "metadata": {
        "colab": {
          "base_uri": "https://localhost:8080/"
        },
        "id": "g-BZBl5SFGEC",
        "outputId": "482fe0df-b2f9-4e32-f625-1505bec501a3"
      },
      "execution_count": null,
      "outputs": [
        {
          "output_type": "execute_result",
          "data": {
            "text/plain": [
              "['Bhanu', '31', 53000, 1.8, 1.85, 'Pratap']"
            ]
          },
          "metadata": {},
          "execution_count": 60
        }
      ]
    },
    {
      "cell_type": "code",
      "source": [
        "emp.remove('Bhanu') # Remove the data\n",
        "emp"
      ],
      "metadata": {
        "colab": {
          "base_uri": "https://localhost:8080/"
        },
        "id": "S4D0j53yRhP2",
        "outputId": "318eab5d-c109-4ed2-92ac-de1c36b5133d"
      },
      "execution_count": null,
      "outputs": [
        {
          "output_type": "execute_result",
          "data": {
            "text/plain": [
              "['31', 53000, 1.8, 1.85, 'Pratap']"
            ]
          },
          "metadata": {},
          "execution_count": 61
        }
      ]
    },
    {
      "cell_type": "code",
      "source": [
        "emp.pop(3) # 3rd index data gets removed"
      ],
      "metadata": {
        "colab": {
          "base_uri": "https://localhost:8080/"
        },
        "id": "_iX0Y30pRhTM",
        "outputId": "8270b7dd-635e-4750-9c55-150d1d3ac68e"
      },
      "execution_count": null,
      "outputs": [
        {
          "output_type": "execute_result",
          "data": {
            "text/plain": [
              "1.85"
            ]
          },
          "metadata": {},
          "execution_count": 62
        }
      ]
    },
    {
      "cell_type": "code",
      "source": [
        "emp"
      ],
      "metadata": {
        "colab": {
          "base_uri": "https://localhost:8080/"
        },
        "id": "WkcxWPdURhWb",
        "outputId": "800c091b-3921-4d2c-a8f9-d92396574f54"
      },
      "execution_count": null,
      "outputs": [
        {
          "output_type": "execute_result",
          "data": {
            "text/plain": [
              "['31', 53000, 1.8, 'Pratap']"
            ]
          },
          "metadata": {},
          "execution_count": 63
        }
      ]
    },
    {
      "cell_type": "code",
      "source": [
        "emp[0]=29\n",
        "emp"
      ],
      "metadata": {
        "colab": {
          "base_uri": "https://localhost:8080/"
        },
        "id": "Z_60j5KhRhZb",
        "outputId": "9d8a7571-dbb2-438e-9649-908a5cc35a6c"
      },
      "execution_count": null,
      "outputs": [
        {
          "output_type": "execute_result",
          "data": {
            "text/plain": [
              "[29, 53000, 1.8, 'Pratap']"
            ]
          },
          "metadata": {},
          "execution_count": 65
        }
      ]
    },
    {
      "cell_type": "code",
      "source": [
        "emp.insert(3,1.9)\n",
        "emp"
      ],
      "metadata": {
        "colab": {
          "base_uri": "https://localhost:8080/"
        },
        "id": "4fQKVpD5Rhdh",
        "outputId": "85e92183-0e8e-40e9-99a6-385679476399"
      },
      "execution_count": null,
      "outputs": [
        {
          "output_type": "execute_result",
          "data": {
            "text/plain": [
              "[29, 53000, 1.8, 1.9, 'Pratap']"
            ]
          },
          "metadata": {},
          "execution_count": 66
        }
      ]
    },
    {
      "cell_type": "code",
      "source": [
        "type(emp)"
      ],
      "metadata": {
        "colab": {
          "base_uri": "https://localhost:8080/"
        },
        "id": "j9cS3Xd0Rhgw",
        "outputId": "647bcdc6-8d5a-4fdd-be26-57eee90740ff"
      },
      "execution_count": null,
      "outputs": [
        {
          "output_type": "execute_result",
          "data": {
            "text/plain": [
              "list"
            ]
          },
          "metadata": {},
          "execution_count": 67
        }
      ]
    },
    {
      "cell_type": "code",
      "source": [
        "# create empty list\n",
        "list()"
      ],
      "metadata": {
        "colab": {
          "base_uri": "https://localhost:8080/"
        },
        "id": "JQEjwM_ERhkE",
        "outputId": "209271db-baa5-4ff7-c89c-5ac6bf62b815"
      },
      "execution_count": null,
      "outputs": [
        {
          "output_type": "execute_result",
          "data": {
            "text/plain": [
              "[]"
            ]
          },
          "metadata": {},
          "execution_count": 68
        }
      ]
    },
    {
      "cell_type": "markdown",
      "source": [
        "# **Assignment:-**\n",
        "*   Create a list of 5 sportsperson - user input"
      ],
      "metadata": {
        "id": "3uhOYh6ITmAg"
      }
    },
    {
      "cell_type": "code",
      "source": [
        "sportsPerson = list()\n",
        "\n",
        "n=int(input(\"Enter how many sportspersons name you want to add it \"))\n",
        "#print(\"Enter the name of the sportsperson:\\n\")\n",
        "for i in range(n):\n",
        "  name =input('Enter the name of the sportsperon: ')\n",
        "  sportsPerson.append(name)\n",
        "print(\"\\n List of Sportspersons:\", sportsPerson)\n"
      ],
      "metadata": {
        "colab": {
          "base_uri": "https://localhost:8080/"
        },
        "id": "Kg3xtAGhRhnO",
        "outputId": "a7569345-bceb-4bed-9c03-b4911cf3bf73"
      },
      "execution_count": null,
      "outputs": [
        {
          "output_type": "stream",
          "name": "stdout",
          "text": [
            "Enter how many sportspersons name you want to add it 5\n",
            "Enter the name of the sportsperon: a\n",
            "Enter the name of the sportsperon: b\n",
            "Enter the name of the sportsperon: c\n",
            "Enter the name of the sportsperon: d\n",
            "Enter the name of the sportsperon: e\n",
            "\n",
            " List of Sportspersons: ['a', 'b', 'c', 'd', 'e']\n"
          ]
        }
      ]
    },
    {
      "cell_type": "code",
      "source": [
        "# Create a list of user input even numbers\n",
        "\n",
        "even_number = list()\n",
        "count = int(input(\"How many numbers needed \"))\n",
        "while count>0:\n",
        "    num = int(input(\"Enter number \"))\n",
        "    if num%2 == 0 :\n",
        "      even_number.append(num)\n",
        "    count-=1\n",
        "print(\"\\n\")\n",
        "print(\"List of the Even numbers are\",even_number)"
      ],
      "metadata": {
        "id": "FGfcF4E8Rhrs",
        "colab": {
          "base_uri": "https://localhost:8080/"
        },
        "outputId": "27be7199-ff8b-4ae1-ec95-b3a9ba4165c4"
      },
      "execution_count": null,
      "outputs": [
        {
          "output_type": "stream",
          "name": "stdout",
          "text": [
            "How many numbers needed 3\n",
            "Enter number 14444\n",
            "Enter number 36542\n",
            "Enter number 101\n",
            "\n",
            "\n",
            "Even number are [14444, 36542]\n"
          ]
        }
      ]
    },
    {
      "cell_type": "markdown",
      "source": [
        "# **Tuple :-** ()\n",
        "different types of the data\n",
        "\n",
        "imutable - no changes\n",
        "\n",
        "positive & negative indexes\n",
        "\n",
        "built in"
      ],
      "metadata": {
        "id": "InRJcH13snE0"
      }
    },
    {
      "cell_type": "code",
      "source": [
        "# empty tuple\n",
        "tuple()"
      ],
      "metadata": {
        "colab": {
          "base_uri": "https://localhost:8080/"
        },
        "id": "U3_3i-Fcsl1F",
        "outputId": "4c5127df-c97b-43f7-d184-08128ffecdc4"
      },
      "execution_count": null,
      "outputs": [
        {
          "output_type": "execute_result",
          "data": {
            "text/plain": [
              "()"
            ]
          },
          "metadata": {},
          "execution_count": 7
        }
      ]
    },
    {
      "cell_type": "code",
      "source": [
        "product=('Julian','Macbook',450,2)\n",
        "product"
      ],
      "metadata": {
        "colab": {
          "base_uri": "https://localhost:8080/"
        },
        "id": "YsW8paSpsmDO",
        "outputId": "c0b1a3ed-6c1a-44c5-e11d-8fa8cada6c86"
      },
      "execution_count": null,
      "outputs": [
        {
          "output_type": "execute_result",
          "data": {
            "text/plain": [
              "('Julian', 'Macbook', 450, 2)"
            ]
          },
          "metadata": {},
          "execution_count": 9
        }
      ]
    },
    {
      "cell_type": "code",
      "source": [
        "type(product) # type of product is tuple"
      ],
      "metadata": {
        "colab": {
          "base_uri": "https://localhost:8080/"
        },
        "id": "vJ3OrEFdsmIV",
        "outputId": "b7e142e5-63b8-44d7-c34d-48cec199b297"
      },
      "execution_count": null,
      "outputs": [
        {
          "output_type": "execute_result",
          "data": {
            "text/plain": [
              "tuple"
            ]
          },
          "metadata": {},
          "execution_count": 10
        }
      ]
    },
    {
      "cell_type": "code",
      "source": [
        "product[0] # positive index"
      ],
      "metadata": {
        "colab": {
          "base_uri": "https://localhost:8080/",
          "height": 36
        },
        "id": "gEb6UszrsmMR",
        "outputId": "0723bcc9-12f1-47c8-9a97-4dbb76248c70"
      },
      "execution_count": null,
      "outputs": [
        {
          "output_type": "execute_result",
          "data": {
            "text/plain": [
              "'Julian'"
            ],
            "application/vnd.google.colaboratory.intrinsic+json": {
              "type": "string"
            }
          },
          "metadata": {},
          "execution_count": 11
        }
      ]
    },
    {
      "cell_type": "code",
      "source": [
        "product[-1] # negative index"
      ],
      "metadata": {
        "colab": {
          "base_uri": "https://localhost:8080/"
        },
        "id": "RkOBMu_jsmPy",
        "outputId": "70e1a88e-35ed-4b95-8734-8bf35c3b20ce"
      },
      "execution_count": null,
      "outputs": [
        {
          "output_type": "execute_result",
          "data": {
            "text/plain": [
              "2"
            ]
          },
          "metadata": {},
          "execution_count": 12
        }
      ]
    },
    {
      "cell_type": "code",
      "source": [
        "product[2]"
      ],
      "metadata": {
        "colab": {
          "base_uri": "https://localhost:8080/"
        },
        "id": "rRJAB33asmTl",
        "outputId": "e405774d-193b-47bd-c034-78bc17f0c4b0"
      },
      "execution_count": null,
      "outputs": [
        {
          "output_type": "execute_result",
          "data": {
            "text/plain": [
              "450"
            ]
          },
          "metadata": {},
          "execution_count": 13
        }
      ]
    },
    {
      "cell_type": "code",
      "source": [
        "# inutable\n",
        "product[2] =500 # TypeError: 'tuple' object does not support item assignment\n"
      ],
      "metadata": {
        "colab": {
          "base_uri": "https://localhost:8080/",
          "height": 164
        },
        "id": "m5RbnjvOsmV1",
        "outputId": "3ea4d2a8-a032-4ff5-dab2-428b3c64c4b6"
      },
      "execution_count": null,
      "outputs": [
        {
          "output_type": "error",
          "ename": "TypeError",
          "evalue": "'tuple' object does not support item assignment",
          "traceback": [
            "\u001b[0;31m---------------------------------------------------------------------------\u001b[0m",
            "\u001b[0;31mTypeError\u001b[0m                                 Traceback (most recent call last)",
            "\u001b[0;32m/tmp/ipython-input-14-171992652.py\u001b[0m in \u001b[0;36m<cell line: 0>\u001b[0;34m()\u001b[0m\n\u001b[1;32m      1\u001b[0m \u001b[0;31m# inutable\u001b[0m\u001b[0;34m\u001b[0m\u001b[0;34m\u001b[0m\u001b[0m\n\u001b[0;32m----> 2\u001b[0;31m \u001b[0mproduct\u001b[0m\u001b[0;34m[\u001b[0m\u001b[0;36m2\u001b[0m\u001b[0;34m]\u001b[0m \u001b[0;34m=\u001b[0m\u001b[0;36m500\u001b[0m\u001b[0;34m\u001b[0m\u001b[0;34m\u001b[0m\u001b[0m\n\u001b[0m",
            "\u001b[0;31mTypeError\u001b[0m: 'tuple' object does not support item assignment"
          ]
        }
      ]
    },
    {
      "cell_type": "code",
      "source": [
        "# built in functions\n",
        "product.index(450)"
      ],
      "metadata": {
        "colab": {
          "base_uri": "https://localhost:8080/"
        },
        "id": "z1Pk7EvxuqGX",
        "outputId": "437b6f9b-f6b6-4fd8-9ada-b7f3e55cc000"
      },
      "execution_count": null,
      "outputs": [
        {
          "output_type": "execute_result",
          "data": {
            "text/plain": [
              "2"
            ]
          },
          "metadata": {},
          "execution_count": 17
        }
      ]
    },
    {
      "cell_type": "code",
      "source": [
        "# slicing\n",
        "product[1:]"
      ],
      "metadata": {
        "colab": {
          "base_uri": "https://localhost:8080/"
        },
        "id": "ju8Z07vbuqDt",
        "outputId": "fa128626-6046-4e3b-ac3a-88e197eb0eb5"
      },
      "execution_count": null,
      "outputs": [
        {
          "output_type": "execute_result",
          "data": {
            "text/plain": [
              "('Macbook', 450, 2)"
            ]
          },
          "metadata": {},
          "execution_count": 18
        }
      ]
    },
    {
      "cell_type": "code",
      "source": [
        "product[:2] # 0, 1"
      ],
      "metadata": {
        "colab": {
          "base_uri": "https://localhost:8080/"
        },
        "id": "DFnPXxyMuqAT",
        "outputId": "f1c21673-1876-472d-f338-d0a4bd3b7429"
      },
      "execution_count": null,
      "outputs": [
        {
          "output_type": "execute_result",
          "data": {
            "text/plain": [
              "('Julian', 'Macbook')"
            ]
          },
          "metadata": {},
          "execution_count": 19
        }
      ]
    },
    {
      "cell_type": "code",
      "source": [
        "# Change a tuple data to list\n",
        "s=list(product)\n",
        "type(s)"
      ],
      "metadata": {
        "colab": {
          "base_uri": "https://localhost:8080/"
        },
        "id": "4QkEp1v2up88",
        "outputId": "7ecbed77-1a8c-40f7-c761-ba31742d8cd8"
      },
      "execution_count": null,
      "outputs": [
        {
          "output_type": "execute_result",
          "data": {
            "text/plain": [
              "list"
            ]
          },
          "metadata": {},
          "execution_count": 20
        }
      ]
    },
    {
      "cell_type": "code",
      "source": [
        "s"
      ],
      "metadata": {
        "colab": {
          "base_uri": "https://localhost:8080/"
        },
        "id": "QUpwXh02v40Z",
        "outputId": "2306146b-bbb8-47cf-f122-45827d93e025"
      },
      "execution_count": null,
      "outputs": [
        {
          "output_type": "execute_result",
          "data": {
            "text/plain": [
              "['Julian', 'Macbook', 450, 2]"
            ]
          },
          "metadata": {},
          "execution_count": 21
        }
      ]
    },
    {
      "cell_type": "code",
      "source": [
        "s[2]=500\n",
        "s"
      ],
      "metadata": {
        "colab": {
          "base_uri": "https://localhost:8080/"
        },
        "id": "Na4x8E3tv433",
        "outputId": "edd8c2b8-a942-496d-d796-b26416f3e9b0"
      },
      "execution_count": null,
      "outputs": [
        {
          "output_type": "execute_result",
          "data": {
            "text/plain": [
              "['Julian', 'Macbook', 500, 2]"
            ]
          },
          "metadata": {},
          "execution_count": 22
        }
      ]
    },
    {
      "cell_type": "code",
      "source": [
        "# convert list to tuple\n",
        "\n",
        "updated_price=tuple(s)\n",
        "updated_price"
      ],
      "metadata": {
        "colab": {
          "base_uri": "https://localhost:8080/"
        },
        "id": "nT2_NTtMv47Q",
        "outputId": "69fdcd45-7e47-4e6f-d44e-587b0f4570ed"
      },
      "execution_count": null,
      "outputs": [
        {
          "output_type": "execute_result",
          "data": {
            "text/plain": [
              "('Julian', 'Macbook', 500, 2)"
            ]
          },
          "metadata": {},
          "execution_count": 23
        }
      ]
    },
    {
      "cell_type": "markdown",
      "source": [
        "nested if\n",
        "\n",
        "if ... if ... if\n",
        "\n",
        "nested loops\n",
        "\n",
        "for ... for\n",
        "\n",
        "for ... while\n",
        "\n",
        "while ... while / for\n",
        "\n",
        "Nested data\n",
        "\n",
        "tuple ... tuple\n",
        "\n",
        "list ... list\n",
        "\n",
        "list ... tuple\n",
        "\n",
        "tuple ... list"
      ],
      "metadata": {
        "id": "2I1lBQyN1_73"
      }
    },
    {
      "cell_type": "code",
      "source": [
        "# nested list\n",
        "\n",
        "sw_books=['Java','Python','JS','LLM',[2020,2021,2022,2023]]\n",
        "sw_books"
      ],
      "metadata": {
        "colab": {
          "base_uri": "https://localhost:8080/"
        },
        "id": "wEGeOKSdv4-f",
        "outputId": "d5fe666b-e6e0-4cd5-b714-f8bf2b596901"
      },
      "execution_count": null,
      "outputs": [
        {
          "output_type": "execute_result",
          "data": {
            "text/plain": [
              "['Java', 'Python', 'JS', 'LLM', [2020, 2021, 2022, 2023]]"
            ]
          },
          "metadata": {},
          "execution_count": 24
        }
      ]
    },
    {
      "cell_type": "code",
      "source": [
        "type(sw_books)"
      ],
      "metadata": {
        "colab": {
          "base_uri": "https://localhost:8080/"
        },
        "id": "PJAfoSkSupVw",
        "outputId": "2ffef879-3c8b-4dff-a1aa-8a03acf61e52"
      },
      "execution_count": null,
      "outputs": [
        {
          "output_type": "execute_result",
          "data": {
            "text/plain": [
              "list"
            ]
          },
          "metadata": {},
          "execution_count": 25
        }
      ]
    },
    {
      "cell_type": "code",
      "source": [
        "sw_books[4]"
      ],
      "metadata": {
        "colab": {
          "base_uri": "https://localhost:8080/"
        },
        "id": "B2Jqk4uGupTE",
        "outputId": "05e3df73-0eee-42fd-9c4c-3a95274436ba"
      },
      "execution_count": null,
      "outputs": [
        {
          "output_type": "execute_result",
          "data": {
            "text/plain": [
              "[2020, 2021, 2022, 2023]"
            ]
          },
          "metadata": {},
          "execution_count": 26
        }
      ]
    },
    {
      "cell_type": "code",
      "source": [
        "sw_books[4][-1]"
      ],
      "metadata": {
        "colab": {
          "base_uri": "https://localhost:8080/"
        },
        "id": "eetuQtAoupQB",
        "outputId": "f028fd5e-8d49-4df1-8e18-3569fac9a0ce"
      },
      "execution_count": null,
      "outputs": [
        {
          "output_type": "execute_result",
          "data": {
            "text/plain": [
              "2023"
            ]
          },
          "metadata": {},
          "execution_count": 28
        }
      ]
    },
    {
      "cell_type": "code",
      "source": [
        "sw_books[4][:2]"
      ],
      "metadata": {
        "colab": {
          "base_uri": "https://localhost:8080/"
        },
        "id": "MDNy7w4FupML",
        "outputId": "e9675d65-489c-49ab-fdc4-b842ec9a93ea"
      },
      "execution_count": null,
      "outputs": [
        {
          "output_type": "execute_result",
          "data": {
            "text/plain": [
              "[2020, 2021]"
            ]
          },
          "metadata": {},
          "execution_count": 29
        }
      ]
    },
    {
      "cell_type": "code",
      "source": [
        "sw_books=('Java', 'Python', 'JS', 'LLM', [2020, 2021, 2022, 2023])\n",
        "sw_books"
      ],
      "metadata": {
        "colab": {
          "base_uri": "https://localhost:8080/"
        },
        "id": "sRfl0VHGupI8",
        "outputId": "98a3bb5f-b53e-4c5c-ce40-9bf02145bb6d"
      },
      "execution_count": null,
      "outputs": [
        {
          "output_type": "execute_result",
          "data": {
            "text/plain": [
              "('Java', 'Python', 'JS', 'LLM', [2020, 2021, 2022, 2023])"
            ]
          },
          "metadata": {},
          "execution_count": 30
        }
      ]
    },
    {
      "cell_type": "code",
      "source": [
        "sw_books[1]"
      ],
      "metadata": {
        "colab": {
          "base_uri": "https://localhost:8080/",
          "height": 36
        },
        "id": "qKZSPCzGupFi",
        "outputId": "c562d57d-4c7f-49b7-c21d-eb363da06776"
      },
      "execution_count": null,
      "outputs": [
        {
          "output_type": "execute_result",
          "data": {
            "text/plain": [
              "'Python'"
            ],
            "application/vnd.google.colaboratory.intrinsic+json": {
              "type": "string"
            }
          },
          "metadata": {},
          "execution_count": 31
        }
      ]
    },
    {
      "cell_type": "code",
      "source": [
        "sw_books[-1][1]=2025\n",
        "sw_books[-1]"
      ],
      "metadata": {
        "colab": {
          "base_uri": "https://localhost:8080/"
        },
        "id": "25VIAStXupCZ",
        "outputId": "37c14cc4-a279-42bf-ad49-4ec101f9d82e"
      },
      "execution_count": null,
      "outputs": [
        {
          "output_type": "execute_result",
          "data": {
            "text/plain": [
              "[2020, 2025, 2022, 2023]"
            ]
          },
          "metadata": {},
          "execution_count": 32
        }
      ]
    },
    {
      "cell_type": "code",
      "source": [
        "sw_books[1][2]"
      ],
      "metadata": {
        "colab": {
          "base_uri": "https://localhost:8080/",
          "height": 36
        },
        "id": "Hv1UFO0-8Ayr",
        "outputId": "a2c08804-4229-4339-8f89-47d0f81282e5"
      },
      "execution_count": null,
      "outputs": [
        {
          "output_type": "execute_result",
          "data": {
            "text/plain": [
              "'t'"
            ],
            "application/vnd.google.colaboratory.intrinsic+json": {
              "type": "string"
            }
          },
          "metadata": {},
          "execution_count": 33
        }
      ]
    },
    {
      "cell_type": "code",
      "source": [
        "sw_books[-1][2][0] # TypeError: 'int' object is not subscriptable"
      ],
      "metadata": {
        "colab": {
          "base_uri": "https://localhost:8080/",
          "height": 146
        },
        "id": "Dae-U0a68A3V",
        "outputId": "c33eb3df-4b87-4752-9e41-0eb48fe4892a"
      },
      "execution_count": null,
      "outputs": [
        {
          "output_type": "error",
          "ename": "TypeError",
          "evalue": "'int' object is not subscriptable",
          "traceback": [
            "\u001b[0;31m---------------------------------------------------------------------------\u001b[0m",
            "\u001b[0;31mTypeError\u001b[0m                                 Traceback (most recent call last)",
            "\u001b[0;32m/tmp/ipython-input-35-4000682836.py\u001b[0m in \u001b[0;36m<cell line: 0>\u001b[0;34m()\u001b[0m\n\u001b[0;32m----> 1\u001b[0;31m \u001b[0msw_books\u001b[0m\u001b[0;34m[\u001b[0m\u001b[0;34m-\u001b[0m\u001b[0;36m1\u001b[0m\u001b[0;34m]\u001b[0m\u001b[0;34m[\u001b[0m\u001b[0;36m2\u001b[0m\u001b[0;34m]\u001b[0m\u001b[0;34m[\u001b[0m\u001b[0;36m0\u001b[0m\u001b[0;34m]\u001b[0m\u001b[0;34m\u001b[0m\u001b[0;34m\u001b[0m\u001b[0m\n\u001b[0m",
            "\u001b[0;31mTypeError\u001b[0m: 'int' object is not subscriptable"
          ]
        }
      ]
    },
    {
      "cell_type": "markdown",
      "source": [
        "# **Set {}**\n",
        "\n",
        "*   no order - does not maintain order\n",
        "*   no index\n",
        "*   no duplicates\n",
        "*   List item\n",
        "\n",
        "\n"
      ],
      "metadata": {
        "id": "0i5KJsI284yt"
      }
    },
    {
      "cell_type": "code",
      "source": [
        "flowers = {'Rose','Lotus',12,15,'Jasmine',12,'Rose'} # remove the duplicates, no order\n",
        "flowers"
      ],
      "metadata": {
        "colab": {
          "base_uri": "https://localhost:8080/"
        },
        "id": "_7Ax5qgv8A7K",
        "outputId": "79c43e94-a7d9-47c7-8e31-ed31c2408f66"
      },
      "execution_count": null,
      "outputs": [
        {
          "output_type": "execute_result",
          "data": {
            "text/plain": [
              "{12, 15, 'Jasmine', 'Lotus', 'Rose'}"
            ]
          },
          "metadata": {},
          "execution_count": 42
        }
      ]
    },
    {
      "cell_type": "code",
      "source": [
        "fruits={'grapes','banana','Strawberry','Mango','Apple','Kiwi'}\n",
        "fruits"
      ],
      "metadata": {
        "colab": {
          "base_uri": "https://localhost:8080/"
        },
        "id": "OP0l_YSg8A-d",
        "outputId": "74403d17-c0d9-45c6-dd3e-3a752717b7da"
      },
      "execution_count": null,
      "outputs": [
        {
          "output_type": "execute_result",
          "data": {
            "text/plain": [
              "{'Apple', 'Kiwi', 'Mango', 'Strawberry', 'banana', 'grapes'}"
            ]
          },
          "metadata": {},
          "execution_count": 46
        }
      ]
    },
    {
      "cell_type": "markdown",
      "source": [
        "# **Dictionary :-**\n",
        "{key : values}\n",
        "\n",
        "index-key-numbers OR string\n",
        "\n",
        "mutable"
      ],
      "metadata": {
        "id": "xpmTHqC0_jZ4"
      }
    },
    {
      "cell_type": "code",
      "source": [
        "mob={'Kiran': 7474747474,'Sasha' : 7912354874,'Hardy' : 7587858756}\n",
        "mob"
      ],
      "metadata": {
        "colab": {
          "base_uri": "https://localhost:8080/"
        },
        "id": "4_YhMKt88BCQ",
        "outputId": "7bf705a5-d2c3-47b7-de2d-bc61ac78d194"
      },
      "execution_count": null,
      "outputs": [
        {
          "output_type": "execute_result",
          "data": {
            "text/plain": [
              "{'Kiran': 7474747474, 'Sasha': 7912354874, 'Hardy': 7587858756}"
            ]
          },
          "metadata": {},
          "execution_count": 67
        }
      ]
    },
    {
      "cell_type": "code",
      "source": [
        "type(mob)"
      ],
      "metadata": {
        "colab": {
          "base_uri": "https://localhost:8080/"
        },
        "id": "i7EJQXux8BFu",
        "outputId": "b30ac821-d9b2-452c-c47d-c148e8e09c06"
      },
      "execution_count": null,
      "outputs": [
        {
          "output_type": "execute_result",
          "data": {
            "text/plain": [
              "dict"
            ]
          },
          "metadata": {},
          "execution_count": 60
        }
      ]
    },
    {
      "cell_type": "code",
      "source": [
        "# empty dictionary\n",
        "dict()"
      ],
      "metadata": {
        "colab": {
          "base_uri": "https://localhost:8080/"
        },
        "id": "j_LQy5dL8BKF",
        "outputId": "5e3b0c41-971c-4236-d4cc-1e4c1b34d4e9"
      },
      "execution_count": null,
      "outputs": [
        {
          "output_type": "execute_result",
          "data": {
            "text/plain": [
              "{}"
            ]
          },
          "metadata": {},
          "execution_count": 61
        }
      ]
    },
    {
      "cell_type": "code",
      "source": [
        "mob['Sasha']"
      ],
      "metadata": {
        "colab": {
          "base_uri": "https://localhost:8080/"
        },
        "id": "Bw6tR-x8uo-j",
        "outputId": "74df9220-b05f-4f82-958a-13fe6b1b353d"
      },
      "execution_count": null,
      "outputs": [
        {
          "output_type": "execute_result",
          "data": {
            "text/plain": [
              "7912354874"
            ]
          },
          "metadata": {},
          "execution_count": 62
        }
      ]
    },
    {
      "cell_type": "code",
      "source": [
        "# mutability\n",
        "mob['Hardy'] = 123456789\n",
        "mob"
      ],
      "metadata": {
        "colab": {
          "base_uri": "https://localhost:8080/"
        },
        "id": "g8ZRmHJyBFbB",
        "outputId": "afc48cfc-032f-414f-f122-72c749ceea7e"
      },
      "execution_count": null,
      "outputs": [
        {
          "output_type": "execute_result",
          "data": {
            "text/plain": [
              "{'Kiran': 7474747474, 'Sasha': 7912354874, 'Hardy': 123456789}"
            ]
          },
          "metadata": {},
          "execution_count": 63
        }
      ]
    },
    {
      "cell_type": "code",
      "source": [
        "# Arrange in ascending\n",
        "sorted(mob)"
      ],
      "metadata": {
        "colab": {
          "base_uri": "https://localhost:8080/"
        },
        "id": "16mmGtt3BFfB",
        "outputId": "e6358505-799b-4154-dd72-6d009ef5818a"
      },
      "execution_count": null,
      "outputs": [
        {
          "output_type": "execute_result",
          "data": {
            "text/plain": [
              "['Hardy', 'Kiran', 'Sasha']"
            ]
          },
          "metadata": {},
          "execution_count": 68
        }
      ]
    },
    {
      "cell_type": "code",
      "source": [
        "# delete the data - can not be recover\n",
        "del mob['Kiran']\n"
      ],
      "metadata": {
        "id": "IbXO8-0JBFjV"
      },
      "execution_count": null,
      "outputs": []
    },
    {
      "cell_type": "code",
      "source": [
        "mob"
      ],
      "metadata": {
        "colab": {
          "base_uri": "https://localhost:8080/"
        },
        "id": "JQEpdBnYBFm4",
        "outputId": "2f1e800f-8743-449e-fb1a-78e4591575a1"
      },
      "execution_count": null,
      "outputs": [
        {
          "output_type": "execute_result",
          "data": {
            "text/plain": [
              "{'Sasha': 7912354874, 'Hardy': 7587858756}"
            ]
          },
          "metadata": {},
          "execution_count": 70
        }
      ]
    },
    {
      "cell_type": "code",
      "source": [
        "mob[0] # delete the data - can not be recover"
      ],
      "metadata": {
        "colab": {
          "base_uri": "https://localhost:8080/",
          "height": 146
        },
        "id": "U_pX5YZnBFq0",
        "outputId": "316cf713-e892-4a48-8425-a291e53e99de"
      },
      "execution_count": null,
      "outputs": [
        {
          "output_type": "error",
          "ename": "KeyError",
          "evalue": "0",
          "traceback": [
            "\u001b[0;31m---------------------------------------------------------------------------\u001b[0m",
            "\u001b[0;31mKeyError\u001b[0m                                  Traceback (most recent call last)",
            "\u001b[0;32m/tmp/ipython-input-73-2770803441.py\u001b[0m in \u001b[0;36m<cell line: 0>\u001b[0;34m()\u001b[0m\n\u001b[0;32m----> 1\u001b[0;31m \u001b[0mmob\u001b[0m\u001b[0;34m[\u001b[0m\u001b[0;36m0\u001b[0m\u001b[0;34m]\u001b[0m\u001b[0;34m\u001b[0m\u001b[0;34m\u001b[0m\u001b[0m\n\u001b[0m",
            "\u001b[0;31mKeyError\u001b[0m: 0"
          ]
        }
      ]
    },
    {
      "cell_type": "code",
      "source": [
        "# nested\n",
        "products={\n",
        "    'ID': [100,101,102],\n",
        "    'Name': ['laptop','MacBook','iPhone'],\n",
        "    'Price':[900,2500,600]\n",
        "}\n",
        "products"
      ],
      "metadata": {
        "colab": {
          "base_uri": "https://localhost:8080/"
        },
        "id": "8FvOXCIjChKd",
        "outputId": "e243139b-a0da-44c8-cc8f-261f36df8dcb"
      },
      "execution_count": null,
      "outputs": [
        {
          "output_type": "execute_result",
          "data": {
            "text/plain": [
              "{'ID': [100, 101, 102],\n",
              " 'Name': ['laptop', 'MacBook', 'iPhone'],\n",
              " 'Price': [900, 2500, 600]}"
            ]
          },
          "metadata": {},
          "execution_count": 74
        }
      ]
    },
    {
      "cell_type": "markdown",
      "source": [
        "dictionary name - prodcuts\n",
        "\n",
        "key - ID/Name/Price\n",
        "\n",
        "Values - Other data"
      ],
      "metadata": {
        "id": "B33JqMnHEGa0"
      }
    },
    {
      "cell_type": "code",
      "source": [
        "# access the data - key\n",
        "products['Name']"
      ],
      "metadata": {
        "colab": {
          "base_uri": "https://localhost:8080/"
        },
        "id": "FeEWmu8CChHM",
        "outputId": "d0cf0056-8b72-4915-97b5-23297b62d2f0"
      },
      "execution_count": null,
      "outputs": [
        {
          "output_type": "execute_result",
          "data": {
            "text/plain": [
              "['laptop', 'MacBook', 'iPhone']"
            ]
          },
          "metadata": {},
          "execution_count": 76
        }
      ]
    },
    {
      "cell_type": "code",
      "source": [
        "products['Name'][1]"
      ],
      "metadata": {
        "colab": {
          "base_uri": "https://localhost:8080/",
          "height": 36
        },
        "id": "a3E0_sdsChDw",
        "outputId": "e33e967e-9b8b-47b6-f7ef-35c3cbd9575f"
      },
      "execution_count": null,
      "outputs": [
        {
          "output_type": "execute_result",
          "data": {
            "text/plain": [
              "'MacBook'"
            ],
            "application/vnd.google.colaboratory.intrinsic+json": {
              "type": "string"
            }
          },
          "metadata": {},
          "execution_count": 77
        }
      ]
    },
    {
      "cell_type": "code",
      "source": [
        "products['Name'][1][1]"
      ],
      "metadata": {
        "colab": {
          "base_uri": "https://localhost:8080/",
          "height": 36
        },
        "id": "fX4nSufrChAN",
        "outputId": "00fa05d0-987c-4c87-e8bb-e51a0f1db6a5"
      },
      "execution_count": null,
      "outputs": [
        {
          "output_type": "execute_result",
          "data": {
            "text/plain": [
              "'a'"
            ],
            "application/vnd.google.colaboratory.intrinsic+json": {
              "type": "string"
            }
          },
          "metadata": {},
          "execution_count": 78
        }
      ]
    },
    {
      "cell_type": "code",
      "source": [
        "# iterations\n",
        "for x in products :\n",
        "  print(x) # prints what are the keys have"
      ],
      "metadata": {
        "colab": {
          "base_uri": "https://localhost:8080/"
        },
        "id": "GxsTWCHGCg8Y",
        "outputId": "89d3d48d-9fcd-4758-cb46-f9092a90fa47"
      },
      "execution_count": null,
      "outputs": [
        {
          "output_type": "stream",
          "name": "stdout",
          "text": [
            "ID\n",
            "Name\n",
            "Price\n"
          ]
        }
      ]
    },
    {
      "cell_type": "markdown",
      "source": [
        "# OR"
      ],
      "metadata": {
        "id": "hLWgbKPRFeKz"
      }
    },
    {
      "cell_type": "code",
      "source": [
        "for x in products.keys() :\n",
        "  print(x)"
      ],
      "metadata": {
        "colab": {
          "base_uri": "https://localhost:8080/"
        },
        "id": "CcHuxJX4Cg5X",
        "outputId": "ce5a09db-b981-43ca-aac9-eb9d2ca61f60"
      },
      "execution_count": null,
      "outputs": [
        {
          "output_type": "stream",
          "name": "stdout",
          "text": [
            "ID\n",
            "Name\n",
            "Price\n"
          ]
        }
      ]
    },
    {
      "cell_type": "code",
      "source": [
        "# print the values\n",
        "for x in products.values() :\n",
        "  print(x)"
      ],
      "metadata": {
        "colab": {
          "base_uri": "https://localhost:8080/"
        },
        "id": "ZuWDRAZ0Cg1p",
        "outputId": "bd220c70-8321-4142-8780-c5ead29671c1"
      },
      "execution_count": null,
      "outputs": [
        {
          "output_type": "stream",
          "name": "stdout",
          "text": [
            "[100, 101, 102]\n",
            "['laptop', 'MacBook', 'iPhone']\n",
            "[900, 2500, 600]\n"
          ]
        }
      ]
    },
    {
      "cell_type": "code",
      "source": [
        "# print key values\n",
        "for a,b in products.items() :\n",
        "  print(a,b)"
      ],
      "metadata": {
        "colab": {
          "base_uri": "https://localhost:8080/"
        },
        "id": "YNMIee38Cgyl",
        "outputId": "962f0b93-a825-4fc5-dce4-288bbdef0e2f"
      },
      "execution_count": null,
      "outputs": [
        {
          "output_type": "stream",
          "name": "stdout",
          "text": [
            "ID [100, 101, 102]\n",
            "Name ['laptop', 'MacBook', 'iPhone']\n",
            "Price [900, 2500, 600]\n"
          ]
        }
      ]
    },
    {
      "cell_type": "markdown",
      "source": [
        "# **Assignments :-**\n",
        "\n",
        "1.   Create dictionary using 4 countries data\n",
        "      country name, population, sqft, capital and display entire data.\n",
        "2.   Find the total prices of all the products listed in the\n",
        "      product dictionary\n",
        "3.   Find the count of prodcuts in product dictionary."
      ],
      "metadata": {
        "id": "qiC3EpwaGRoi"
      }
    },
    {
      "cell_type": "code",
      "source": [
        "# Assignment - 1 --> Create a dictionary using 4 countries' data, country name, population, sqft, capital, and display the entire data.\n",
        "# Get number of countries\n",
        "n = int(input(\"Number of countries dictionary: \"))\n",
        "countries = {}\n",
        "\n",
        "# Collect country data\n",
        "for i in range(n):\n",
        "    country = input(\"Country \" +str(i+1) + \": \" )\n",
        "    area = input(\"Area of \" +country + \": \")\n",
        "    population = input(\"Population of \" +country +\": \")\n",
        "    Capital_city = input(\"Capital of \" +country + \": \" )\n",
        "\n",
        "    #country = input(f\"Country {i+1}: \")\n",
        "    #area = input(f\"Area of: {country}: \")\n",
        "    #population = input(f\"Population of: {country}: \")\n",
        "    #Capital_city = input(f\"Capital of: {country}: \")\n",
        "\n",
        "    countries[country] = {\n",
        "        \"Area\": area,\n",
        "        \"Population\": population,\n",
        "        \"Capital\": Capital_city\n",
        "    }\n",
        "\n",
        "    # Display all country data\n",
        "    print(\"\\nCountry Data:\")\n",
        "    for a, b in countries.items():\n",
        "        print(a,b)"
      ],
      "metadata": {
        "id": "HxjBq_NxCgvF",
        "colab": {
          "base_uri": "https://localhost:8080/"
        },
        "outputId": "68d1260f-e637-4a61-ecb7-52ec3ffe51e7"
      },
      "execution_count": null,
      "outputs": [
        {
          "output_type": "stream",
          "name": "stdout",
          "text": [
            "Number of countries dictionary: 1\n",
            "Country 1: uk\n",
            "Area of uk: 66\n",
            "Population of uk: 6\n",
            "Capital of uk: lon\n",
            "\n",
            "Country Data:\n",
            "uk {'Area': '66', 'Population': '6', 'Capital': 'lon'}\n"
          ]
        }
      ]
    },
    {
      "cell_type": "code",
      "source": [
        "# Assignment - 2 & 3 -->Find the total prices of all the products listed in the product dictionary + Find the count of prodcuts in product dictionary.\n",
        "\n",
        "# Prodcut Data\n",
        "product ={\n",
        "    'ID':[101,102,103],\n",
        "    'Name':[\"iPhone\",\"MacBook\",\"TV\"],\n",
        "    'Price':[800,2500,1500]\n",
        "}\n",
        "\n",
        "# Calculate Total Price\n",
        "total_price = sum(product['Price'])\n",
        "print(\"Total price of all products:\", total_price)\n",
        "\n",
        "# Count Number of Products\n",
        "num_products = len(product['Name'])\n",
        "print(\"Total number of products:\", num_products)"
      ],
      "metadata": {
        "id": "ZlB9LaRNCgri",
        "colab": {
          "base_uri": "https://localhost:8080/"
        },
        "outputId": "f8c1421a-9693-469d-ff72-f59cf29f07ad"
      },
      "execution_count": null,
      "outputs": [
        {
          "output_type": "stream",
          "name": "stdout",
          "text": [
            "Total price of all products: 4800\n",
            "Total number of products: 3\n"
          ]
        }
      ]
    }
  ],
  "metadata": {
    "colab": {
      "provenance": [],
      "authorship_tag": "ABX9TyNuwGMt+1DOF9Mw9nwGL4FP",
      "include_colab_link": true
    },
    "kernelspec": {
      "display_name": "Python 3",
      "name": "python3"
    },
    "language_info": {
      "name": "python"
    }
  },
  "nbformat": 4,
  "nbformat_minor": 0
}