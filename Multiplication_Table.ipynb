{
  "nbformat": 4,
  "nbformat_minor": 0,
  "metadata": {
    "colab": {
      "provenance": [],
      "authorship_tag": "ABX9TyPo23l5qzZDb3nBnd0eZJlu",
      "include_colab_link": true
    },
    "kernelspec": {
      "name": "python3",
      "display_name": "Python 3"
    },
    "language_info": {
      "name": "python"
    }
  },
  "cells": [
    {
      "cell_type": "markdown",
      "metadata": {
        "id": "view-in-github",
        "colab_type": "text"
      },
      "source": [
        "<a href=\"https://colab.research.google.com/github/sankets139/GitDemo/blob/master/Multiplication_Table.ipynb\" target=\"_parent\"><img src=\"https://colab.research.google.com/assets/colab-badge.svg\" alt=\"Open In Colab\"/></a>"
      ]
    },
    {
      "cell_type": "markdown",
      "source": [
        "**Multiplication Table: get user input**\n",
        "# e.g. 3 X 1 =3"
      ],
      "metadata": {
        "id": "AVgrIHUPM1XT"
      }
    },
    {
      "cell_type": "code",
      "execution_count": null,
      "metadata": {
        "colab": {
          "base_uri": "https://localhost:8080/"
        },
        "id": "vzTjwXk-My8c",
        "outputId": "ed10ca96-68c4-4bfe-cf84-10cd61f4c527"
      },
      "outputs": [
        {
          "output_type": "stream",
          "name": "stdout",
          "text": [
            "Enter a number: 25\n",
            "25 X 1 = 25\n",
            "25 X 2 = 50\n",
            "25 X 3 = 75\n",
            "25 X 4 = 100\n",
            "25 X 5 = 125\n",
            "25 X 6 = 150\n",
            "25 X 7 = 175\n",
            "25 X 8 = 200\n",
            "25 X 9 = 225\n",
            "25 X 10 = 250\n"
          ]
        }
      ],
      "source": [
        "n = int(input(\"Enter a number: \"))\n",
        "for i in range(1, 11):\n",
        "    print(n, \"X\", i, \"=\", n*i)\n"
      ]
    }
  ]
}