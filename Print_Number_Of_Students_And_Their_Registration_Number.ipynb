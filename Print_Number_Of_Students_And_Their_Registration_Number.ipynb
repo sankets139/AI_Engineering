{
  "nbformat": 4,
  "nbformat_minor": 0,
  "metadata": {
    "colab": {
      "provenance": [],
      "authorship_tag": "ABX9TyNnF3hRjO8NwOoTPMaSeP/t",
      "include_colab_link": true
    },
    "kernelspec": {
      "name": "python3",
      "display_name": "Python 3"
    },
    "language_info": {
      "name": "python"
    }
  },
  "cells": [
    {
      "cell_type": "markdown",
      "metadata": {
        "id": "view-in-github",
        "colab_type": "text"
      },
      "source": [
        "<a href=\"https://colab.research.google.com/github/sankets139/GitDemo/blob/master/Print_Number_Of_Students_And_Their_Registration_Number.ipynb\" target=\"_parent\"><img src=\"https://colab.research.google.com/assets/colab-badge.svg\" alt=\"Open In Colab\"/></a>"
      ]
    },
    {
      "cell_type": "code",
      "execution_count": null,
      "metadata": {
        "id": "tUUTsDoI6C81"
      },
      "outputs": [],
      "source": [
        "n = int(input('Enter number of students '))\n",
        "\n",
        "for i in range(n):\n",
        "  Reg_number = 5000\n",
        "  name = input(\"Your name...\")\n",
        "\n",
        "  print('Hi', name, 'Welcome.', 'Your registration number is',(Reg_number + i)) #Each student gets a unique registration number by adding i to the start number.\n",
        "\n",
        "  print('\\n')\n",
        "else :\n",
        "    print('All students are welcome')"
      ]
    }
  ]
}