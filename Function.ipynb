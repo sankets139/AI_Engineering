{
  "nbformat": 4,
  "nbformat_minor": 0,
  "metadata": {
    "colab": {
      "provenance": [],
      "authorship_tag": "ABX9TyNdVRvHKhGhZOaIl/gTcutj",
      "include_colab_link": true
    },
    "kernelspec": {
      "name": "python3",
      "display_name": "Python 3"
    },
    "language_info": {
      "name": "python"
    }
  },
  "cells": [
    {
      "cell_type": "markdown",
      "metadata": {
        "id": "view-in-github",
        "colab_type": "text"
      },
      "source": [
        "<a href=\"https://colab.research.google.com/github/sankets139/AI_Engineering/blob/master/Function.ipynb\" target=\"_parent\"><img src=\"https://colab.research.google.com/assets/colab-badge.svg\" alt=\"Open In Colab\"/></a>"
      ]
    },
    {
      "cell_type": "markdown",
      "source": [
        "# **Design Calculator As Per User Choice**"
      ],
      "metadata": {
        "id": "AGqnOkKVCvOf"
      }
    },
    {
      "cell_type": "code",
      "execution_count": 12,
      "metadata": {
        "id": "dojweX5g_ePO"
      },
      "outputs": [],
      "source": [
        "def calculator():\n",
        "\n",
        "    num1 = float(input(\"Enter first number: \"))\n",
        "    operator = input(\"Enter operation (+, -, *, /): \")\n",
        "    num2 = float(input(\"Enter second number: \"))\n",
        "\n",
        "    if operator == '+':\n",
        "        result = num1 + num2\n",
        "    elif operator == '-':\n",
        "        result = num1 - num2\n",
        "    elif operator == '*':\n",
        "        result = num1 * num2\n",
        "    elif operator == '/':\n",
        "        if num2 != 0:\n",
        "            result = num1 / num2\n",
        "        else:\n",
        "            return \"Cannot divide by zero!\"\n",
        "    else:\n",
        "        return \"Invalid operation!\"\n",
        "\n",
        "    #return \"Result: \" + str(result)\n",
        "    print(\"Result:\", result)"
      ]
    },
    {
      "cell_type": "code",
      "source": [
        "calculator()"
      ],
      "metadata": {
        "colab": {
          "base_uri": "https://localhost:8080/",
          "height": 90
        },
        "id": "-wxJ4gJeBoFG",
        "outputId": "cc01aa52-0088-41c7-e152-a547ef4af2dd"
      },
      "execution_count": 16,
      "outputs": [
        {
          "name": "stdout",
          "output_type": "stream",
          "text": [
            "Enter first number: 5\n",
            "Enter operation (+, -, *, /): /\n",
            "Enter second number: 0\n"
          ]
        },
        {
          "output_type": "execute_result",
          "data": {
            "text/plain": [
              "'Cannot divide by zero!'"
            ],
            "application/vnd.google.colaboratory.intrinsic+json": {
              "type": "string"
            }
          },
          "metadata": {},
          "execution_count": 16
        }
      ]
    },
    {
      "cell_type": "code",
      "source": [
        "def calculator1():\n",
        "\n",
        "    num1 = float(input(\"Enter first number: \"))\n",
        "    user_choice = input(\"Enter user choice (add,substraction,multiplication,divison): \")\n",
        "    num2 = float(input(\"Enter second number: \"))\n",
        "\n",
        "    if user_choice == \"add\":\n",
        "        result = num1 + num2\n",
        "    elif user_choice == 'substraction':\n",
        "        result = num1 - num2\n",
        "    elif user_choice == 'multiplication':\n",
        "        result = num1 * num2\n",
        "    elif user_choice == 'divison':\n",
        "        if num2 != 0:\n",
        "            result = num1 / num2\n",
        "        else:\n",
        "            return \"Cannot divide by zero!\"\n",
        "    else:\n",
        "        return \"Invalid operation!\"\n",
        "\n",
        "    #return \"Result: \" + str(result)\n",
        "    print(\"Result:\", result)"
      ],
      "metadata": {
        "id": "F4QoE022Dk46"
      },
      "execution_count": 21,
      "outputs": []
    },
    {
      "cell_type": "code",
      "source": [
        "calculator1()"
      ],
      "metadata": {
        "colab": {
          "base_uri": "https://localhost:8080/",
          "height": 90
        },
        "id": "oCinx2J7Eflo",
        "outputId": "ab13dd77-2970-4d5a-a98e-748d246cb939"
      },
      "execution_count": 24,
      "outputs": [
        {
          "name": "stdout",
          "output_type": "stream",
          "text": [
            "Enter first number: 5\n",
            "Enter user choice (add,substraction,multiplication,divison): subadd\n",
            "Enter second number: 5\n"
          ]
        },
        {
          "output_type": "execute_result",
          "data": {
            "text/plain": [
              "'Invalid operation!'"
            ],
            "application/vnd.google.colaboratory.intrinsic+json": {
              "type": "string"
            }
          },
          "metadata": {},
          "execution_count": 24
        }
      ]
    },
    {
      "cell_type": "code",
      "source": [
        "a = int(input('enter first number: '))\n",
        "b = int(input('enter second number: '))\n",
        "print('press 1 for addition\\npress 2 for substraction\\npress 3 for multiplication\\npress 4 for division')\n",
        "choice = int(input('enter your choice: '))\n",
        "\n",
        "if choice == 1:\n",
        "    add =  a+b\n",
        "    print(add)\n",
        "\n",
        "elif choice == 2:\n",
        "    substraction = a-b\n",
        "    print(substraction)\n",
        "\n",
        "elif choice == 3:\n",
        "    multiplication = a*b\n",
        "    print(multiplication)\n",
        "\n",
        "elif choice == 4:\n",
        "    if b != 0:\n",
        "        division = a/b\n",
        "        print(division)\n",
        "    else:\n",
        "        print('cannot divide by zero')\n",
        "else:\n",
        "    print('invalid choice')"
      ],
      "metadata": {
        "colab": {
          "base_uri": "https://localhost:8080/"
        },
        "id": "rHTAGQkHFjuR",
        "outputId": "69b0486e-69ed-4fd7-cec1-a5e0ea28f05c"
      },
      "execution_count": 41,
      "outputs": [
        {
          "output_type": "stream",
          "name": "stdout",
          "text": [
            "enter first number: 5\n",
            "enter second number: 5\n",
            "press 1 for addition\n",
            "press 2 for substraction\n",
            "press 3 for multiplication\n",
            "press 4 for division\n",
            "enter your choice: 6\n",
            "invalid choice\n"
          ]
        }
      ]
    },
    {
      "cell_type": "markdown",
      "source": [
        "# **Nested functions**"
      ],
      "metadata": {
        "id": "IHYePUFxP1Mx"
      }
    },
    {
      "cell_type": "code",
      "source": [
        "def bank():\n",
        "  cust_name = input(\"Enter Name: \")\n",
        "  acc_no = int(input(\"Enter Account Number: \"))\n",
        "  balance = float(input(\"Account Balance: \"))\n",
        "  print(\"Customer Name: \", cust_name)\n",
        "  print(\"Account Number: \" , acc_no)\n",
        "  print(\"Balance: \", balance)\n",
        "\n",
        "  def interest():\n",
        "    # Calculate interest as a decimal (10% = 0.10)\n",
        "    balance_with_interest = balance + (balance * 0.10)\n",
        "    print(\"Balance with interest: \", balance_with_interest)\n",
        "  interest()"
      ],
      "metadata": {
        "id": "HHoDWUZMP_ED"
      },
      "execution_count": 48,
      "outputs": []
    },
    {
      "cell_type": "code",
      "source": [
        "bank()"
      ],
      "metadata": {
        "colab": {
          "base_uri": "https://localhost:8080/"
        },
        "id": "xTKE3DW8QJyy",
        "outputId": "2583d8f1-393e-4864-8b3c-127f199c0799"
      },
      "execution_count": 43,
      "outputs": [
        {
          "output_type": "stream",
          "name": "stdout",
          "text": [
            "Enter Name: san\n",
            "Enter Account Number: 123\n",
            "Account Balance: 1414\n",
            "Customer Name:  san\n",
            "Account Number:  123\n",
            "Balance:  1414\n",
            "Balance with interest:  1555.4\n"
          ]
        }
      ]
    },
    {
      "cell_type": "markdown",
      "source": [
        "# **All in one function**"
      ],
      "metadata": {
        "id": "6CiLVG7kQXML"
      }
    },
    {
      "cell_type": "code",
      "source": [
        "def bank1():\n",
        "  cust_name = input(\"Enter Name: \")\n",
        "  acc_no = int(input(\"Enter Account Number: \"))\n",
        "  balance = float(input(\"Account balance: \"))\n",
        "  print(\"Customer Name: \", cust_name)\n",
        "  print(\"Account Number: \" , acc_no)\n",
        "  print(\"Balance: \", balance)\n",
        "  balance_with_interest = balance + (balance * 0.10)\n",
        "  print(\"Balance with interest: \", balance_with_interest)"
      ],
      "metadata": {
        "id": "t7XS8gGxQciS"
      },
      "execution_count": 46,
      "outputs": []
    },
    {
      "cell_type": "code",
      "source": [
        "bank1()"
      ],
      "metadata": {
        "colab": {
          "base_uri": "https://localhost:8080/"
        },
        "id": "bepMvuX-Qjfp",
        "outputId": "d27f8c41-9e2c-40f4-c067-70a299bd5c7b"
      },
      "execution_count": 47,
      "outputs": [
        {
          "output_type": "stream",
          "name": "stdout",
          "text": [
            "Enter Name: axs\n",
            "Enter Account Number: 111\n",
            "Account balance: 147147\n",
            "Customer Name:  axs\n",
            "Account Number:  111\n",
            "Balance:  147147.0\n",
            "Balance with interest:  161861.7\n"
          ]
        }
      ]
    }
  ]
}