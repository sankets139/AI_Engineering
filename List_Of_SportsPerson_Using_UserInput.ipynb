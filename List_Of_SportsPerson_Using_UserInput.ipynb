{
  "nbformat": 4,
  "nbformat_minor": 0,
  "metadata": {
    "colab": {
      "provenance": [],
      "authorship_tag": "ABX9TyP7slGjxdS18MOVWk3WWEHX",
      "include_colab_link": true
    },
    "kernelspec": {
      "name": "python3",
      "display_name": "Python 3"
    },
    "language_info": {
      "name": "python"
    }
  },
  "cells": [
    {
      "cell_type": "markdown",
      "metadata": {
        "id": "view-in-github",
        "colab_type": "text"
      },
      "source": [
        "<a href=\"https://colab.research.google.com/github/sankets139/GitDemo/blob/master/List_Of_SportsPerson_Using_UserInput.ipynb\" target=\"_parent\"><img src=\"https://colab.research.google.com/assets/colab-badge.svg\" alt=\"Open In Colab\"/></a>"
      ]
    },
    {
      "cell_type": "code",
      "execution_count": null,
      "metadata": {
        "colab": {
          "base_uri": "https://localhost:8080/"
        },
        "id": "UHzUzdMJT4NR",
        "outputId": "18c5c5cd-8b07-4cfc-fc8b-a937cd817174"
      },
      "outputs": [
        {
          "output_type": "stream",
          "name": "stdout",
          "text": [
            "Enter the number of sportspersons: 2\n",
            "Enter name of the sportsperson2: aa\n",
            "Enter name of the sportsperson3: bb\n",
            "\n",
            "List of Sportspersons: \n",
            "['aa', 'bb']\n"
          ]
        }
      ],
      "source": [
        "sportperson = []\n",
        "n = int(input(\"Enter the number of sportspersons: \"))\n",
        "\n",
        "for i in range(n):\n",
        "  name = input(\"Enter name of the sportsperson\" + str(i+n) + \": \")\n",
        "  sportperson.append(name)\n",
        "\n",
        "print(\"\\nList of Sportspersons: \")\n",
        "print(sportperson)"
      ]
    }
  ]
}